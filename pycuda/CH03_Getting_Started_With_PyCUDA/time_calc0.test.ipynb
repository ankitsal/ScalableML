{
 "cells": [
  {
   "cell_type": "code",
   "execution_count": 1,
   "metadata": {},
   "outputs": [],
   "source": [
    "import numpy as np\n",
    "import pycuda.autoinit\n",
    "from pycuda import gpuarray\n",
    "from time import time\n"
   ]
  },
  {
   "cell_type": "code",
   "execution_count": 2,
   "metadata": {},
   "outputs": [
    {
     "name": "stdout",
     "output_type": "stream",
     "text": [
      "total time to compute on CPU: 0.100050\n"
     ]
    }
   ],
   "source": [
    "host_data = np.float32( np.random.random(50000000) )\n",
    "\n",
    "t1 = time()\n",
    "host_data_2x =  host_data * np.float32(2)\n",
    "t2 = time()\n",
    "\n",
    "print 'total time to compute on CPU: %f' % (t2 - t1)\n"
   ]
  },
  {
   "cell_type": "code",
   "execution_count": 3,
   "metadata": {},
   "outputs": [
    {
     "name": "stdout",
     "output_type": "stream",
     "text": [
      "total time to compute on GPU: 0.267734\n",
      "Is the host computation the same as the GPU computation? : True\n"
     ]
    }
   ],
   "source": [
    "device_data = gpuarray.to_gpu(host_data)\n",
    "\n",
    "t1 = time()\n",
    "device_data_2x =  device_data * np.float32( 2 )\n",
    "t2 = time()\n",
    "\n",
    "from_device = device_data_2x.get()\n",
    "\n",
    "print 'total time to compute on GPU: %f' % (t2 - t1)\n",
    "print 'Is the host computation the same as the GPU computation? : {}'.format(np.allclose(from_device, host_data_2x) )\n"
   ]
  },
  {
   "cell_type": "code",
   "execution_count": null,
   "metadata": {},
   "outputs": [],
   "source": []
  },
  {
   "cell_type": "code",
   "execution_count": null,
   "metadata": {},
   "outputs": [],
   "source": []
  }
 ],
 "metadata": {
  "kernelspec": {
   "display_name": "Environment (conda_python2)",
   "language": "python",
   "name": "conda_python2"
  },
  "language_info": {
   "codemirror_mode": {
    "name": "ipython",
    "version": 2
   },
   "file_extension": ".py",
   "mimetype": "text/x-python",
   "name": "python",
   "nbconvert_exporter": "python",
   "pygments_lexer": "ipython2",
   "version": "2.7.15"
  }
 },
 "nbformat": 4,
 "nbformat_minor": 2
}

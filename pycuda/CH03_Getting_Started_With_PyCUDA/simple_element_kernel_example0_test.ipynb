{
 "cells": [
  {
   "cell_type": "code",
   "execution_count": 1,
   "metadata": {},
   "outputs": [],
   "source": [
    "import numpy as np\n",
    "import pycuda.autoinit\n",
    "from pycuda import gpuarray\n",
    "from time import time\n",
    "from pycuda.elementwise import ElementwiseKernel"
   ]
  },
  {
   "cell_type": "code",
   "execution_count": 2,
   "metadata": {},
   "outputs": [],
   "source": [
    "host_data = np.float32( np.random.random(50000000) )"
   ]
  },
  {
   "cell_type": "code",
   "execution_count": 3,
   "metadata": {},
   "outputs": [],
   "source": [
    "gpu_2x_ker = ElementwiseKernel(\n",
    "\"float *in, float *out\",\n",
    "\"out[i] = 2*in[i];\",\n",
    "\"gpu_2x_ker\")"
   ]
  },
  {
   "cell_type": "code",
   "execution_count": 4,
   "metadata": {},
   "outputs": [],
   "source": [
    "def speedcomparison():\n",
    "    t1 = time()\n",
    "    host_data_2x =  host_data * np.float32(2)\n",
    "    t2 = time()\n",
    "    print 'total time to compute on CPU: %f' % (t2 - t1)\n",
    "    device_data = gpuarray.to_gpu(host_data)\n",
    "    # allocate memory for output\n",
    "    device_data_2x = gpuarray.empty_like(device_data)\n",
    "    t1 = time()\n",
    "    gpu_2x_ker(device_data, device_data_2x)\n",
    "    t2 = time()\n",
    "    from_device = device_data_2x.get()\n",
    "    print 'total time to compute on GPU: %f' % (t2 - t1)\n",
    "    print 'Is the host computation the same as the GPU computation? : {}'.format(np.allclose(from_device, host_data_2x) )"
   ]
  },
  {
   "cell_type": "code",
   "execution_count": 5,
   "metadata": {},
   "outputs": [
    {
     "name": "stdout",
     "output_type": "stream",
     "text": [
      "total time to compute on CPU: 0.100631\n",
      "total time to compute on GPU: 0.284259\n",
      "Is the host computation the same as the GPU computation? : True\n"
     ]
    }
   ],
   "source": [
    "speedcomparison()"
   ]
  },
  {
   "cell_type": "code",
   "execution_count": null,
   "metadata": {},
   "outputs": [],
   "source": []
  }
 ],
 "metadata": {
  "kernelspec": {
   "display_name": "Environment (conda_python2)",
   "language": "python",
   "name": "conda_python2"
  },
  "language_info": {
   "codemirror_mode": {
    "name": "ipython",
    "version": 2
   },
   "file_extension": ".py",
   "mimetype": "text/x-python",
   "name": "python",
   "nbconvert_exporter": "python",
   "pygments_lexer": "ipython2",
   "version": "2.7.15"
  }
 },
 "nbformat": 4,
 "nbformat_minor": 2
}

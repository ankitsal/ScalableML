{
 "cells": [
  {
   "cell_type": "code",
   "execution_count": 1,
   "metadata": {},
   "outputs": [],
   "source": [
    "\n",
    "\n",
    "from time import time\n",
    "import matplotlib\n",
    "#this will prevent the figure from popping up\n",
    "matplotlib.use('Agg')\n",
    "from matplotlib import pyplot as plt\n",
    "import numpy as np\n",
    "import pycuda.autoinit\n",
    "from pycuda import gpuarray\n",
    "from pycuda.elementwise import ElementwiseKernel\n",
    "%matplotlib inline"
   ]
  },
  {
   "cell_type": "code",
   "execution_count": 2,
   "metadata": {},
   "outputs": [],
   "source": [
    "mandel_ker = ElementwiseKernel(\n",
    "\"pycuda::complex<float> *lattice, float *mandelbrot_graph, int max_iters, float upper_bound\",\n",
    "\"\"\"\n",
    "mandelbrot_graph[i] = 1;\n",
    "\n",
    "pycuda::complex<float> c = lattice[i]; \n",
    "pycuda::complex<float> z(0,0);\n",
    "\n",
    "for (int j = 0; j < max_iters; j++)\n",
    "    {\n",
    "    \n",
    "     z = z*z + c;\n",
    "     \n",
    "     if(abs(z) > upper_bound)\n",
    "         {\n",
    "          mandelbrot_graph[i] = 0;\n",
    "          break;\n",
    "         }\n",
    "\n",
    "    }\n",
    "         \n",
    "\"\"\",\n",
    "\"mandel_ker\")\n"
   ]
  },
  {
   "cell_type": "code",
   "execution_count": 3,
   "metadata": {},
   "outputs": [],
   "source": [
    "def gpu_mandelbrot(width, height, real_low, real_high, imag_low, imag_high, max_iters, upper_bound):\n",
    "\n",
    "    # we set up our complex lattice as such\n",
    "    real_vals = np.matrix(np.linspace(real_low, real_high, width), dtype=np.complex64)\n",
    "    imag_vals = np.matrix(np.linspace( imag_high, imag_low, height), dtype=np.complex64) * 1j\n",
    "    mandelbrot_lattice = np.array(real_vals + imag_vals.transpose(), dtype=np.complex64)    \n",
    "    \n",
    "    # copy complex lattice to the GPU\n",
    "    mandelbrot_lattice_gpu = gpuarray.to_gpu(mandelbrot_lattice)\n",
    "\n",
    "    # allocate an empty array on the GPU\n",
    "    mandelbrot_graph_gpu = gpuarray.empty(shape=mandelbrot_lattice.shape, dtype=np.float32)\n",
    "\n",
    "    mandel_ker( mandelbrot_lattice_gpu, mandelbrot_graph_gpu, np.int32(max_iters), np.float32(upper_bound))\n",
    "              \n",
    "    mandelbrot_graph = mandelbrot_graph_gpu.get()\n",
    "    \n",
    "    return mandelbrot_graph\n"
   ]
  },
  {
   "cell_type": "code",
   "execution_count": 5,
   "metadata": {},
   "outputs": [
    {
     "name": "stdout",
     "output_type": "stream",
     "text": [
      "It took 0.0130369663239 seconds to calculate the Mandelbrot graph.\n",
      "It took 0.112734079361 seconds to dump the image.\n"
     ]
    },
    {
     "data": {
      "image/png": "[encoded data removed]",
      "text/plain": [
       "<Figure size 432x288 with 1 Axes>"
      ]
     },
     "metadata": {},
     "output_type": "display_data"
    }
   ],
   "source": [
    "t1 = time()\n",
    "mandel = gpu_mandelbrot(512,512,-2,2,-2,2,256, 2)\n",
    "t2 = time()\n",
    "\n",
    "mandel_time = t2 - t1\n",
    "\n",
    "t1 = time()\n",
    "fig = plt.figure(1)\n",
    "plt.imshow(mandel, extent=(-2, 2, -2, 2))\n",
    "plt.savefig('mandelbrot.png', dpi=fig.dpi)\n",
    "t2 = time()\n",
    "\n",
    "dump_time = t2 - t1\n",
    "\n",
    "print 'It took {} seconds to calculate the Mandelbrot graph.'.format(mandel_time)\n",
    "print 'It took {} seconds to dump the image.'.format(dump_time)\n"
   ]
  },
  {
   "cell_type": "code",
   "execution_count": null,
   "metadata": {},
   "outputs": [],
   "source": []
  }
 ],
 "metadata": {
  "kernelspec": {
   "display_name": "Environment (conda_python2)",
   "language": "python",
   "name": "conda_python2"
  },
  "language_info": {
   "codemirror_mode": {
    "name": "ipython",
    "version": 2
   },
   "file_extension": ".py",
   "mimetype": "text/x-python",
   "name": "python",
   "nbconvert_exporter": "python",
   "pygments_lexer": "ipython2",
   "version": "2.7.15"
  }
 },
 "nbformat": 4,
 "nbformat_minor": 2
}

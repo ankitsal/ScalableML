{
 "cells": [
  {
   "cell_type": "code",
   "execution_count": 1,
   "metadata": {},
   "outputs": [],
   "source": [
    "# Conway's game of life in Python / CUDA C\n",
    "# written by Brian Tuomanen for \"Hands on GPU Programming with Python and CUDA\"\n",
    "\n",
    "import pycuda.autoinit\n",
    "import pycuda.driver as drv\n",
    "from pycuda import gpuarray\n",
    "from pycuda.compiler import SourceModule\n",
    "import numpy as np\n",
    "import matplotlib.pyplot as plt \n",
    "import matplotlib.animation as animation\n",
    "%matplotlib inline\n"
   ]
  },
  {
   "cell_type": "code",
   "execution_count": 2,
   "metadata": {},
   "outputs": [],
   "source": [
    "ker = SourceModule(\"\"\"\n",
    "#define _X  ( threadIdx.x + blockIdx.x * blockDim.x )\n",
    "#define _Y  ( threadIdx.y + blockIdx.y * blockDim.y )\n",
    "\n",
    "#define _WIDTH  ( blockDim.x * gridDim.x )\n",
    "#define _HEIGHT ( blockDim.y * gridDim.y  )\n",
    "\n",
    "#define _XM(x)  ( (x + _WIDTH) % _WIDTH )\n",
    "#define _YM(y)  ( (y + _HEIGHT) % _HEIGHT )\n",
    "\n",
    "#define _INDEX(x,y)  ( _XM(x)  + _YM(y) * _WIDTH )\n",
    "\n",
    "// return the number of living neighbors for a given cell                \n",
    "__device__ int nbrs(int x, int y, int * in)\n",
    "{\n",
    "     return ( in[ _INDEX(x -1, y+1) ] + in[ _INDEX(x-1, y) ] + in[ _INDEX(x-1, y-1) ] \\\n",
    "                   + in[ _INDEX(x, y+1)] + in[_INDEX(x, y - 1)] \\\n",
    "                   + in[ _INDEX(x+1, y+1) ] + in[ _INDEX(x+1, y) ] + in[ _INDEX(x+1, y-1) ] );\n",
    "}\n",
    "\n",
    "__global__ void conway_ker(int * lattice_out, int * lattice  )\n",
    "{\n",
    "   // x, y are the appropriate values for the cell covered by this thread\n",
    "   int x = _X, y = _Y;\n",
    "   \n",
    "   // count the number of neighbors around the current cell\n",
    "   int n = nbrs(x, y, lattice);\n",
    "                   \n",
    "    \n",
    "    // if the current cell is alive, then determine if it lives or dies for the next generation.\n",
    "    if ( lattice[_INDEX(x,y)] == 1)\n",
    "       switch(n)\n",
    "       {\n",
    "          // if the cell is alive: it remains alive only if it has 2 or 3 neighbors.\n",
    "          case 2:\n",
    "          case 3: lattice_out[_INDEX(x,y)] = 1;\n",
    "                  break;\n",
    "          default: lattice_out[_INDEX(x,y)] = 0;                   \n",
    "       }\n",
    "    else if( lattice[_INDEX(x,y)] == 0 )\n",
    "         switch(n)\n",
    "         {\n",
    "            // a dead cell comes to life only if it has 3 neighbors that are alive.\n",
    "            case 3: lattice_out[_INDEX(x,y)] = 1;\n",
    "                    break;\n",
    "            default: lattice_out[_INDEX(x,y)] = 0;         \n",
    "         }\n",
    "         \n",
    "}\n",
    "\"\"\")\n"
   ]
  },
  {
   "cell_type": "code",
   "execution_count": 3,
   "metadata": {},
   "outputs": [],
   "source": [
    "conway_ker = ker.get_function(\"conway_ker\")"
   ]
  },
  {
   "cell_type": "code",
   "execution_count": 4,
   "metadata": {},
   "outputs": [],
   "source": [
    "def update_gpu(frameNum, img, newLattice_gpu, lattice_gpu, N):\n",
    "    \n",
    "    conway_ker(  newLattice_gpu, lattice_gpu, grid=(N/32,N/32,1), block=(32,32,1)   )\n",
    "    \n",
    "    img.set_data(newLattice_gpu.get() )\n",
    "    \n",
    "    \n",
    "    lattice_gpu[:] = newLattice_gpu[:]\n",
    "    \n",
    "    return img\n"
   ]
  },
  {
   "cell_type": "code",
   "execution_count": 5,
   "metadata": {},
   "outputs": [
    {
     "data": {
      "image/png": "[encoded data removed]",
      "text/plain": [
       "<Figure size 432x288 with 1 Axes>"
      ]
     },
     "metadata": {},
     "output_type": "display_data"
    }
   ],
   "source": [
    "# set lattice size\n",
    "N = 128\n",
    "\n",
    "lattice = np.int32( np.random.choice([1,0], N*N, p=[0.25, 0.75]).reshape(N, N) )\n",
    "lattice_gpu = gpuarray.to_gpu(lattice)\n",
    "\n",
    "newLattice_gpu = gpuarray.empty_like(lattice_gpu)        \n",
    "\n",
    "fig, ax = plt.subplots()\n",
    "img = ax.imshow(lattice_gpu.get(), interpolation='nearest')\n",
    "ani = animation.FuncAnimation(fig, update_gpu, fargs=(img, newLattice_gpu, lattice_gpu, N, ) , interval=0, frames=1000, save_count=1000)    \n",
    "\n",
    "plt.show()\n"
   ]
  },
  {
   "cell_type": "code",
   "execution_count": null,
   "metadata": {},
   "outputs": [],
   "source": []
  }
 ],
 "metadata": {
  "kernelspec": {
   "display_name": "Environment (conda_python2)",
   "language": "python",
   "name": "conda_python2"
  },
  "language_info": {
   "codemirror_mode": {
    "name": "ipython",
    "version": 2
   },
   "file_extension": ".py",
   "mimetype": "text/x-python",
   "name": "python",
   "nbconvert_exporter": "python",
   "pygments_lexer": "ipython2",
   "version": "2.7.15"
  }
 },
 "nbformat": 4,
 "nbformat_minor": 2
}

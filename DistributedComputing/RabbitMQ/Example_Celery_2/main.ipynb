{
 "cells": [
  {
   "cell_type": "code",
   "execution_count": 2,
   "metadata": {},
   "outputs": [],
   "source": [
    "import random\n",
    "import time\n",
    "from celery import group\n",
    "from mergesort import sort, merge\n"
   ]
  },
  {
   "cell_type": "code",
   "execution_count": 3,
   "metadata": {},
   "outputs": [],
   "source": [
    "# Create a list of 1,000,000 elements in random order.\n",
    "sequence = list(range(1000000))\n",
    "random.shuffle(sequence)\n"
   ]
  },
  {
   "cell_type": "code",
   "execution_count": 11,
   "metadata": {},
   "outputs": [
    {
     "name": "stdout",
     "output_type": "stream",
     "text": [
      "Distributed mergesort took 8.58s\n"
     ]
    }
   ],
   "source": [
    "\n",
    "t0 = time.time()\n",
    "\n",
    "# Split the sequence in a number of chunks and process those\n",
    "# independently.\n",
    "n = 4\n",
    "l = len(sequence) // n\n",
    "subseqs = [sequence[i * l:(i + 1) * l] for i in range(n - 1)]\n",
    "subseqs.append(sequence[(n - 1) * l:])\n",
    "\n",
    "# Ask the Celery workers to sort each sub-sequence.\n",
    "# Use a group to run the individual independent tasks as a unit of work.\n",
    "# celery.group creates a group of tasks to be executed in parallel.\n",
    "\n",
    "lazy_partials = group(sort.s(seq) for seq in subseqs)() # call remote workers to run the sort task \n",
    "\n",
    "partials = lazy_partials.get() # will wait for the tasks to return\n",
    "\n",
    "# Merge all the individual sorted sub-lists into our final result.\n",
    "result = partials[0]\n",
    "for partial in partials[1:]:\n",
    "    result = merge(result, partial) # local merge\n",
    "\n",
    "dt = time.time() - t0\n",
    "print('Distributed mergesort took %.02fs' % (dt))\n",
    "\n"
   ]
  },
  {
   "cell_type": "code",
   "execution_count": 12,
   "metadata": {},
   "outputs": [
    {
     "name": "stdout",
     "output_type": "stream",
     "text": [
      "Local mergesort took 21.97s\n"
     ]
    }
   ],
   "source": [
    "# Do the same thing locally and compare the times.\n",
    "t0 = time.time()\n",
    "truth = sort(sequence)\n",
    "dt = time.time() - t0\n",
    "print('Local mergesort took %.02fs' % (dt))\n",
    "\n"
   ]
  },
  {
   "cell_type": "code",
   "execution_count": 6,
   "metadata": {},
   "outputs": [],
   "source": [
    "# Final sanity checks.\n",
    "assert result == truth\n",
    "assert result == sorted(sequence)\n"
   ]
  },
  {
   "cell_type": "code",
   "execution_count": 10,
   "metadata": {},
   "outputs": [
    {
     "data": {
      "text/plain": [
       "250000"
      ]
     },
     "execution_count": 10,
     "metadata": {},
     "output_type": "execute_result"
    }
   ],
   "source": [
    "len(partials[0])"
   ]
  },
  {
   "cell_type": "code",
   "execution_count": 17,
   "metadata": {},
   "outputs": [
    {
     "name": "stdout",
     "output_type": "stream",
     "text": [
      " took 0.85s\n"
     ]
    }
   ],
   "source": [
    "t0 = time.time()\n",
    "lazy_partials = group(sort.s(seq) for seq in subseqs)() # call remote workers to run the sort task \n",
    "dt = time.time() - t0\n",
    "print(' took %.02fs' % (dt))\n"
   ]
  },
  {
   "cell_type": "code",
   "execution_count": 18,
   "metadata": {},
   "outputs": [
    {
     "name": "stdout",
     "output_type": "stream",
     "text": [
      "took 5.71s\n"
     ]
    }
   ],
   "source": [
    "t0 = time.time()\n",
    "partials = lazy_partials.get() # will wait for the tasks to return\n",
    "dt = time.time() - t0\n",
    "print('took %.02fs' % (dt))\n"
   ]
  },
  {
   "cell_type": "code",
   "execution_count": null,
   "metadata": {},
   "outputs": [],
   "source": []
  }
 ],
 "metadata": {
  "kernelspec": {
   "display_name": "Environment (conda_python3)",
   "language": "python",
   "name": "conda_python3"
  },
  "language_info": {
   "codemirror_mode": {
    "name": "ipython",
    "version": 3
   },
   "file_extension": ".py",
   "mimetype": "text/x-python",
   "name": "python",
   "nbconvert_exporter": "python",
   "pygments_lexer": "ipython3",
   "version": "3.6.5"
  }
 },
 "nbformat": 4,
 "nbformat_minor": 2
}

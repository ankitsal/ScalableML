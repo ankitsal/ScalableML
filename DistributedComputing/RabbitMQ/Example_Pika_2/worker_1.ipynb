{
 "cells": [
  {
   "cell_type": "markdown",
   "metadata": {},
   "source": [
    "### For more details, see here: https://www.rabbitmq.com/tutorials/tutorial-two-python.html"
   ]
  },
  {
   "cell_type": "code",
   "execution_count": 1,
   "metadata": {},
   "outputs": [],
   "source": [
    "import pika\n",
    "import time\n"
   ]
  },
  {
   "cell_type": "code",
   "execution_count": 2,
   "metadata": {},
   "outputs": [],
   "source": [
    "credentials = pika.PlainCredentials('myguest', 'myguestpwd')\n",
    "\n",
    "#URL='localhost'\n",
    "URL='PROD-JOB-844fd7d2202ac4da.elb.us-east-2.amazonaws.com'\n",
    "parameters =  pika.ConnectionParameters(URL, port=5672, credentials=credentials)\n",
    "connection = pika.BlockingConnection(parameters)\n",
    "channel = connection.channel()\n",
    "    \n"
   ]
  },
  {
   "cell_type": "code",
   "execution_count": null,
   "metadata": {},
   "outputs": [
    {
     "name": "stdout",
     "output_type": "stream",
     "text": [
      " [*] Waiting for messages. To exit press CTRL+C\n",
      " [x] Received b'F i r s t .'\n",
      " [x] Done\n",
      " [x] Received b'T h i r d . . .'\n",
      " [x] Done\n",
      " [x] Received b'F i f t h . . . . .'\n",
      " [x] Done\n",
      " [x] Received b'S e v e n t h . . . . . . .'\n",
      " [x] Done\n"
     ]
    }
   ],
   "source": [
    "\n",
    "channel.queue_declare(queue='task_queue', durable=True)\n",
    "print(' [*] Waiting for messages. To exit press CTRL+C')\n",
    "\n",
    "def callback(ch, method, properties, body):\n",
    "    print(\" [x] Received %r\" % body)\n",
    "    time.sleep(body.count(b'.'))\n",
    "    print(\" [x] Done\")\n",
    "    ch.basic_ack(delivery_tag = method.delivery_tag)\n",
    "\n",
    "#This tells RabbitMQ not to give more than one message to a worker at a time. \n",
    "#Or, in other words, don't dispatch a new message to a worker until it has processed and acknowledged the previous one. \n",
    "# Instead,  it will dispatch it to the next worker that is not still busy    \n",
    "\n",
    "channel.basic_qos(prefetch_count=1)\n",
    "#channel.basic_consume(callback,queue='task_queue')\n",
    "channel.basic_consume(queue='task_queue', on_message_callback=callback)\n",
    "\n",
    "channel.start_consuming()"
   ]
  },
  {
   "cell_type": "markdown",
   "metadata": {},
   "source": [
    "### Message Acknowledments\n",
    "\n",
    "Doing a task can take a few seconds. You may wonder what happens if one of the consumers starts a long task and dies with it only partly done. With our current code once RabbitMQ delivers message to the consumer it immediately marks it for deletion. In this case, if you kill a worker we will lose the message it was just processing. We'll also lose all the messages that were dispatched to this particular worker but were not yet handled.\n",
    "\n",
    "But we don't want to lose any tasks. If a worker dies, we'd like the task to be delivered to another worker.\n",
    "\n",
    "In order to make sure a message is never lost, RabbitMQ supports message acknowledgments. An ack(nowledgement) is sent back by the consumer to tell RabbitMQ that a particular message had been received, processed and that RabbitMQ is free to delete it.\n",
    "\n",
    "If a consumer dies (its channel is closed, connection is closed, or TCP connection is lost) without sending an ack, RabbitMQ will understand that a message wasn't processed fully and will re-queue it. If there are other consumers online at the same time, it will then quickly redeliver it to another consumer. That way you can be sure that no message is lost, even if the workers occasionally die.\n",
    "\n",
    "There aren't any message timeouts; RabbitMQ will redeliver the message when the consumer dies. It's fine even if processing a message takes a very, very long time.\n",
    "\n",
    "Manual message acknowledgments are turned on by default. In previous examples we explicitly turned them off via the auto_ack=True flag. It's time to remove this flag and send a proper acknowledgment from the worker, once we're done with a task."
   ]
  },
  {
   "cell_type": "markdown",
   "metadata": {},
   "source": [
    "Using this code we can be sure that even if you kill a worker using CTRL+C while it was processing a message, nothing will be lost. Soon after the worker dies all unacknowledged messages will be redelivered.\n",
    "\n",
    "Acknowledgement must be sent on the same channel that received the delivery. Attempts to acknowledge using a different channel will result in a channel-level protocol exception."
   ]
  },
  {
   "cell_type": "markdown",
   "metadata": {},
   "source": [
    "#### Forgotten acknowledgment\n",
    "\n",
    "It's a common mistake to miss the basic_ack. It's an easy error, but the consequences are serious. Messages will be redelivered when your client quits (which may look like random redelivery), but RabbitMQ will eat more and more memory as it won't be able to release any unacked messages.\n",
    "\n",
    "In order to debug this kind of mistake you can use rabbitmqctl to print the messages_unacknowledged field:\n",
    "\n",
    "sudo rabbitmqctl list_queues name messages_ready messages_unacknowledged"
   ]
  },
  {
   "cell_type": "code",
   "execution_count": 1,
   "metadata": {},
   "outputs": [
    {
     "name": "stdout",
     "output_type": "stream",
     "text": [
      "Listing queues ...\r\n",
      "hello\t5\t0\r\n",
      "hello2\t0\t0\r\n",
      "hello_local\t0\t0\r\n"
     ]
    }
   ],
   "source": [
    "!sudo rabbitmqctl list_queues name messages_ready messages_unacknowledged"
   ]
  },
  {
   "cell_type": "markdown",
   "metadata": {},
   "source": [
    "### Message durability\n",
    "\n",
    "We have learned how to make sure that even if the consumer dies, the task isn't lost. But our tasks will still be lost if RabbitMQ server stops.\n",
    "\n",
    "When RabbitMQ quits or crashes it will forget the queues and messages unless you tell it not to. Two things are required to make sure that messages aren't lost: we need to mark both the queue and messages as durable.\n",
    "\n",
    "First, we need to make sure that RabbitMQ will never lose our queue. In order to do so, we need to declare it as durable:\n",
    "\n",
    "channel.queue_declare(queue='hello', durable=True)\n",
    "\n",
    "Although this command is correct by itself, it won't work in our setup. That's because we've already defined a queue called hello which is not durable. RabbitMQ doesn't allow you to redefine an existing queue with different parameters and will return an error to any program that tries to do that. But there is a quick workaround - let's declare a queue with different name, for example task_queue:\n",
    "\n",
    "channel.queue_declare(queue='task_queue', durable=True)\n",
    "\n",
    "This queue_declare change needs to be applied to both the producer and consumer code.\n",
    "\n",
    "At that point we're sure that the task_queue queue won't be lost even if RabbitMQ restarts. Now we need to mark our messages as persistent - by supplying a delivery_mode property with a value 2."
   ]
  },
  {
   "cell_type": "markdown",
   "metadata": {},
   "source": [
    "#### Note on message persistence\n",
    "Marking messages as persistent doesn't fully guarantee that a message won't be lost. Although it tells RabbitMQ to save the message to disk, there is still a short time window when RabbitMQ has accepted a message and hasn't saved it yet. Also, RabbitMQ doesn't do fsync(2) for every message -- it may be just saved to cache and not really written to the disk. The persistence guarantees aren't strong, but it's more than enough for our simple task queue. If you need a stronger guarantee then you can use publisher confirms."
   ]
  },
  {
   "cell_type": "markdown",
   "metadata": {},
   "source": [
    "### Fair dispatch\n",
    "\n",
    "You might have noticed that the dispatching still doesn't work exactly as we want. For example in a situation with two workers, when all odd messages are heavy and even messages are light, one worker will be constantly busy and the other one will do hardly any work. Well, RabbitMQ doesn't know anything about that and will still dispatch messages evenly.\n",
    "\n",
    "This happens because RabbitMQ just dispatches a message when the message enters the queue. It doesn't look at the number of unacknowledged messages for a consumer. It just blindly dispatches every n-th message to the n-th consumer.\n",
    "\n",
    "\n",
    "In order to defeat that we can use the basic.qos method with the prefetch_count=1 setting. This tells RabbitMQ not to give more than one message to a worker at a time. Or, in other words, don't dispatch a new message to a worker until it has processed and acknowledged the previous one. Instead, it will dispatch it to the next worker that is not still busy.\n",
    "\n",
    "channel.basic_qos(prefetch_count=1)"
   ]
  },
  {
   "cell_type": "markdown",
   "metadata": {},
   "source": [
    "#### Note about queue size\n",
    "\n",
    "If all the workers are busy, your queue can fill up. You will want to keep an eye on that, and maybe add more workers, or use message TTL."
   ]
  },
  {
   "cell_type": "code",
   "execution_count": null,
   "metadata": {},
   "outputs": [],
   "source": []
  }
 ],
 "metadata": {
  "kernelspec": {
   "display_name": "Environment (conda_python3)",
   "language": "python",
   "name": "conda_python3"
  },
  "language_info": {
   "codemirror_mode": {
    "name": "ipython",
    "version": 3
   },
   "file_extension": ".py",
   "mimetype": "text/x-python",
   "name": "python",
   "nbconvert_exporter": "python",
   "pygments_lexer": "ipython3",
   "version": "3.6.5"
  }
 },
 "nbformat": 4,
 "nbformat_minor": 2
}

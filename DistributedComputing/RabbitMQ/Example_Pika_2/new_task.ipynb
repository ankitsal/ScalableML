{
 "cells": [
  {
   "cell_type": "markdown",
   "metadata": {},
   "source": [
    "# Using rabbitmq-server Message Broker with Amazon AWS"
   ]
  },
  {
   "cell_type": "markdown",
   "metadata": {},
   "source": [
    "### Installation"
   ]
  },
  {
   "cell_type": "markdown",
   "metadata": {},
   "source": [
    "check notes on http://kronosapiens.github.io/blog/2015/04/28/rabbitmq-aws.html"
   ]
  },
  {
   "cell_type": "markdown",
   "metadata": {},
   "source": [
    "Install rabbitmq-server server first:\n",
    "sudo apt-get install rabbitmq-server"
   ]
  },
  {
   "cell_type": "markdown",
   "metadata": {},
   "source": [
    "check if the rabbitmq server is up and runnning: sudo rabbitmqctl status"
   ]
  },
  {
   "cell_type": "markdown",
   "metadata": {},
   "source": [
    "RabbitMQ comes with a “guest” user out of the box, but this user is not configured to accept external requests. This would be fine if you were planning on sending and consuming messages locally, but we are not.\n",
    "\n",
    "The easiest way to configure RabbitMQ to accept external requests is to create a new user. Go ahead and run the following. (Feel free to chahnge the myguest username and password to anytihng you like):"
   ]
  },
  {
   "cell_type": "markdown",
   "metadata": {},
   "source": [
    "sudo rabbitmqctl add_user myguest myguestpwd"
   ]
  },
  {
   "cell_type": "markdown",
   "metadata": {},
   "source": [
    "sudo rabbitmqctl set_permissions -p / myguest \".*\" \".*\" \".*\""
   ]
  },
  {
   "cell_type": "markdown",
   "metadata": {},
   "source": [
    "This will create a new user on the RabbitMQ server. We will use this username and password to configure the app-layer instance to send messages to Rabbit.\n",
    "\n",
    "Let’s check to make sure the user was created correctly:"
   ]
  },
  {
   "cell_type": "markdown",
   "metadata": {},
   "source": [
    "sudo rabbitmqctl list_users"
   ]
  },
  {
   "cell_type": "code",
   "execution_count": null,
   "metadata": {},
   "outputs": [],
   "source": [
    "#!sudo rabbitmqctl add_user myguest myguestpwd\n",
    "#!sudo rabbitmqctl set_permissions -p / myguest \".\" \".\" \".*\""
   ]
  },
  {
   "cell_type": "code",
   "execution_count": 1,
   "metadata": {},
   "outputs": [],
   "source": [
    "#!pip install pika"
   ]
  },
  {
   "cell_type": "code",
   "execution_count": 1,
   "metadata": {},
   "outputs": [],
   "source": [
    "import pika\n",
    "import sys"
   ]
  },
  {
   "cell_type": "code",
   "execution_count": 2,
   "metadata": {},
   "outputs": [
    {
     "data": {
      "text/plain": [
       "'1.0.0'"
      ]
     },
     "execution_count": 2,
     "metadata": {},
     "output_type": "execute_result"
    }
   ],
   "source": [
    "pika.__version__"
   ]
  },
  {
   "cell_type": "markdown",
   "metadata": {},
   "source": [
    "In this one we'll create a **Work Queue** that will be used to distribute time-consuming tasks among multiple workers.\n",
    "\n",
    "The main idea behind Work Queues (aka: Task Queues) is to avoid doing a resource-intensive task immediately and having to wait for it to complete. Instead we schedule the task to be done later. We encapsulate a task as a message and send it to the queue. A worker process running in the background will pop the tasks and eventually execute the job. When you run many workers the tasks will be shared between them.\n",
    "\n",
    "\n",
    "In the previous part of this tutorial we sent a message containing \"Hello World!\". Now we'll be sending strings that stand for complex tasks. We don't have a real-world task, like images to be resized or pdf files to be rendered, so let's fake it by just pretending we're busy - by using the time.sleep() function. We'll take the number of dots in the string as its complexity; every dot will account for one second of \"work\". For example, a fake task described by Hello... will take three seconds."
   ]
  },
  {
   "cell_type": "markdown",
   "metadata": {},
   "source": [
    "### Example for sending messages. They will be consumbed by workers  "
   ]
  },
  {
   "cell_type": "code",
   "execution_count": 3,
   "metadata": {},
   "outputs": [],
   "source": [
    "def send_message(messagetxt):\n",
    "    \n",
    "    credentials = pika.PlainCredentials('myguest', 'myguestpwd')\n",
    "    \n",
    "    #URL='localhost'\n",
    "    URL='PROD-JOB-844fd7d2202ac4da.elb.us-east-2.amazonaws.com'\n",
    "    parameters =  pika.ConnectionParameters(URL, port=5672, credentials=credentials)\n",
    "    connection = pika.BlockingConnection(parameters)\n",
    "    channel = connection.channel()\n",
    "    \n",
    "    channel.queue_declare(queue='task_queue', durable=True)\n",
    "    message = ' '.join(messagetxt) or \"Hello World!\"\n",
    "    \n",
    "    channel.basic_publish(exchange='',\n",
    "                      routing_key='task_queue',\n",
    "                      body=message,\n",
    "                      properties=pika.BasicProperties(\n",
    "                         delivery_mode = 2, # make message persistent\n",
    "                      ))\n",
    "    print(\" [x] Sent %r\" % message)\n",
    "    connection.close()\n",
    "    "
   ]
  },
  {
   "cell_type": "markdown",
   "metadata": {},
   "source": [
    "By default, RabbitMQ will send each message to the next consumer, in sequence. This way of distributing messages is called **round-robin**. Try this out with two, three or more workers."
   ]
  },
  {
   "cell_type": "code",
   "execution_count": 4,
   "metadata": {},
   "outputs": [
    {
     "name": "stdout",
     "output_type": "stream",
     "text": [
      " [x] Sent 'F i r s t .'\n",
      " [x] Sent 'S e c o n d . .'\n",
      " [x] Sent 'T h i r d . . .'\n",
      " [x] Sent 'F o u r t h . . . .'\n",
      " [x] Sent 'F i f t h . . . . .'\n",
      " [x] Sent 'S i x t h . . . . . .'\n",
      " [x] Sent 'S e v e n t h . . . . . . .'\n"
     ]
    }
   ],
   "source": [
    "send_message('First.')\n",
    "send_message('Second..')\n",
    "send_message('Third...')\n",
    "send_message('Fourth....')\n",
    "send_message('Fifth.....')\n",
    "send_message('Sixth......')\n",
    "send_message('Seventh.......')\n",
    "\n",
    "\n"
   ]
  },
  {
   "cell_type": "code",
   "execution_count": null,
   "metadata": {},
   "outputs": [],
   "source": []
  }
 ],
 "metadata": {
  "kernelspec": {
   "display_name": "Environment (conda_python3)",
   "language": "python",
   "name": "conda_python3"
  },
  "language_info": {
   "codemirror_mode": {
    "name": "ipython",
    "version": 3
   },
   "file_extension": ".py",
   "mimetype": "text/x-python",
   "name": "python",
   "nbconvert_exporter": "python",
   "pygments_lexer": "ipython3",
   "version": "3.6.5"
  }
 },
 "nbformat": 4,
 "nbformat_minor": 2
}

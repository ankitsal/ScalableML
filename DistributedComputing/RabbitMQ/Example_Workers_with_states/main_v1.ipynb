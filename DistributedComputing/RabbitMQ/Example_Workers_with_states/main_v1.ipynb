{
 "cells": [
  {
   "cell_type": "code",
   "execution_count": 1,
   "metadata": {},
   "outputs": [],
   "source": [
    "#!pip install celery"
   ]
  },
  {
   "cell_type": "code",
   "execution_count": 2,
   "metadata": {},
   "outputs": [],
   "source": [
    "#!sudo rabbitmqctl add_user barnabas barnabaspwd\n",
    "#!sudo rabbitmqctl set_permissions -p / barnabas \".\" \".\" \".*\""
   ]
  },
  {
   "cell_type": "code",
   "execution_count": 3,
   "metadata": {},
   "outputs": [
    {
     "name": "stdout",
     "output_type": "stream",
     "text": [
      "Listing users ...\r\n",
      "barnabas\t[]\r\n",
      "guest\t[administrator]\r\n",
      "myguest\t[]\r\n",
      "myguest2\t[]\r\n"
     ]
    }
   ],
   "source": [
    "!sudo rabbitmqctl list_users"
   ]
  },
  {
   "cell_type": "markdown",
   "metadata": {},
   "source": [
    "on worker machine 1 start: <br>\n",
    "celery -A test_workers worker --loglevel=info --concurrency=3\n",
    "\n",
    "on worker machine 2 start: <br>\n",
    "celery -A test_workers worker --loglevel=info --concurrency=4\n"
   ]
  },
  {
   "cell_type": "code",
   "execution_count": 4,
   "metadata": {},
   "outputs": [],
   "source": [
    "import random\n",
    "import time\n",
    "import numpy as np\n",
    "import matplotlib.pyplot as plt\n",
    "import json\n",
    "\n",
    "import celery\n",
    "from test_workers import message_to_workers1, message_to_workers2\n",
    "\n",
    "import math\n",
    "import socket\n"
   ]
  },
  {
   "cell_type": "code",
   "execution_count": 5,
   "metadata": {},
   "outputs": [
    {
     "data": {
      "text/plain": [
       "{'celery@ip-172-31-3-73': {'ok': 'pong'},\n",
       " 'celery@ip-172-31-0-150': {'ok': 'pong'}}"
      ]
     },
     "execution_count": 5,
     "metadata": {},
     "output_type": "execute_result"
    }
   ],
   "source": [
    "celery.current_app.control.inspect().ping()"
   ]
  },
  {
   "cell_type": "code",
   "execution_count": 6,
   "metadata": {},
   "outputs": [
    {
     "name": "stdout",
     "output_type": "stream",
     "text": [
      "['celery@ip-172-31-0-150', 'celery@ip-172-31-3-73']\n"
     ]
    }
   ],
   "source": [
    "mykeys=list(celery.current_app.control.inspect().stats().keys())\n",
    "print(mykeys)"
   ]
  },
  {
   "cell_type": "code",
   "execution_count": 7,
   "metadata": {},
   "outputs": [
    {
     "data": {
      "text/plain": [
       "'172.31.0.150'"
      ]
     },
     "execution_count": 7,
     "metadata": {},
     "output_type": "execute_result"
    }
   ],
   "source": [
    "socket.gethostbyname(socket.gethostname())"
   ]
  },
  {
   "cell_type": "code",
   "execution_count": 8,
   "metadata": {},
   "outputs": [
    {
     "data": {
      "text/plain": [
       "{'max-concurrency': 3,\n",
       " 'processes': [21551, 21552, 21553],\n",
       " 'max-tasks-per-child': 'N/A',\n",
       " 'put-guarded-by-semaphore': False,\n",
       " 'timeouts': [0, 0],\n",
       " 'writes': {'total': 0,\n",
       "  'avg': '0.00%',\n",
       "  'all': '',\n",
       "  'raw': '',\n",
       "  'strategy': 'fair',\n",
       "  'inqueues': {'total': 3, 'active': 0}}}"
      ]
     },
     "execution_count": 8,
     "metadata": {},
     "output_type": "execute_result"
    }
   ],
   "source": [
    "mydict=celery.current_app.control.inspect().stats()[mykeys[0]]\n",
    "mydict['pool']"
   ]
  },
  {
   "cell_type": "code",
   "execution_count": 9,
   "metadata": {},
   "outputs": [
    {
     "data": {
      "text/plain": [
       "{'max-concurrency': 4,\n",
       " 'processes': [19604, 19605, 19606, 19609],\n",
       " 'max-tasks-per-child': 'N/A',\n",
       " 'put-guarded-by-semaphore': False,\n",
       " 'timeouts': [0, 0],\n",
       " 'writes': {'total': 0,\n",
       "  'avg': '0.00%',\n",
       "  'all': '',\n",
       "  'raw': '',\n",
       "  'strategy': 'fair',\n",
       "  'inqueues': {'total': 4, 'active': 0}}}"
      ]
     },
     "execution_count": 9,
     "metadata": {},
     "output_type": "execute_result"
    }
   ],
   "source": [
    "mydict=celery.current_app.control.inspect().stats()[mykeys[1]]\n",
    "mydict['pool']"
   ]
  },
  {
   "cell_type": "code",
   "execution_count": 10,
   "metadata": {},
   "outputs": [
    {
     "name": "stdout",
     "output_type": "stream",
     "text": [
      "***\n",
      "['172.31.3.73_ForkPoolWorker-2__1000_140_88554****']\n",
      "['172.31.0.150_ForkPoolWorker-2__1000_503_88553****']\n",
      "***\n",
      "***\n",
      "['172.31.3.73_ForkPoolWorker-1__1001_140_88560****']\n",
      "['172.31.0.150_ForkPoolWorker-3__1001_503_88558****']\n",
      "***\n",
      "***\n",
      "['172.31.3.73_ForkPoolWorker-2__1002_204_88565****', '172.31.3.73_ForkPoolWorker-2__1000_140_88554****']\n",
      "['172.31.0.150_ForkPoolWorker-1__1002_503_88563****']\n",
      "***\n",
      "***\n",
      "['172.31.3.73_ForkPoolWorker-1__1003_204_88569****', '172.31.3.73_ForkPoolWorker-1__1001_140_88560****']\n",
      "['172.31.0.150_ForkPoolWorker-2__1003_236_88566****', '172.31.0.150_ForkPoolWorker-2__1000_503_88553****']\n",
      "***\n",
      "***\n",
      "['172.31.3.73_ForkPoolWorker-2__1004_121_88572****', '172.31.3.73_ForkPoolWorker-2__1002_204_88565****']\n",
      "['172.31.0.150_ForkPoolWorker-3__1004_236_88570****', '172.31.0.150_ForkPoolWorker-3__1001_503_88558****']\n",
      "***\n",
      "***\n",
      "['172.31.3.73_ForkPoolWorker-1__1005_121_88576****', '172.31.3.73_ForkPoolWorker-1__1003_204_88569****']\n",
      "['172.31.0.150_ForkPoolWorker-1__1005_236_88574****', '172.31.0.150_ForkPoolWorker-1__1002_503_88563****']\n",
      "***\n",
      "***\n",
      "['172.31.3.73_ForkPoolWorker-2__1006_28_88581****', '172.31.3.73_ForkPoolWorker-2__1004_121_88572****']\n",
      "['172.31.0.150_ForkPoolWorker-2__1006_107_88578****', '172.31.0.150_ForkPoolWorker-2__1003_236_88566****']\n",
      "***\n",
      "***\n",
      "['172.31.3.73_ForkPoolWorker-1__1007_28_88583****', '172.31.3.73_ForkPoolWorker-1__1005_121_88576****']\n",
      "['172.31.0.150_ForkPoolWorker-3__1007_107_88582****', '172.31.0.150_ForkPoolWorker-3__1004_236_88570****']\n",
      "***\n",
      "***\n",
      "['172.31.3.73_ForkPoolWorker-2__1008_125_88587****', '172.31.3.73_ForkPoolWorker-2__1006_28_88581****']\n",
      "['172.31.0.150_ForkPoolWorker-1__1008_107_88585****', '172.31.0.150_ForkPoolWorker-1__1005_236_88574****']\n",
      "***\n",
      "***\n",
      "['172.31.3.73_ForkPoolWorker-1__1009_125_88592****', '172.31.3.73_ForkPoolWorker-1__1007_28_88583****']\n",
      "['172.31.0.150_ForkPoolWorker-2__1009_991_88590****', '172.31.0.150_ForkPoolWorker-2__1006_107_88578****']\n",
      "***\n",
      "***\n",
      "['172.31.3.73_ForkPoolWorker-2__1010_596_88597****', '172.31.3.73_ForkPoolWorker-2__1008_125_88587****']\n",
      "['172.31.0.150_ForkPoolWorker-3__1010_991_88595****', '172.31.0.150_ForkPoolWorker-3__1007_107_88582****']\n",
      "***\n",
      "***\n",
      "['172.31.3.73_ForkPoolWorker-1__1011_596_88602****', '172.31.3.73_ForkPoolWorker-1__1009_125_88592****']\n",
      "['172.31.0.150_ForkPoolWorker-1__1011_991_88600****', '172.31.0.150_ForkPoolWorker-1__1008_107_88585****']\n",
      "***\n",
      "***\n",
      "['172.31.3.73_ForkPoolWorker-2__1012_331_88606****', '172.31.3.73_ForkPoolWorker-2__1010_596_88597****']\n",
      "['172.31.0.150_ForkPoolWorker-2__1012_165_88604****', '172.31.0.150_ForkPoolWorker-2__1009_991_88590****']\n",
      "***\n",
      "***\n",
      "['172.31.3.73_ForkPoolWorker-1__1013_331_88611****', '172.31.3.73_ForkPoolWorker-1__1011_596_88602****']\n",
      "['172.31.0.150_ForkPoolWorker-3__1013_165_88609****', '172.31.0.150_ForkPoolWorker-3__1010_991_88595****']\n",
      "***\n",
      "***\n",
      "['172.31.3.73_ForkPoolWorker-2__1014_654_88616****', '172.31.3.73_ForkPoolWorker-2__1012_331_88606****']\n",
      "['172.31.0.150_ForkPoolWorker-1__1014_165_88614****', '172.31.0.150_ForkPoolWorker-1__1011_991_88600****']\n",
      "***\n",
      "***\n",
      "['172.31.3.73_ForkPoolWorker-1__1015_654_88619****', '172.31.3.73_ForkPoolWorker-1__1013_331_88611****']\n",
      "['172.31.0.150_ForkPoolWorker-2__1015_865_88619****', '172.31.0.150_ForkPoolWorker-2__1012_165_88604****']\n",
      "***\n",
      "***\n",
      "['172.31.3.73_ForkPoolWorker-2__1016_764_88625****', '172.31.3.73_ForkPoolWorker-2__1014_654_88616****']\n",
      "['172.31.0.150_ForkPoolWorker-3__1016_865_88623****', '172.31.0.150_ForkPoolWorker-3__1013_165_88609****']\n",
      "***\n",
      "***\n",
      "['172.31.3.73_ForkPoolWorker-1__1017_764_88630****', '172.31.3.73_ForkPoolWorker-1__1015_654_88619****']\n",
      "['172.31.0.150_ForkPoolWorker-1__1017_865_88627****', '172.31.0.150_ForkPoolWorker-1__1014_165_88614****']\n",
      "***\n",
      "***\n",
      "['172.31.3.73_ForkPoolWorker-2__1018_107_88633****', '172.31.3.73_ForkPoolWorker-2__1016_764_88625****']\n",
      "['172.31.0.150_ForkPoolWorker-2__1018_828_88632****', '172.31.0.150_ForkPoolWorker-2__1015_865_88619****']\n",
      "***\n",
      "***\n",
      "['172.31.3.73_ForkPoolWorker-1__1019_107_88638****', '172.31.3.73_ForkPoolWorker-1__1017_764_88630****']\n",
      "['172.31.0.150_ForkPoolWorker-3__1019_828_88635****', '172.31.0.150_ForkPoolWorker-3__1016_865_88623****']\n",
      "***\n",
      "***\n",
      "['172.31.3.73_ForkPoolWorker-2__1020_534_88642****', '172.31.3.73_ForkPoolWorker-2__1018_107_88633****']\n",
      "['172.31.0.150_ForkPoolWorker-1__1020_828_88639****', '172.31.0.150_ForkPoolWorker-1__1017_865_88627****']\n",
      "***\n",
      "***\n",
      "['172.31.3.73_ForkPoolWorker-1__1021_534_88644****', '172.31.3.73_ForkPoolWorker-1__1019_107_88638****']\n",
      "['172.31.0.150_ForkPoolWorker-2__1021_482_88642****', '172.31.0.150_ForkPoolWorker-2__1018_828_88632****']\n",
      "***\n",
      "***\n",
      "['172.31.3.73_ForkPoolWorker-2__1022_926_88649****', '172.31.3.73_ForkPoolWorker-2__1020_534_88642****']\n",
      "['172.31.0.150_ForkPoolWorker-3__1022_482_88646****', '172.31.0.150_ForkPoolWorker-3__1019_828_88635****']\n",
      "***\n",
      "***\n",
      "['172.31.3.73_ForkPoolWorker-1__1023_926_88652****', '172.31.3.73_ForkPoolWorker-1__1021_534_88644****']\n",
      "['172.31.0.150_ForkPoolWorker-1__1023_482_88650****', '172.31.0.150_ForkPoolWorker-1__1020_828_88639****']\n",
      "***\n",
      "***\n",
      "['172.31.3.73_ForkPoolWorker-2__1024_203_88657****', '172.31.3.73_ForkPoolWorker-2__1022_926_88649****']\n",
      "['172.31.0.150_ForkPoolWorker-2__1024_599_88655****', '172.31.0.150_ForkPoolWorker-2__1021_482_88642****']\n",
      "***\n",
      "***\n",
      "['172.31.3.73_ForkPoolWorker-1__1025_203_88660****', '172.31.3.73_ForkPoolWorker-1__1023_926_88652****']\n",
      "['172.31.0.150_ForkPoolWorker-3__1025_599_88657****', '172.31.0.150_ForkPoolWorker-3__1022_482_88646****']\n",
      "***\n",
      "***\n",
      "['172.31.3.73_ForkPoolWorker-2__1026_662_88663****', '172.31.3.73_ForkPoolWorker-2__1024_203_88657****']\n",
      "['172.31.0.150_ForkPoolWorker-1__1026_599_88661****', '172.31.0.150_ForkPoolWorker-1__1023_482_88650****']\n",
      "***\n",
      "***\n",
      "['172.31.3.73_ForkPoolWorker-1__1027_662_88669****', '172.31.3.73_ForkPoolWorker-1__1025_203_88660****']\n",
      "['172.31.0.150_ForkPoolWorker-2__1027_861_88667****', '172.31.0.150_ForkPoolWorker-2__1024_599_88655****']\n",
      "***\n",
      "***\n",
      "['172.31.3.73_ForkPoolWorker-2__1028_520_88673****', '172.31.3.73_ForkPoolWorker-2__1026_662_88663****']\n",
      "['172.31.0.150_ForkPoolWorker-3__1028_861_88671****', '172.31.0.150_ForkPoolWorker-3__1025_599_88657****']\n",
      "***\n",
      "***\n",
      "['172.31.3.73_ForkPoolWorker-1__1029_520_88676****', '172.31.3.73_ForkPoolWorker-1__1027_662_88669****']\n",
      "['172.31.0.150_ForkPoolWorker-1__1029_861_88674****', '172.31.0.150_ForkPoolWorker-1__1026_599_88661****']\n",
      "***\n"
     ]
    }
   ],
   "source": [
    "for iter in range(0,30):\n",
    "    myresult1=message_to_workers1.delay(str(1000+iter)) \n",
    "    result1=myresult1.get()\n",
    "    \n",
    "    myresult2=message_to_workers2.delay(str(1000+iter))\n",
    "    result2=myresult2.get()\n",
    "    print('***')\n",
    "    print(result1)\n",
    "    print(result2)\n",
    "    print('***')"
   ]
  },
  {
   "cell_type": "code",
   "execution_count": null,
   "metadata": {},
   "outputs": [],
   "source": []
  }
 ],
 "metadata": {
  "kernelspec": {
   "display_name": "Environment (conda_python3)",
   "language": "python",
   "name": "conda_python3"
  },
  "language_info": {
   "codemirror_mode": {
    "name": "ipython",
    "version": 3
   },
   "file_extension": ".py",
   "mimetype": "text/x-python",
   "name": "python",
   "nbconvert_exporter": "python",
   "pygments_lexer": "ipython3",
   "version": "3.6.5"
  }
 },
 "nbformat": 4,
 "nbformat_minor": 2
}

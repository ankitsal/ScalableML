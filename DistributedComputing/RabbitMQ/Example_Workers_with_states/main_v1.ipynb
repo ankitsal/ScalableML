{
 "cells": [
  {
   "cell_type": "code",
   "execution_count": 1,
   "metadata": {},
   "outputs": [],
   "source": [
    "#!pip install celery"
   ]
  },
  {
   "cell_type": "code",
   "execution_count": 2,
   "metadata": {},
   "outputs": [],
   "source": [
    "#!sudo rabbitmqctl add_user myguest myguestpwd\n",
    "#!sudo rabbitmqctl set_permissions -p / myguest \".\" \".\" \".*\""
   ]
  },
  {
   "cell_type": "code",
   "execution_count": 3,
   "metadata": {},
   "outputs": [
    {
     "name": "stdout",
     "output_type": "stream",
     "text": [
      "Listing users ...\n",
      "guest\t[administrator]\n",
      "myguest\t[]\n"
     ]
    }
   ],
   "source": [
    "!sudo rabbitmqctl list_users"
   ]
  },
  {
   "cell_type": "markdown",
   "metadata": {},
   "source": [
    "on worker machine 1 start: <br>\n",
    "celery -A test_workers worker --loglevel=info --concurrency=3\n",
    "\n",
    "on worker machine 2 start: <br>\n",
    "celery -A test_workers worker --loglevel=info --concurrency=2\n"
   ]
  },
  {
   "cell_type": "code",
   "execution_count": 4,
   "metadata": {},
   "outputs": [],
   "source": [
    "import random\n",
    "import time\n",
    "import numpy as np\n",
    "import matplotlib.pyplot as plt\n",
    "import json\n",
    "\n",
    "import celery\n",
    "from test_workers import message_to_workers1\n",
    "\n",
    "import math\n",
    "import socket\n"
   ]
  },
  {
   "cell_type": "code",
   "execution_count": 5,
   "metadata": {},
   "outputs": [
    {
     "data": {
      "text/plain": [
       "{'celery@ip-172-31-0-150': {'ok': 'pong'}}"
      ]
     },
     "execution_count": 5,
     "metadata": {},
     "output_type": "execute_result"
    }
   ],
   "source": [
    "celery.current_app.control.inspect().ping()"
   ]
  },
  {
   "cell_type": "code",
   "execution_count": 6,
   "metadata": {},
   "outputs": [
    {
     "name": "stdout",
     "output_type": "stream",
     "text": [
      "['celery@ip-172-31-0-150']\n"
     ]
    }
   ],
   "source": [
    "mykeys=list(celery.current_app.control.inspect().stats().keys())\n",
    "print(mykeys)"
   ]
  },
  {
   "cell_type": "code",
   "execution_count": 7,
   "metadata": {},
   "outputs": [
    {
     "data": {
      "text/plain": [
       "'172.31.0.150'"
      ]
     },
     "execution_count": 7,
     "metadata": {},
     "output_type": "execute_result"
    }
   ],
   "source": [
    "socket.gethostbyname(socket.gethostname())"
   ]
  },
  {
   "cell_type": "code",
   "execution_count": 8,
   "metadata": {},
   "outputs": [
    {
     "data": {
      "text/plain": [
       "{'max-concurrency': 3,\n",
       " 'processes': [10794, 10795, 10796],\n",
       " 'max-tasks-per-child': 'N/A',\n",
       " 'put-guarded-by-semaphore': False,\n",
       " 'timeouts': [0, 0],\n",
       " 'writes': {'total': 0,\n",
       "  'avg': '0.00%',\n",
       "  'all': '',\n",
       "  'raw': '',\n",
       "  'strategy': 'fair',\n",
       "  'inqueues': {'total': 3, 'active': 0}}}"
      ]
     },
     "execution_count": 8,
     "metadata": {},
     "output_type": "execute_result"
    }
   ],
   "source": [
    "mydict=celery.current_app.control.inspect().stats()[mykeys[0]]\n",
    "mydict['pool']"
   ]
  },
  {
   "cell_type": "code",
   "execution_count": 9,
   "metadata": {},
   "outputs": [
    {
     "ename": "IndexError",
     "evalue": "list index out of range",
     "output_type": "error",
     "traceback": [
      "\u001b[0;31m---------------------------------------------------------------------------\u001b[0m",
      "\u001b[0;31mIndexError\u001b[0m                                Traceback (most recent call last)",
      "\u001b[0;32m<ipython-input-9-ff4b743a70b5>\u001b[0m in \u001b[0;36m<module>\u001b[0;34m()\u001b[0m\n\u001b[0;32m----> 1\u001b[0;31m \u001b[0mmydict\u001b[0m\u001b[0;34m=\u001b[0m\u001b[0mcelery\u001b[0m\u001b[0;34m.\u001b[0m\u001b[0mcurrent_app\u001b[0m\u001b[0;34m.\u001b[0m\u001b[0mcontrol\u001b[0m\u001b[0;34m.\u001b[0m\u001b[0minspect\u001b[0m\u001b[0;34m(\u001b[0m\u001b[0;34m)\u001b[0m\u001b[0;34m.\u001b[0m\u001b[0mstats\u001b[0m\u001b[0;34m(\u001b[0m\u001b[0;34m)\u001b[0m\u001b[0;34m[\u001b[0m\u001b[0mmykeys\u001b[0m\u001b[0;34m[\u001b[0m\u001b[0;36m1\u001b[0m\u001b[0;34m]\u001b[0m\u001b[0;34m]\u001b[0m\u001b[0;34m\u001b[0m\u001b[0m\n\u001b[0m\u001b[1;32m      2\u001b[0m \u001b[0mmydict\u001b[0m\u001b[0;34m[\u001b[0m\u001b[0;34m'pool'\u001b[0m\u001b[0;34m]\u001b[0m\u001b[0;34m\u001b[0m\u001b[0m\n",
      "\u001b[0;31mIndexError\u001b[0m: list index out of range"
     ]
    }
   ],
   "source": [
    "mydict=celery.current_app.control.inspect().stats()[mykeys[1]]\n",
    "mydict['pool']"
   ]
  },
  {
   "cell_type": "code",
   "execution_count": 9,
   "metadata": {},
   "outputs": [
    {
     "data": {
      "text/plain": [
       "<kombu.connection.ConnectionPool at 0x7f4156fdb780>"
      ]
     },
     "execution_count": 9,
     "metadata": {},
     "output_type": "execute_result"
    }
   ],
   "source": [
    "celery.current_app.pool"
   ]
  },
  {
   "cell_type": "code",
   "execution_count": 10,
   "metadata": {},
   "outputs": [
    {
     "name": "stdout",
     "output_type": "stream",
     "text": [
      "***\n",
      "['172.31.0.150_ForkPoolWorker-2_1_1000_12_3017']\n",
      "***\n",
      "***\n",
      "['172.31.0.150_ForkPoolWorker-3_2_1001_12_3025']\n",
      "***\n",
      "***\n",
      "['172.31.0.150_ForkPoolWorker-1_0_1002_12_3034']\n",
      "***\n",
      "***\n",
      "['172.31.0.150_ForkPoolWorker-2_1_1000_12_3017', '172.31.0.150_ForkPoolWorker-2_1_1003_706_3038']\n",
      "***\n",
      "***\n",
      "['172.31.0.150_ForkPoolWorker-3_2_1001_12_3025', '172.31.0.150_ForkPoolWorker-3_2_1004_706_3042']\n",
      "***\n",
      "***\n",
      "['172.31.0.150_ForkPoolWorker-1_0_1002_12_3034', '172.31.0.150_ForkPoolWorker-1_0_1005_706_3047']\n",
      "***\n",
      "***\n",
      "['172.31.0.150_ForkPoolWorker-2_1_1000_12_3017', '172.31.0.150_ForkPoolWorker-2_1_1003_706_3038', '172.31.0.150_ForkPoolWorker-2_1_1006_565_3050']\n",
      "***\n",
      "***\n",
      "['172.31.0.150_ForkPoolWorker-3_2_1001_12_3025', '172.31.0.150_ForkPoolWorker-3_2_1004_706_3042', '172.31.0.150_ForkPoolWorker-3_2_1007_565_3055']\n",
      "***\n",
      "***\n",
      "['172.31.0.150_ForkPoolWorker-1_0_1002_12_3034', '172.31.0.150_ForkPoolWorker-1_0_1005_706_3047', '172.31.0.150_ForkPoolWorker-1_0_1008_565_3064']\n",
      "***\n",
      "***\n",
      "['172.31.0.150_ForkPoolWorker-2_1_1000_12_3017', '172.31.0.150_ForkPoolWorker-2_1_1003_706_3038', '172.31.0.150_ForkPoolWorker-2_1_1006_565_3050', '172.31.0.150_ForkPoolWorker-2_1_1009_429_3067']\n",
      "***\n",
      "***\n",
      "['172.31.0.150_ForkPoolWorker-3_2_1001_12_3025', '172.31.0.150_ForkPoolWorker-3_2_1004_706_3042', '172.31.0.150_ForkPoolWorker-3_2_1007_565_3055', '172.31.0.150_ForkPoolWorker-3_2_1010_429_3071']\n",
      "***\n",
      "***\n",
      "['172.31.0.150_ForkPoolWorker-1_0_1002_12_3034', '172.31.0.150_ForkPoolWorker-1_0_1005_706_3047', '172.31.0.150_ForkPoolWorker-1_0_1008_565_3064', '172.31.0.150_ForkPoolWorker-1_0_1011_429_3075']\n",
      "***\n",
      "***\n",
      "['172.31.0.150_ForkPoolWorker-2_1_1000_12_3017', '172.31.0.150_ForkPoolWorker-2_1_1003_706_3038', '172.31.0.150_ForkPoolWorker-2_1_1006_565_3050', '172.31.0.150_ForkPoolWorker-2_1_1009_429_3067', '172.31.0.150_ForkPoolWorker-2_1_1012_714_3080']\n",
      "***\n",
      "***\n",
      "['172.31.0.150_ForkPoolWorker-3_2_1001_12_3025', '172.31.0.150_ForkPoolWorker-3_2_1004_706_3042', '172.31.0.150_ForkPoolWorker-3_2_1007_565_3055', '172.31.0.150_ForkPoolWorker-3_2_1010_429_3071', '172.31.0.150_ForkPoolWorker-3_2_1013_714_3083']\n",
      "***\n",
      "***\n",
      "['172.31.0.150_ForkPoolWorker-1_0_1002_12_3034', '172.31.0.150_ForkPoolWorker-1_0_1005_706_3047', '172.31.0.150_ForkPoolWorker-1_0_1008_565_3064', '172.31.0.150_ForkPoolWorker-1_0_1011_429_3075', '172.31.0.150_ForkPoolWorker-1_0_1014_714_3087']\n",
      "***\n",
      "***\n",
      "['172.31.0.150_ForkPoolWorker-2_1_1000_12_3017', '172.31.0.150_ForkPoolWorker-2_1_1003_706_3038', '172.31.0.150_ForkPoolWorker-2_1_1006_565_3050', '172.31.0.150_ForkPoolWorker-2_1_1009_429_3067', '172.31.0.150_ForkPoolWorker-2_1_1012_714_3080', '172.31.0.150_ForkPoolWorker-2_1_1015_94_3090']\n",
      "***\n",
      "***\n",
      "['172.31.0.150_ForkPoolWorker-3_2_1001_12_3025', '172.31.0.150_ForkPoolWorker-3_2_1004_706_3042', '172.31.0.150_ForkPoolWorker-3_2_1007_565_3055', '172.31.0.150_ForkPoolWorker-3_2_1010_429_3071', '172.31.0.150_ForkPoolWorker-3_2_1013_714_3083', '172.31.0.150_ForkPoolWorker-3_2_1016_94_3094']\n",
      "***\n",
      "***\n",
      "['172.31.0.150_ForkPoolWorker-1_0_1002_12_3034', '172.31.0.150_ForkPoolWorker-1_0_1005_706_3047', '172.31.0.150_ForkPoolWorker-1_0_1008_565_3064', '172.31.0.150_ForkPoolWorker-1_0_1011_429_3075', '172.31.0.150_ForkPoolWorker-1_0_1014_714_3087', '172.31.0.150_ForkPoolWorker-1_0_1017_94_3098']\n",
      "***\n",
      "***\n",
      "['172.31.0.150_ForkPoolWorker-2_1_1000_12_3017', '172.31.0.150_ForkPoolWorker-2_1_1003_706_3038', '172.31.0.150_ForkPoolWorker-2_1_1006_565_3050', '172.31.0.150_ForkPoolWorker-2_1_1009_429_3067', '172.31.0.150_ForkPoolWorker-2_1_1012_714_3080', '172.31.0.150_ForkPoolWorker-2_1_1015_94_3090', '172.31.0.150_ForkPoolWorker-2_1_1018_108_3100']\n",
      "***\n",
      "***\n",
      "['172.31.0.150_ForkPoolWorker-3_2_1001_12_3025', '172.31.0.150_ForkPoolWorker-3_2_1004_706_3042', '172.31.0.150_ForkPoolWorker-3_2_1007_565_3055', '172.31.0.150_ForkPoolWorker-3_2_1010_429_3071', '172.31.0.150_ForkPoolWorker-3_2_1013_714_3083', '172.31.0.150_ForkPoolWorker-3_2_1016_94_3094', '172.31.0.150_ForkPoolWorker-3_2_1019_108_3103']\n",
      "***\n",
      "***\n",
      "['172.31.0.150_ForkPoolWorker-1_0_1002_12_3034', '172.31.0.150_ForkPoolWorker-1_0_1005_706_3047', '172.31.0.150_ForkPoolWorker-1_0_1008_565_3064', '172.31.0.150_ForkPoolWorker-1_0_1011_429_3075', '172.31.0.150_ForkPoolWorker-1_0_1014_714_3087', '172.31.0.150_ForkPoolWorker-1_0_1017_94_3098', '172.31.0.150_ForkPoolWorker-1_0_1020_108_3106']\n",
      "***\n",
      "***\n",
      "['172.31.0.150_ForkPoolWorker-2_1_1000_12_3017', '172.31.0.150_ForkPoolWorker-2_1_1003_706_3038', '172.31.0.150_ForkPoolWorker-2_1_1006_565_3050', '172.31.0.150_ForkPoolWorker-2_1_1009_429_3067', '172.31.0.150_ForkPoolWorker-2_1_1012_714_3080', '172.31.0.150_ForkPoolWorker-2_1_1015_94_3090', '172.31.0.150_ForkPoolWorker-2_1_1018_108_3100', '172.31.0.150_ForkPoolWorker-2_1_1021_906_3108']\n",
      "***\n",
      "***\n",
      "['172.31.0.150_ForkPoolWorker-3_2_1001_12_3025', '172.31.0.150_ForkPoolWorker-3_2_1004_706_3042', '172.31.0.150_ForkPoolWorker-3_2_1007_565_3055', '172.31.0.150_ForkPoolWorker-3_2_1010_429_3071', '172.31.0.150_ForkPoolWorker-3_2_1013_714_3083', '172.31.0.150_ForkPoolWorker-3_2_1016_94_3094', '172.31.0.150_ForkPoolWorker-3_2_1019_108_3103', '172.31.0.150_ForkPoolWorker-3_2_1022_906_3112']\n",
      "***\n",
      "***\n",
      "['172.31.0.150_ForkPoolWorker-1_0_1002_12_3034', '172.31.0.150_ForkPoolWorker-1_0_1005_706_3047', '172.31.0.150_ForkPoolWorker-1_0_1008_565_3064', '172.31.0.150_ForkPoolWorker-1_0_1011_429_3075', '172.31.0.150_ForkPoolWorker-1_0_1014_714_3087', '172.31.0.150_ForkPoolWorker-1_0_1017_94_3098', '172.31.0.150_ForkPoolWorker-1_0_1020_108_3106', '172.31.0.150_ForkPoolWorker-1_0_1023_906_3114']\n",
      "***\n",
      "***\n",
      "['172.31.0.150_ForkPoolWorker-2_1_1000_12_3017', '172.31.0.150_ForkPoolWorker-2_1_1003_706_3038', '172.31.0.150_ForkPoolWorker-2_1_1006_565_3050', '172.31.0.150_ForkPoolWorker-2_1_1009_429_3067', '172.31.0.150_ForkPoolWorker-2_1_1012_714_3080', '172.31.0.150_ForkPoolWorker-2_1_1015_94_3090', '172.31.0.150_ForkPoolWorker-2_1_1018_108_3100', '172.31.0.150_ForkPoolWorker-2_1_1021_906_3108', '172.31.0.150_ForkPoolWorker-2_1_1024_163_3122']\n",
      "***\n",
      "***\n",
      "['172.31.0.150_ForkPoolWorker-3_2_1001_12_3025', '172.31.0.150_ForkPoolWorker-3_2_1004_706_3042', '172.31.0.150_ForkPoolWorker-3_2_1007_565_3055', '172.31.0.150_ForkPoolWorker-3_2_1010_429_3071', '172.31.0.150_ForkPoolWorker-3_2_1013_714_3083', '172.31.0.150_ForkPoolWorker-3_2_1016_94_3094', '172.31.0.150_ForkPoolWorker-3_2_1019_108_3103', '172.31.0.150_ForkPoolWorker-3_2_1022_906_3112', '172.31.0.150_ForkPoolWorker-3_2_1025_163_3126']\n",
      "***\n",
      "***\n",
      "['172.31.0.150_ForkPoolWorker-1_0_1002_12_3034', '172.31.0.150_ForkPoolWorker-1_0_1005_706_3047', '172.31.0.150_ForkPoolWorker-1_0_1008_565_3064', '172.31.0.150_ForkPoolWorker-1_0_1011_429_3075', '172.31.0.150_ForkPoolWorker-1_0_1014_714_3087', '172.31.0.150_ForkPoolWorker-1_0_1017_94_3098', '172.31.0.150_ForkPoolWorker-1_0_1020_108_3106', '172.31.0.150_ForkPoolWorker-1_0_1023_906_3114', '172.31.0.150_ForkPoolWorker-1_0_1026_163_3132']\n",
      "***\n",
      "***\n",
      "['172.31.0.150_ForkPoolWorker-2_1_1000_12_3017', '172.31.0.150_ForkPoolWorker-2_1_1003_706_3038', '172.31.0.150_ForkPoolWorker-2_1_1006_565_3050', '172.31.0.150_ForkPoolWorker-2_1_1009_429_3067', '172.31.0.150_ForkPoolWorker-2_1_1012_714_3080', '172.31.0.150_ForkPoolWorker-2_1_1015_94_3090', '172.31.0.150_ForkPoolWorker-2_1_1018_108_3100', '172.31.0.150_ForkPoolWorker-2_1_1021_906_3108', '172.31.0.150_ForkPoolWorker-2_1_1024_163_3122', '172.31.0.150_ForkPoolWorker-2_1_1027_156_3135']\n",
      "***\n",
      "***\n",
      "['172.31.0.150_ForkPoolWorker-3_2_1001_12_3025', '172.31.0.150_ForkPoolWorker-3_2_1004_706_3042', '172.31.0.150_ForkPoolWorker-3_2_1007_565_3055', '172.31.0.150_ForkPoolWorker-3_2_1010_429_3071', '172.31.0.150_ForkPoolWorker-3_2_1013_714_3083', '172.31.0.150_ForkPoolWorker-3_2_1016_94_3094', '172.31.0.150_ForkPoolWorker-3_2_1019_108_3103', '172.31.0.150_ForkPoolWorker-3_2_1022_906_3112', '172.31.0.150_ForkPoolWorker-3_2_1025_163_3126', '172.31.0.150_ForkPoolWorker-3_2_1028_156_3139']\n",
      "***\n",
      "***\n",
      "['172.31.0.150_ForkPoolWorker-1_0_1002_12_3034', '172.31.0.150_ForkPoolWorker-1_0_1005_706_3047', '172.31.0.150_ForkPoolWorker-1_0_1008_565_3064', '172.31.0.150_ForkPoolWorker-1_0_1011_429_3075', '172.31.0.150_ForkPoolWorker-1_0_1014_714_3087', '172.31.0.150_ForkPoolWorker-1_0_1017_94_3098', '172.31.0.150_ForkPoolWorker-1_0_1020_108_3106', '172.31.0.150_ForkPoolWorker-1_0_1023_906_3114', '172.31.0.150_ForkPoolWorker-1_0_1026_163_3132', '172.31.0.150_ForkPoolWorker-1_0_1029_156_3143']\n",
      "***\n"
     ]
    }
   ],
   "source": [
    "for iter in range(0,30):\n",
    "    myresult=message_to_workers1.delay(str(1000+iter)) \n",
    "    results=myresult.get()\n",
    "    print('***')\n",
    "    print(results)\n",
    "    print('***')"
   ]
  },
  {
   "cell_type": "code",
   "execution_count": 18,
   "metadata": {},
   "outputs": [
    {
     "name": "stdout",
     "output_type": "stream",
     "text": [
      "/home/ubuntu/anaconda3/envs/python3/lib/python3.6/site-packages/IPython/core/interactiveshell.py\n"
     ]
    }
   ],
   "source": [
    "import inspect\n",
    "print(inspect.stack()[1][1])"
   ]
  },
  {
   "cell_type": "code",
   "execution_count": 19,
   "metadata": {},
   "outputs": [
    {
     "name": "stdout",
     "output_type": "stream",
     "text": [
      "/home/ubuntu/anaconda3/envs/python3/lib/python3.6/os.py\n"
     ]
    }
   ],
   "source": [
    "import os\n",
    "\n",
    "# Prints the full path of where the os.py module resides\n",
    "print(os.__file__)"
   ]
  },
  {
   "cell_type": "code",
   "execution_count": 21,
   "metadata": {},
   "outputs": [
    {
     "data": {
      "text/plain": [
       "'/home/ubuntu/Projects/DistributedComputing/RabbitMQ/Example_Workers_with_states'"
      ]
     },
     "execution_count": 21,
     "metadata": {},
     "output_type": "execute_result"
    }
   ],
   "source": [
    "os.path.dirname(os.path.realpath('__file__'))"
   ]
  },
  {
   "cell_type": "code",
   "execution_count": null,
   "metadata": {},
   "outputs": [],
   "source": []
  }
 ],
 "metadata": {
  "kernelspec": {
   "display_name": "Environment (conda_python3)",
   "language": "python",
   "name": "conda_python3"
  },
  "language_info": {
   "codemirror_mode": {
    "name": "ipython",
    "version": 3
   },
   "file_extension": ".py",
   "mimetype": "text/x-python",
   "name": "python",
   "nbconvert_exporter": "python",
   "pygments_lexer": "ipython3",
   "version": "3.6.5"
  }
 },
 "nbformat": 4,
 "nbformat_minor": 2
}

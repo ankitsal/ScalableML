{
 "cells": [
  {
   "cell_type": "code",
   "execution_count": 1,
   "metadata": {},
   "outputs": [],
   "source": [
    "#!pip install celery"
   ]
  },
  {
   "cell_type": "code",
   "execution_count": 2,
   "metadata": {},
   "outputs": [],
   "source": [
    "#!sudo rabbitmqctl add_user barnabas barnabaspwd\n",
    "#!sudo rabbitmqctl set_permissions -p / barnabas \".\" \".\" \".*\""
   ]
  },
  {
   "cell_type": "code",
   "execution_count": 3,
   "metadata": {},
   "outputs": [
    {
     "name": "stdout",
     "output_type": "stream",
     "text": [
      "Listing users ...\r\n",
      "barnabas\t[]\r\n",
      "guest\t[administrator]\r\n",
      "myguest\t[]\r\n",
      "myguest2\t[]\r\n"
     ]
    }
   ],
   "source": [
    "!sudo rabbitmqctl list_users"
   ]
  },
  {
   "cell_type": "markdown",
   "metadata": {},
   "source": [
    "on worker machine 1 start: <br>\n",
    "celery -A test_workers worker --loglevel=info --concurrency=3\n",
    "\n",
    "on worker machine 2 start: <br>\n",
    "celery -A test_workers worker --loglevel=info --concurrency=4\n"
   ]
  },
  {
   "cell_type": "code",
   "execution_count": 4,
   "metadata": {},
   "outputs": [],
   "source": [
    "import random\n",
    "import time\n",
    "import numpy as np\n",
    "import matplotlib.pyplot as plt\n",
    "import json\n",
    "\n",
    "import celery\n",
    "from test_workers import message_to_workers1, message_to_workers2\n",
    "\n",
    "import math\n",
    "import socket\n",
    "import os\n"
   ]
  },
  {
   "cell_type": "code",
   "execution_count": 5,
   "metadata": {},
   "outputs": [
    {
     "data": {
      "text/plain": [
       "{'celery@ip-172-31-3-73': {'ok': 'pong'},\n",
       " 'celery@ip-172-31-0-150': {'ok': 'pong'}}"
      ]
     },
     "execution_count": 5,
     "metadata": {},
     "output_type": "execute_result"
    }
   ],
   "source": [
    "celery.current_app.control.inspect().ping()"
   ]
  },
  {
   "cell_type": "code",
   "execution_count": 6,
   "metadata": {},
   "outputs": [
    {
     "name": "stdout",
     "output_type": "stream",
     "text": [
      "['celery@ip-172-31-0-150', 'celery@ip-172-31-3-73']\n"
     ]
    }
   ],
   "source": [
    "mykeys=list(celery.current_app.control.inspect().stats().keys())\n",
    "print(mykeys)"
   ]
  },
  {
   "cell_type": "code",
   "execution_count": 7,
   "metadata": {},
   "outputs": [
    {
     "data": {
      "text/plain": [
       "'172.31.0.150'"
      ]
     },
     "execution_count": 7,
     "metadata": {},
     "output_type": "execute_result"
    }
   ],
   "source": [
    "socket.gethostbyname(socket.gethostname())"
   ]
  },
  {
   "cell_type": "code",
   "execution_count": 8,
   "metadata": {},
   "outputs": [
    {
     "data": {
      "text/plain": [
       "{'max-concurrency': 3,\n",
       " 'processes': [8176, 8177, 8178],\n",
       " 'max-tasks-per-child': 'N/A',\n",
       " 'put-guarded-by-semaphore': False,\n",
       " 'timeouts': [0, 0],\n",
       " 'writes': {'total': 0,\n",
       "  'avg': '0.00%',\n",
       "  'all': '',\n",
       "  'raw': '',\n",
       "  'strategy': 'fair',\n",
       "  'inqueues': {'total': 3, 'active': 0}}}"
      ]
     },
     "execution_count": 8,
     "metadata": {},
     "output_type": "execute_result"
    }
   ],
   "source": [
    "mydict=celery.current_app.control.inspect().stats()[mykeys[0]]\n",
    "mydict['pool']"
   ]
  },
  {
   "cell_type": "code",
   "execution_count": 9,
   "metadata": {},
   "outputs": [
    {
     "data": {
      "text/plain": [
       "{'max-concurrency': 4,\n",
       " 'processes': [5218, 5219, 5221, 5223],\n",
       " 'max-tasks-per-child': 'N/A',\n",
       " 'put-guarded-by-semaphore': False,\n",
       " 'timeouts': [0, 0],\n",
       " 'writes': {'total': 0,\n",
       "  'avg': '0.00%',\n",
       "  'all': '',\n",
       "  'raw': '',\n",
       "  'strategy': 'fair',\n",
       "  'inqueues': {'total': 4, 'active': 0}}}"
      ]
     },
     "execution_count": 9,
     "metadata": {},
     "output_type": "execute_result"
    }
   ],
   "source": [
    "mydict=celery.current_app.control.inspect().stats()[mykeys[1]]\n",
    "mydict['pool']"
   ]
  },
  {
   "cell_type": "code",
   "execution_count": 10,
   "metadata": {},
   "outputs": [
    {
     "data": {
      "text/plain": [
       "8362"
      ]
     },
     "execution_count": 10,
     "metadata": {},
     "output_type": "execute_result"
    }
   ],
   "source": [
    "#process id\n",
    "os.getpid()"
   ]
  },
  {
   "cell_type": "code",
   "execution_count": 11,
   "metadata": {},
   "outputs": [
    {
     "name": "stdout",
     "output_type": "stream",
     "text": [
      "***\n",
      "['172.31.3.73_ForkPoolWorker-2_**5219**_1000_730_72646_****']\n",
      "['172.31.0.150_ForkPoolWorker-2_**8177**_1000_136_72679_****']\n",
      "***\n",
      "***\n",
      "['172.31.3.73_ForkPoolWorker-1_**5218**_1001_730_72699_****']\n",
      "['172.31.0.150_ForkPoolWorker-3_**8178**_1001_136_72731_****']\n",
      "***\n",
      "***\n",
      "['172.31.3.73_ForkPoolWorker-2_**5219**_1002_246_72748_****', '172.31.3.73_ForkPoolWorker-2_**5219**_1000_730_72646_****']\n",
      "['172.31.0.150_ForkPoolWorker-1_**8176**_1002_136_72778_****']\n",
      "***\n",
      "***\n",
      "['172.31.3.73_ForkPoolWorker-1_**5218**_1003_246_72796_****', '172.31.3.73_ForkPoolWorker-1_**5218**_1001_730_72699_****']\n",
      "['172.31.0.150_ForkPoolWorker-2_**8177**_1003_488_72826_****', '172.31.0.150_ForkPoolWorker-2_**8177**_1000_136_72679_****']\n",
      "***\n",
      "***\n",
      "['172.31.3.73_ForkPoolWorker-2_**5219**_1004_279_72844_****', '172.31.3.73_ForkPoolWorker-2_**5219**_1002_246_72748_****']\n",
      "['172.31.0.150_ForkPoolWorker-3_**8178**_1004_488_72874_****', '172.31.0.150_ForkPoolWorker-3_**8178**_1001_136_72731_****']\n",
      "***\n",
      "***\n",
      "['172.31.3.73_ForkPoolWorker-1_**5218**_1005_279_72887_****', '172.31.3.73_ForkPoolWorker-1_**5218**_1003_246_72796_****']\n",
      "['172.31.0.150_ForkPoolWorker-1_**8176**_1005_488_72916_****', '172.31.0.150_ForkPoolWorker-1_**8176**_1002_136_72778_****']\n",
      "***\n",
      "***\n",
      "['172.31.3.73_ForkPoolWorker-2_**5219**_1006_719_72930_****', '172.31.3.73_ForkPoolWorker-2_**5219**_1004_279_72844_****']\n",
      "['172.31.0.150_ForkPoolWorker-2_**8177**_1006_972_72962_****', '172.31.0.150_ForkPoolWorker-2_**8177**_1003_488_72826_****']\n",
      "***\n",
      "***\n",
      "['172.31.3.73_ForkPoolWorker-1_**5218**_1007_719_72976_****', '172.31.3.73_ForkPoolWorker-1_**5218**_1005_279_72887_****']\n",
      "['172.31.0.150_ForkPoolWorker-3_**8178**_1007_972_73004_****', '172.31.0.150_ForkPoolWorker-3_**8178**_1004_488_72874_****']\n",
      "***\n",
      "***\n",
      "['172.31.3.73_ForkPoolWorker-2_**5219**_1008_477_73021_****', '172.31.3.73_ForkPoolWorker-2_**5219**_1006_719_72930_****']\n",
      "['172.31.0.150_ForkPoolWorker-1_**8176**_1008_972_73052_****', '172.31.0.150_ForkPoolWorker-1_**8176**_1005_488_72916_****']\n",
      "***\n",
      "***\n",
      "['172.31.3.73_ForkPoolWorker-1_**5218**_1009_477_73067_****', '172.31.3.73_ForkPoolWorker-1_**5218**_1007_719_72976_****']\n",
      "['172.31.0.150_ForkPoolWorker-2_**8177**_1009_336_73099_****', '172.31.0.150_ForkPoolWorker-2_**8177**_1006_972_72962_****']\n",
      "***\n",
      "***\n",
      "['172.31.3.73_ForkPoolWorker-2_**5219**_1010_457_73114_****', '172.31.3.73_ForkPoolWorker-2_**5219**_1008_477_73021_****']\n",
      "['172.31.0.150_ForkPoolWorker-3_**8178**_1010_336_73144_****', '172.31.0.150_ForkPoolWorker-3_**8178**_1007_972_73004_****']\n",
      "***\n",
      "***\n",
      "['172.31.3.73_ForkPoolWorker-1_**5218**_1011_457_73157_****', '172.31.3.73_ForkPoolWorker-1_**5218**_1009_477_73067_****']\n",
      "['172.31.0.150_ForkPoolWorker-1_**8176**_1011_336_73188_****', '172.31.0.150_ForkPoolWorker-1_**8176**_1008_972_73052_****']\n",
      "***\n",
      "***\n",
      "['172.31.3.73_ForkPoolWorker-2_**5219**_1012_524_73201_****', '172.31.3.73_ForkPoolWorker-2_**5219**_1010_457_73114_****']\n",
      "['172.31.0.150_ForkPoolWorker-2_**8177**_1012_424_73230_****', '172.31.0.150_ForkPoolWorker-2_**8177**_1009_336_73099_****']\n",
      "***\n",
      "***\n",
      "['172.31.3.73_ForkPoolWorker-1_**5218**_1013_524_73244_****', '172.31.3.73_ForkPoolWorker-1_**5218**_1011_457_73157_****']\n",
      "['172.31.0.150_ForkPoolWorker-3_**8178**_1013_424_73273_****', '172.31.0.150_ForkPoolWorker-3_**8178**_1010_336_73144_****']\n",
      "***\n",
      "***\n",
      "['172.31.3.73_ForkPoolWorker-2_**5219**_1014_141_73287_****', '172.31.3.73_ForkPoolWorker-2_**5219**_1012_524_73201_****']\n",
      "['172.31.0.150_ForkPoolWorker-1_**8176**_1014_424_73317_****', '172.31.0.150_ForkPoolWorker-1_**8176**_1011_336_73188_****']\n",
      "***\n",
      "***\n",
      "['172.31.3.73_ForkPoolWorker-1_**5218**_1015_141_73331_****', '172.31.3.73_ForkPoolWorker-1_**5218**_1013_524_73244_****']\n",
      "['172.31.0.150_ForkPoolWorker-2_**8177**_1015_806_73360_****', '172.31.0.150_ForkPoolWorker-2_**8177**_1012_424_73230_****']\n",
      "***\n",
      "***\n",
      "['172.31.3.73_ForkPoolWorker-2_**5219**_1016_828_73373_****', '172.31.3.73_ForkPoolWorker-2_**5219**_1014_141_73287_****']\n",
      "['172.31.0.150_ForkPoolWorker-3_**8178**_1016_806_73408_****', '172.31.0.150_ForkPoolWorker-3_**8178**_1013_424_73273_****']\n",
      "***\n",
      "***\n",
      "['172.31.3.73_ForkPoolWorker-1_**5218**_1017_828_73423_****', '172.31.3.73_ForkPoolWorker-1_**5218**_1015_141_73331_****']\n",
      "['172.31.0.150_ForkPoolWorker-1_**8176**_1017_806_73453_****', '172.31.0.150_ForkPoolWorker-1_**8176**_1014_424_73317_****']\n",
      "***\n",
      "***\n",
      "['172.31.3.73_ForkPoolWorker-2_**5219**_1018_385_73467_****', '172.31.3.73_ForkPoolWorker-2_**5219**_1016_828_73373_****']\n",
      "['172.31.0.150_ForkPoolWorker-2_**8177**_1018_309_73496_****', '172.31.0.150_ForkPoolWorker-2_**8177**_1015_806_73360_****']\n",
      "***\n",
      "***\n",
      "['172.31.3.73_ForkPoolWorker-1_**5218**_1019_385_73510_****', '172.31.3.73_ForkPoolWorker-1_**5218**_1017_828_73423_****']\n",
      "['172.31.0.150_ForkPoolWorker-3_**8178**_1019_309_73541_****', '172.31.0.150_ForkPoolWorker-3_**8178**_1016_806_73408_****']\n",
      "***\n",
      "***\n",
      "['172.31.3.73_ForkPoolWorker-2_**5219**_1020_661_73556_****', '172.31.3.73_ForkPoolWorker-2_**5219**_1018_385_73467_****']\n",
      "['172.31.0.150_ForkPoolWorker-1_**8176**_1020_309_73585_****', '172.31.0.150_ForkPoolWorker-1_**8176**_1017_806_73453_****']\n",
      "***\n",
      "***\n",
      "['172.31.3.73_ForkPoolWorker-1_**5218**_1021_661_73605_****', '172.31.3.73_ForkPoolWorker-1_**5218**_1019_385_73510_****']\n",
      "['172.31.0.150_ForkPoolWorker-2_**8177**_1021_873_73637_****', '172.31.0.150_ForkPoolWorker-2_**8177**_1018_309_73496_****']\n",
      "***\n",
      "***\n",
      "['172.31.3.73_ForkPoolWorker-2_**5219**_1022_75_73651_****', '172.31.3.73_ForkPoolWorker-2_**5219**_1020_661_73556_****']\n",
      "['172.31.0.150_ForkPoolWorker-3_**8178**_1022_873_73680_****', '172.31.0.150_ForkPoolWorker-3_**8178**_1019_309_73541_****']\n",
      "***\n",
      "***\n",
      "['172.31.3.73_ForkPoolWorker-1_**5218**_1023_75_73694_****', '172.31.3.73_ForkPoolWorker-1_**5218**_1021_661_73605_****']\n",
      "['172.31.0.150_ForkPoolWorker-1_**8176**_1023_873_73724_****', '172.31.0.150_ForkPoolWorker-1_**8176**_1020_309_73585_****']\n",
      "***\n",
      "***\n",
      "['172.31.3.73_ForkPoolWorker-2_**5219**_1024_920_73739_****', '172.31.3.73_ForkPoolWorker-2_**5219**_1022_75_73651_****']\n",
      "['172.31.0.150_ForkPoolWorker-2_**8177**_1024_289_73768_****', '172.31.0.150_ForkPoolWorker-2_**8177**_1021_873_73637_****']\n",
      "***\n",
      "***\n",
      "['172.31.3.73_ForkPoolWorker-1_**5218**_1025_920_73785_****', '172.31.3.73_ForkPoolWorker-1_**5218**_1023_75_73694_****']\n",
      "['172.31.0.150_ForkPoolWorker-3_**8178**_1025_289_73814_****', '172.31.0.150_ForkPoolWorker-3_**8178**_1022_873_73680_****']\n",
      "***\n",
      "***\n",
      "['172.31.3.73_ForkPoolWorker-2_**5219**_1026_655_73829_****', '172.31.3.73_ForkPoolWorker-2_**5219**_1024_920_73739_****']\n",
      "['172.31.0.150_ForkPoolWorker-1_**8176**_1026_289_73859_****', '172.31.0.150_ForkPoolWorker-1_**8176**_1023_873_73724_****']\n",
      "***\n",
      "***\n",
      "['172.31.3.73_ForkPoolWorker-1_**5218**_1027_655_73873_****', '172.31.3.73_ForkPoolWorker-1_**5218**_1025_920_73785_****']\n",
      "['172.31.0.150_ForkPoolWorker-2_**8177**_1027_841_73902_****', '172.31.0.150_ForkPoolWorker-2_**8177**_1024_289_73768_****']\n",
      "***\n",
      "***\n",
      "['172.31.3.73_ForkPoolWorker-2_**5219**_1028_139_73916_****', '172.31.3.73_ForkPoolWorker-2_**5219**_1026_655_73829_****']\n",
      "['172.31.0.150_ForkPoolWorker-3_**8178**_1028_841_73945_****', '172.31.0.150_ForkPoolWorker-3_**8178**_1025_289_73814_****']\n",
      "***\n",
      "***\n",
      "['172.31.3.73_ForkPoolWorker-1_**5218**_1029_139_73958_****', '172.31.3.73_ForkPoolWorker-1_**5218**_1027_655_73873_****']\n",
      "['172.31.0.150_ForkPoolWorker-1_**8176**_1029_841_73987_****', '172.31.0.150_ForkPoolWorker-1_**8176**_1026_289_73859_****']\n",
      "***\n"
     ]
    }
   ],
   "source": [
    "for iter in range(0,30):\n",
    "    myresult1=message_to_workers1.delay(str(1000+iter)) \n",
    "    result1=myresult1.get()\n",
    "    \n",
    "    myresult2=message_to_workers2.delay(str(1000+iter))\n",
    "    result2=myresult2.get()\n",
    "    print('***')\n",
    "    print(result1)\n",
    "    print(result2)\n",
    "    print('***')"
   ]
  },
  {
   "cell_type": "code",
   "execution_count": null,
   "metadata": {},
   "outputs": [],
   "source": [
    "***\n",
    "['172.31.3.73_ForkPoolWorker-2_**5219**_1000_730_72646_****']\n",
    "['172.31.0.150_ForkPoolWorker-2_**8177**_1000_136_72679_****']\n",
    "***\n",
    "***\n",
    "['172.31.3.73_ForkPoolWorker-1_**5218**_1001_730_72699_****']\n",
    "['172.31.0.150_ForkPoolWorker-3_**8178**_1001_136_72731_****']\n",
    "***\n",
    "***\n",
    "['172.31.3.73_ForkPoolWorker-2_**5219**_1002_246_72748_****', '172.31.3.73_ForkPoolWorker-2_**5219**_1000_730_72646_****']\n",
    "['172.31.0.150_ForkPoolWorker-1_**8176**_1002_136_72778_****']\n",
    "***\n",
    "***\n",
    "['172.31.3.73_ForkPoolWorker-1_**5218**_1003_246_72796_****', '172.31.3.73_ForkPoolWorker-1_**5218**_1001_730_72699_****']\n",
    "['172.31.0.150_ForkPoolWorker-2_**8177**_1003_488_72826_****', '172.31.0.150_ForkPoolWorker-2_**8177**_1000_136_72679_****']\n",
    "***\n",
    "***\n",
    "['172.31.3.73_ForkPoolWorker-2_**5219**_1004_279_72844_****', '172.31.3.73_ForkPoolWorker-2_**5219**_1002_246_72748_****']\n",
    "['172.31.0.150_ForkPoolWorker-3_**8178**_1004_488_72874_****', '172.31.0.150_ForkPoolWorker-3_**8178**_1001_136_72731_****']\n",
    "***\n",
    "***\n",
    "['172.31.3.73_ForkPoolWorker-1_**5218**_1005_279_72887_****', '172.31.3.73_ForkPoolWorker-1_**5218**_1003_246_72796_****']\n",
    "['172.31.0.150_ForkPoolWorker-1_**8176**_1005_488_72916_****', '172.31.0.150_ForkPoolWorker-1_**8176**_1002_136_72778_****']\n",
    "***\n",
    "***\n",
    "['172.31.3.73_ForkPoolWorker-2_**5219**_1006_719_72930_****', '172.31.3.73_ForkPoolWorker-2_**5219**_1004_279_72844_****']\n",
    "['172.31.0.150_ForkPoolWorker-2_**8177**_1006_972_72962_****', '172.31.0.150_ForkPoolWorker-2_**8177**_1003_488_72826_****']\n",
    "***\n",
    "***\n",
    "['172.31.3.73_ForkPoolWorker-1_**5218**_1007_719_72976_****', '172.31.3.73_ForkPoolWorker-1_**5218**_1005_279_72887_****']\n",
    "['172.31.0.150_ForkPoolWorker-3_**8178**_1007_972_73004_****', '172.31.0.150_ForkPoolWorker-3_**8178**_1004_488_72874_****']\n",
    "***\n",
    "***\n",
    "['172.31.3.73_ForkPoolWorker-2_**5219**_1008_477_73021_****', '172.31.3.73_ForkPoolWorker-2_**5219**_1006_719_72930_****']\n",
    "['172.31.0.150_ForkPoolWorker-1_**8176**_1008_972_73052_****', '172.31.0.150_ForkPoolWorker-1_**8176**_1005_488_72916_****']\n",
    "***\n",
    "***\n",
    "['172.31.3.73_ForkPoolWorker-1_**5218**_1009_477_73067_****', '172.31.3.73_ForkPoolWorker-1_**5218**_1007_719_72976_****']\n",
    "['172.31.0.150_ForkPoolWorker-2_**8177**_1009_336_73099_****', '172.31.0.150_ForkPoolWorker-2_**8177**_1006_972_72962_****']\n",
    "***\n",
    "***\n",
    "['172.31.3.73_ForkPoolWorker-2_**5219**_1010_457_73114_****', '172.31.3.73_ForkPoolWorker-2_**5219**_1008_477_73021_****']\n",
    "['172.31.0.150_ForkPoolWorker-3_**8178**_1010_336_73144_****', '172.31.0.150_ForkPoolWorker-3_**8178**_1007_972_73004_****']\n",
    "***\n",
    "***\n",
    "['172.31.3.73_ForkPoolWorker-1_**5218**_1011_457_73157_****', '172.31.3.73_ForkPoolWorker-1_**5218**_1009_477_73067_****']\n",
    "['172.31.0.150_ForkPoolWorker-1_**8176**_1011_336_73188_****', '172.31.0.150_ForkPoolWorker-1_**8176**_1008_972_73052_****']\n",
    "***\n",
    "***\n",
    "['172.31.3.73_ForkPoolWorker-2_**5219**_1012_524_73201_****', '172.31.3.73_ForkPoolWorker-2_**5219**_1010_457_73114_****']\n",
    "['172.31.0.150_ForkPoolWorker-2_**8177**_1012_424_73230_****', '172.31.0.150_ForkPoolWorker-2_**8177**_1009_336_73099_****']\n",
    "***\n",
    "***\n",
    "['172.31.3.73_ForkPoolWorker-1_**5218**_1013_524_73244_****', '172.31.3.73_ForkPoolWorker-1_**5218**_1011_457_73157_****']\n",
    "['172.31.0.150_ForkPoolWorker-3_**8178**_1013_424_73273_****', '172.31.0.150_ForkPoolWorker-3_**8178**_1010_336_73144_****']\n",
    "***\n",
    "***\n",
    "['172.31.3.73_ForkPoolWorker-2_**5219**_1014_141_73287_****', '172.31.3.73_ForkPoolWorker-2_**5219**_1012_524_73201_****']\n",
    "['172.31.0.150_ForkPoolWorker-1_**8176**_1014_424_73317_****', '172.31.0.150_ForkPoolWorker-1_**8176**_1011_336_73188_****']\n",
    "***\n",
    "***\n",
    "['172.31.3.73_ForkPoolWorker-1_**5218**_1015_141_73331_****', '172.31.3.73_ForkPoolWorker-1_**5218**_1013_524_73244_****']\n",
    "['172.31.0.150_ForkPoolWorker-2_**8177**_1015_806_73360_****', '172.31.0.150_ForkPoolWorker-2_**8177**_1012_424_73230_****']\n",
    "***\n",
    "***\n",
    "['172.31.3.73_ForkPoolWorker-2_**5219**_1016_828_73373_****', '172.31.3.73_ForkPoolWorker-2_**5219**_1014_141_73287_****']\n",
    "['172.31.0.150_ForkPoolWorker-3_**8178**_1016_806_73408_****', '172.31.0.150_ForkPoolWorker-3_**8178**_1013_424_73273_****']\n",
    "***\n",
    "***\n",
    "['172.31.3.73_ForkPoolWorker-1_**5218**_1017_828_73423_****', '172.31.3.73_ForkPoolWorker-1_**5218**_1015_141_73331_****']\n",
    "['172.31.0.150_ForkPoolWorker-1_**8176**_1017_806_73453_****', '172.31.0.150_ForkPoolWorker-1_**8176**_1014_424_73317_****']\n",
    "***\n",
    "***\n",
    "['172.31.3.73_ForkPoolWorker-2_**5219**_1018_385_73467_****', '172.31.3.73_ForkPoolWorker-2_**5219**_1016_828_73373_****']\n",
    "['172.31.0.150_ForkPoolWorker-2_**8177**_1018_309_73496_****', '172.31.0.150_ForkPoolWorker-2_**8177**_1015_806_73360_****']\n",
    "***\n",
    "***\n",
    "['172.31.3.73_ForkPoolWorker-1_**5218**_1019_385_73510_****', '172.31.3.73_ForkPoolWorker-1_**5218**_1017_828_73423_****']\n",
    "['172.31.0.150_ForkPoolWorker-3_**8178**_1019_309_73541_****', '172.31.0.150_ForkPoolWorker-3_**8178**_1016_806_73408_****']\n",
    "***\n",
    "***\n",
    "['172.31.3.73_ForkPoolWorker-2_**5219**_1020_661_73556_****', '172.31.3.73_ForkPoolWorker-2_**5219**_1018_385_73467_****']\n",
    "['172.31.0.150_ForkPoolWorker-1_**8176**_1020_309_73585_****', '172.31.0.150_ForkPoolWorker-1_**8176**_1017_806_73453_****']\n",
    "***\n",
    "***\n",
    "['172.31.3.73_ForkPoolWorker-1_**5218**_1021_661_73605_****', '172.31.3.73_ForkPoolWorker-1_**5218**_1019_385_73510_****']\n",
    "['172.31.0.150_ForkPoolWorker-2_**8177**_1021_873_73637_****', '172.31.0.150_ForkPoolWorker-2_**8177**_1018_309_73496_****']\n",
    "***\n",
    "***\n",
    "['172.31.3.73_ForkPoolWorker-2_**5219**_1022_75_73651_****', '172.31.3.73_ForkPoolWorker-2_**5219**_1020_661_73556_****']\n",
    "['172.31.0.150_ForkPoolWorker-3_**8178**_1022_873_73680_****', '172.31.0.150_ForkPoolWorker-3_**8178**_1019_309_73541_****']\n",
    "***\n",
    "***\n",
    "['172.31.3.73_ForkPoolWorker-1_**5218**_1023_75_73694_****', '172.31.3.73_ForkPoolWorker-1_**5218**_1021_661_73605_****']\n",
    "['172.31.0.150_ForkPoolWorker-1_**8176**_1023_873_73724_****', '172.31.0.150_ForkPoolWorker-1_**8176**_1020_309_73585_****']\n",
    "***\n",
    "***\n",
    "['172.31.3.73_ForkPoolWorker-2_**5219**_1024_920_73739_****', '172.31.3.73_ForkPoolWorker-2_**5219**_1022_75_73651_****']\n",
    "['172.31.0.150_ForkPoolWorker-2_**8177**_1024_289_73768_****', '172.31.0.150_ForkPoolWorker-2_**8177**_1021_873_73637_****']\n",
    "***\n",
    "***\n",
    "['172.31.3.73_ForkPoolWorker-1_**5218**_1025_920_73785_****', '172.31.3.73_ForkPoolWorker-1_**5218**_1023_75_73694_****']\n",
    "['172.31.0.150_ForkPoolWorker-3_**8178**_1025_289_73814_****', '172.31.0.150_ForkPoolWorker-3_**8178**_1022_873_73680_****']\n",
    "***\n",
    "***\n",
    "['172.31.3.73_ForkPoolWorker-2_**5219**_1026_655_73829_****', '172.31.3.73_ForkPoolWorker-2_**5219**_1024_920_73739_****']\n",
    "['172.31.0.150_ForkPoolWorker-1_**8176**_1026_289_73859_****', '172.31.0.150_ForkPoolWorker-1_**8176**_1023_873_73724_****']\n",
    "***\n",
    "***\n",
    "['172.31.3.73_ForkPoolWorker-1_**5218**_1027_655_73873_****', '172.31.3.73_ForkPoolWorker-1_**5218**_1025_920_73785_****']\n",
    "['172.31.0.150_ForkPoolWorker-2_**8177**_1027_841_73902_****', '172.31.0.150_ForkPoolWorker-2_**8177**_1024_289_73768_****']\n",
    "***\n",
    "***\n",
    "['172.31.3.73_ForkPoolWorker-2_**5219**_1028_139_73916_****', '172.31.3.73_ForkPoolWorker-2_**5219**_1026_655_73829_****']\n",
    "['172.31.0.150_ForkPoolWorker-3_**8178**_1028_841_73945_****', '172.31.0.150_ForkPoolWorker-3_**8178**_1025_289_73814_****']\n",
    "***\n",
    "***\n",
    "['172.31.3.73_ForkPoolWorker-1_**5218**_1029_139_73958_****', '172.31.3.73_ForkPoolWorker-1_**5218**_1027_655_73873_****']\n",
    "['172.31.0.150_ForkPoolWorker-1_**8176**_1029_841_73987_****', '172.31.0.150_ForkPoolWorker-1_**8176**_1026_289_73859_****']\n",
    "***\n",
    "​\n"
   ]
  }
 ],
 "metadata": {
  "kernelspec": {
   "display_name": "Environment (conda_python3)",
   "language": "python",
   "name": "conda_python3"
  },
  "language_info": {
   "codemirror_mode": {
    "name": "ipython",
    "version": 3
   },
   "file_extension": ".py",
   "mimetype": "text/x-python",
   "name": "python",
   "nbconvert_exporter": "python",
   "pygments_lexer": "ipython3",
   "version": "3.6.5"
  }
 },
 "nbformat": 4,
 "nbformat_minor": 2
}

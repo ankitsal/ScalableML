{
 "cells": [
  {
   "cell_type": "code",
   "execution_count": 1,
   "metadata": {},
   "outputs": [],
   "source": [
    "#!pip install celery"
   ]
  },
  {
   "cell_type": "code",
   "execution_count": 2,
   "metadata": {},
   "outputs": [],
   "source": [
    "#!sudo rabbitmqctl add_user barnabas barnabaspwd\n",
    "#!sudo rabbitmqctl set_permissions -p / barnabas \".\" \".\" \".*\""
   ]
  },
  {
   "cell_type": "code",
   "execution_count": 3,
   "metadata": {},
   "outputs": [
    {
     "name": "stdout",
     "output_type": "stream",
     "text": [
      "Listing users ...\r\n",
      "barnabas\t[]\r\n",
      "guest\t[administrator]\r\n",
      "myguest\t[]\r\n",
      "myguest2\t[]\r\n"
     ]
    }
   ],
   "source": [
    "!sudo rabbitmqctl list_users"
   ]
  },
  {
   "cell_type": "markdown",
   "metadata": {},
   "source": [
    "on worker machine 1 start: <br>\n",
    "celery -A test_workers worker --loglevel=info --concurrency=3\n",
    "\n",
    "on worker machine 2 start: <br>\n",
    "celery -A test_workers worker --loglevel=info --concurrency=2\n"
   ]
  },
  {
   "cell_type": "code",
   "execution_count": 4,
   "metadata": {},
   "outputs": [],
   "source": [
    "import random\n",
    "import time\n",
    "import numpy as np\n",
    "import matplotlib.pyplot as plt\n",
    "import json\n",
    "\n",
    "import celery\n",
    "from test_workers import message_to_workers1\n",
    "\n",
    "import math\n",
    "import socket\n"
   ]
  },
  {
   "cell_type": "code",
   "execution_count": 5,
   "metadata": {},
   "outputs": [
    {
     "data": {
      "text/plain": [
       "{'celery@ip-172-31-0-150': {'ok': 'pong'},\n",
       " 'celery@ip-172-31-3-73': {'ok': 'pong'}}"
      ]
     },
     "execution_count": 5,
     "metadata": {},
     "output_type": "execute_result"
    }
   ],
   "source": [
    "celery.current_app.control.inspect().ping()"
   ]
  },
  {
   "cell_type": "code",
   "execution_count": 6,
   "metadata": {},
   "outputs": [
    {
     "name": "stdout",
     "output_type": "stream",
     "text": [
      "['celery@ip-172-31-0-150', 'celery@ip-172-31-3-73']\n"
     ]
    }
   ],
   "source": [
    "mykeys=list(celery.current_app.control.inspect().stats().keys())\n",
    "print(mykeys)"
   ]
  },
  {
   "cell_type": "code",
   "execution_count": 7,
   "metadata": {},
   "outputs": [
    {
     "data": {
      "text/plain": [
       "'172.31.0.150'"
      ]
     },
     "execution_count": 7,
     "metadata": {},
     "output_type": "execute_result"
    }
   ],
   "source": [
    "socket.gethostbyname(socket.gethostname())"
   ]
  },
  {
   "cell_type": "code",
   "execution_count": 8,
   "metadata": {},
   "outputs": [
    {
     "data": {
      "text/plain": [
       "{'max-concurrency': 3,\n",
       " 'processes': [17792, 17793, 17794],\n",
       " 'max-tasks-per-child': 'N/A',\n",
       " 'put-guarded-by-semaphore': False,\n",
       " 'timeouts': [0, 0],\n",
       " 'writes': {'total': 0,\n",
       "  'avg': '0.00%',\n",
       "  'all': '',\n",
       "  'raw': '',\n",
       "  'strategy': 'fair',\n",
       "  'inqueues': {'total': 3, 'active': 0}}}"
      ]
     },
     "execution_count": 8,
     "metadata": {},
     "output_type": "execute_result"
    }
   ],
   "source": [
    "mydict=celery.current_app.control.inspect().stats()[mykeys[0]]\n",
    "mydict['pool']"
   ]
  },
  {
   "cell_type": "code",
   "execution_count": 9,
   "metadata": {},
   "outputs": [
    {
     "data": {
      "text/plain": [
       "{'max-concurrency': 4,\n",
       " 'processes': [12392, 12393, 12394, 12396],\n",
       " 'max-tasks-per-child': 'N/A',\n",
       " 'put-guarded-by-semaphore': False,\n",
       " 'timeouts': [0, 0],\n",
       " 'writes': {'total': 0,\n",
       "  'avg': '0.00%',\n",
       "  'all': '',\n",
       "  'raw': '',\n",
       "  'strategy': 'fair',\n",
       "  'inqueues': {'total': 4, 'active': 0}}}"
      ]
     },
     "execution_count": 9,
     "metadata": {},
     "output_type": "execute_result"
    }
   ],
   "source": [
    "mydict=celery.current_app.control.inspect().stats()[mykeys[1]]\n",
    "mydict['pool']"
   ]
  },
  {
   "cell_type": "code",
   "execution_count": 10,
   "metadata": {},
   "outputs": [
    {
     "data": {
      "text/plain": [
       "<kombu.connection.ConnectionPool at 0x7f92ea3c3208>"
      ]
     },
     "execution_count": 10,
     "metadata": {},
     "output_type": "execute_result"
    }
   ],
   "source": [
    "celery.current_app.pool"
   ]
  },
  {
   "cell_type": "code",
   "execution_count": 11,
   "metadata": {},
   "outputs": [
    {
     "name": "stdout",
     "output_type": "stream",
     "text": [
      "***\n",
      "['172.31.0.150_ForkPoolWorker-2_1_1000_69_55071']\n",
      "***\n",
      "***\n",
      "['172.31.3.73_ForkPoolWorker-2_1_1001_640_55082']\n",
      "***\n",
      "***\n",
      "['172.31.0.150_ForkPoolWorker-3_2_1002_69_55090']\n",
      "***\n",
      "***\n",
      "['172.31.3.73_ForkPoolWorker-1_0_1003_640_55098']\n",
      "***\n",
      "***\n",
      "['172.31.0.150_ForkPoolWorker-1_0_1004_69_55101']\n",
      "***\n",
      "***\n",
      "['172.31.3.73_ForkPoolWorker-2_1_1005_12_55109', '172.31.3.73_ForkPoolWorker-2_1_1001_640_55082']\n",
      "***\n",
      "***\n",
      "['172.31.0.150_ForkPoolWorker-2_1_1006_954_55112', '172.31.0.150_ForkPoolWorker-2_1_1000_69_55071']\n",
      "***\n",
      "***\n",
      "['172.31.3.73_ForkPoolWorker-1_0_1007_12_55116', '172.31.3.73_ForkPoolWorker-1_0_1003_640_55098']\n",
      "***\n",
      "***\n",
      "['172.31.0.150_ForkPoolWorker-3_2_1008_954_55122', '172.31.0.150_ForkPoolWorker-3_2_1002_69_55090']\n",
      "***\n",
      "***\n",
      "['172.31.3.73_ForkPoolWorker-2_1_1009_200_55124', '172.31.3.73_ForkPoolWorker-2_1_1005_12_55109', '172.31.3.73_ForkPoolWorker-2_1_1001_640_55082']\n",
      "***\n",
      "***\n",
      "['172.31.0.150_ForkPoolWorker-1_0_1010_954_55128', '172.31.0.150_ForkPoolWorker-1_0_1004_69_55101']\n",
      "***\n",
      "***\n",
      "['172.31.3.73_ForkPoolWorker-1_0_1011_200_55130', '172.31.3.73_ForkPoolWorker-1_0_1007_12_55116', '172.31.3.73_ForkPoolWorker-1_0_1003_640_55098']\n",
      "***\n",
      "***\n",
      "['172.31.0.150_ForkPoolWorker-2_1_1012_81_55132', '172.31.0.150_ForkPoolWorker-2_1_1006_954_55112', '172.31.0.150_ForkPoolWorker-2_1_1000_69_55071']\n",
      "***\n",
      "***\n",
      "['172.31.3.73_ForkPoolWorker-2_1_1013_610_55137', '172.31.3.73_ForkPoolWorker-2_1_1009_200_55124', '172.31.3.73_ForkPoolWorker-2_1_1005_12_55109', '172.31.3.73_ForkPoolWorker-2_1_1001_640_55082']\n",
      "***\n",
      "***\n",
      "['172.31.0.150_ForkPoolWorker-3_2_1014_81_55140', '172.31.0.150_ForkPoolWorker-3_2_1008_954_55122', '172.31.0.150_ForkPoolWorker-3_2_1002_69_55090']\n",
      "***\n",
      "***\n",
      "['172.31.3.73_ForkPoolWorker-1_0_1015_610_55143', '172.31.3.73_ForkPoolWorker-1_0_1011_200_55130', '172.31.3.73_ForkPoolWorker-1_0_1007_12_55116', '172.31.3.73_ForkPoolWorker-1_0_1003_640_55098']\n",
      "***\n",
      "***\n",
      "['172.31.0.150_ForkPoolWorker-1_0_1016_81_55146', '172.31.0.150_ForkPoolWorker-1_0_1010_954_55128', '172.31.0.150_ForkPoolWorker-1_0_1004_69_55101']\n",
      "***\n",
      "***\n",
      "['172.31.3.73_ForkPoolWorker-2_1_1017_733_55150', '172.31.3.73_ForkPoolWorker-2_1_1013_610_55137', '172.31.3.73_ForkPoolWorker-2_1_1009_200_55124', '172.31.3.73_ForkPoolWorker-2_1_1005_12_55109', '172.31.3.73_ForkPoolWorker-2_1_1001_640_55082']\n",
      "***\n",
      "***\n",
      "['172.31.0.150_ForkPoolWorker-2_1_1018_462_55152', '172.31.0.150_ForkPoolWorker-2_1_1012_81_55132', '172.31.0.150_ForkPoolWorker-2_1_1006_954_55112', '172.31.0.150_ForkPoolWorker-2_1_1000_69_55071']\n",
      "***\n",
      "***\n",
      "['172.31.3.73_ForkPoolWorker-1_0_1019_733_55154', '172.31.3.73_ForkPoolWorker-1_0_1015_610_55143', '172.31.3.73_ForkPoolWorker-1_0_1011_200_55130', '172.31.3.73_ForkPoolWorker-1_0_1007_12_55116', '172.31.3.73_ForkPoolWorker-1_0_1003_640_55098']\n",
      "***\n",
      "***\n",
      "['172.31.0.150_ForkPoolWorker-3_2_1020_462_55156', '172.31.0.150_ForkPoolWorker-3_2_1014_81_55140', '172.31.0.150_ForkPoolWorker-3_2_1008_954_55122', '172.31.0.150_ForkPoolWorker-3_2_1002_69_55090']\n",
      "***\n",
      "***\n",
      "['172.31.3.73_ForkPoolWorker-2_1_1021_827_55162', '172.31.3.73_ForkPoolWorker-2_1_1017_733_55150', '172.31.3.73_ForkPoolWorker-2_1_1013_610_55137', '172.31.3.73_ForkPoolWorker-2_1_1009_200_55124', '172.31.3.73_ForkPoolWorker-2_1_1005_12_55109', '172.31.3.73_ForkPoolWorker-2_1_1001_640_55082']\n",
      "***\n",
      "***\n",
      "['172.31.0.150_ForkPoolWorker-1_0_1022_462_55165', '172.31.0.150_ForkPoolWorker-1_0_1016_81_55146', '172.31.0.150_ForkPoolWorker-1_0_1010_954_55128', '172.31.0.150_ForkPoolWorker-1_0_1004_69_55101']\n",
      "***\n",
      "***\n",
      "['172.31.3.73_ForkPoolWorker-1_0_1023_827_55169', '172.31.3.73_ForkPoolWorker-1_0_1019_733_55154', '172.31.3.73_ForkPoolWorker-1_0_1015_610_55143', '172.31.3.73_ForkPoolWorker-1_0_1011_200_55130', '172.31.3.73_ForkPoolWorker-1_0_1007_12_55116', '172.31.3.73_ForkPoolWorker-1_0_1003_640_55098']\n",
      "***\n",
      "***\n",
      "['172.31.0.150_ForkPoolWorker-2_1_1024_501_55172', '172.31.0.150_ForkPoolWorker-2_1_1018_462_55152', '172.31.0.150_ForkPoolWorker-2_1_1012_81_55132', '172.31.0.150_ForkPoolWorker-2_1_1006_954_55112', '172.31.0.150_ForkPoolWorker-2_1_1000_69_55071']\n",
      "***\n",
      "***\n",
      "['172.31.3.73_ForkPoolWorker-2_1_1025_148_55183', '172.31.3.73_ForkPoolWorker-2_1_1021_827_55162', '172.31.3.73_ForkPoolWorker-2_1_1017_733_55150', '172.31.3.73_ForkPoolWorker-2_1_1013_610_55137', '172.31.3.73_ForkPoolWorker-2_1_1009_200_55124', '172.31.3.73_ForkPoolWorker-2_1_1005_12_55109', '172.31.3.73_ForkPoolWorker-2_1_1001_640_55082']\n",
      "***\n",
      "***\n",
      "['172.31.0.150_ForkPoolWorker-3_2_1026_501_55186', '172.31.0.150_ForkPoolWorker-3_2_1020_462_55156', '172.31.0.150_ForkPoolWorker-3_2_1014_81_55140', '172.31.0.150_ForkPoolWorker-3_2_1008_954_55122', '172.31.0.150_ForkPoolWorker-3_2_1002_69_55090']\n",
      "***\n",
      "***\n",
      "['172.31.3.73_ForkPoolWorker-1_0_1027_148_55189', '172.31.3.73_ForkPoolWorker-1_0_1023_827_55169', '172.31.3.73_ForkPoolWorker-1_0_1019_733_55154', '172.31.3.73_ForkPoolWorker-1_0_1015_610_55143', '172.31.3.73_ForkPoolWorker-1_0_1011_200_55130', '172.31.3.73_ForkPoolWorker-1_0_1007_12_55116', '172.31.3.73_ForkPoolWorker-1_0_1003_640_55098']\n",
      "***\n",
      "***\n",
      "['172.31.0.150_ForkPoolWorker-1_0_1028_501_55192', '172.31.0.150_ForkPoolWorker-1_0_1022_462_55165', '172.31.0.150_ForkPoolWorker-1_0_1016_81_55146', '172.31.0.150_ForkPoolWorker-1_0_1010_954_55128', '172.31.0.150_ForkPoolWorker-1_0_1004_69_55101']\n",
      "***\n",
      "***\n",
      "['172.31.3.73_ForkPoolWorker-2_1_1029_321_55197', '172.31.3.73_ForkPoolWorker-2_1_1025_148_55183', '172.31.3.73_ForkPoolWorker-2_1_1021_827_55162', '172.31.3.73_ForkPoolWorker-2_1_1017_733_55150', '172.31.3.73_ForkPoolWorker-2_1_1013_610_55137', '172.31.3.73_ForkPoolWorker-2_1_1009_200_55124', '172.31.3.73_ForkPoolWorker-2_1_1005_12_55109', '172.31.3.73_ForkPoolWorker-2_1_1001_640_55082']\n",
      "***\n"
     ]
    }
   ],
   "source": [
    "for iter in range(0,30):\n",
    "    myresult=message_to_workers1.delay(str(1000+iter)) \n",
    "    results=myresult.get()\n",
    "    print('***')\n",
    "    print(results)\n",
    "    print('***')"
   ]
  },
  {
   "cell_type": "code",
   "execution_count": null,
   "metadata": {},
   "outputs": [],
   "source": []
  }
 ],
 "metadata": {
  "kernelspec": {
   "display_name": "Environment (conda_python3)",
   "language": "python",
   "name": "conda_python3"
  },
  "language_info": {
   "codemirror_mode": {
    "name": "ipython",
    "version": 3
   },
   "file_extension": ".py",
   "mimetype": "text/x-python",
   "name": "python",
   "nbconvert_exporter": "python",
   "pygments_lexer": "ipython3",
   "version": "3.6.5"
  }
 },
 "nbformat": 4,
 "nbformat_minor": 2
}

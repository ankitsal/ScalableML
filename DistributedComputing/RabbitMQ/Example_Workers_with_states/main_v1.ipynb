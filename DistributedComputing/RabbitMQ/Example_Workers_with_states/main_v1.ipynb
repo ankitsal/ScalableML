{
 "cells": [
  {
   "cell_type": "code",
   "execution_count": 1,
   "metadata": {},
   "outputs": [],
   "source": [
    "#!pip install celery"
   ]
  },
  {
   "cell_type": "code",
   "execution_count": 2,
   "metadata": {},
   "outputs": [],
   "source": [
    "#!sudo rabbitmqctl add_user barnabas barnabaspwd\n",
    "#!sudo rabbitmqctl set_permissions -p / barnabas \".\" \".\" \".*\""
   ]
  },
  {
   "cell_type": "code",
   "execution_count": 3,
   "metadata": {},
   "outputs": [
    {
     "name": "stdout",
     "output_type": "stream",
     "text": [
      "Listing users ...\r\n",
      "barnabas\t[]\r\n",
      "guest\t[administrator]\r\n",
      "myguest\t[]\r\n",
      "myguest2\t[]\r\n"
     ]
    }
   ],
   "source": [
    "!sudo rabbitmqctl list_users"
   ]
  },
  {
   "cell_type": "markdown",
   "metadata": {},
   "source": [
    "on worker machine 1 start: <br>\n",
    "celery -A test_workers worker --loglevel=info --concurrency=3\n",
    "\n",
    "on worker machine 2 start: <br>\n",
    "celery -A test_workers worker --loglevel=info --concurrency=4\n"
   ]
  },
  {
   "cell_type": "code",
   "execution_count": 4,
   "metadata": {},
   "outputs": [],
   "source": [
    "import random\n",
    "import time\n",
    "import numpy as np\n",
    "import matplotlib.pyplot as plt\n",
    "import json\n",
    "\n",
    "import celery\n",
    "from test_workers import message_to_workers1, message_to_workers2\n",
    "\n",
    "import math\n",
    "import socket\n",
    "import os\n"
   ]
  },
  {
   "cell_type": "code",
   "execution_count": 5,
   "metadata": {},
   "outputs": [
    {
     "data": {
      "text/plain": [
       "{'celery@ip-172-31-0-150': {'ok': 'pong'}}"
      ]
     },
     "execution_count": 5,
     "metadata": {},
     "output_type": "execute_result"
    }
   ],
   "source": [
    "celery.current_app.control.inspect().ping()"
   ]
  },
  {
   "cell_type": "code",
   "execution_count": 6,
   "metadata": {},
   "outputs": [
    {
     "name": "stdout",
     "output_type": "stream",
     "text": [
      "['celery@ip-172-31-0-150']\n"
     ]
    }
   ],
   "source": [
    "mykeys=list(celery.current_app.control.inspect().stats().keys())\n",
    "print(mykeys)"
   ]
  },
  {
   "cell_type": "code",
   "execution_count": 7,
   "metadata": {},
   "outputs": [
    {
     "data": {
      "text/plain": [
       "'172.31.0.150'"
      ]
     },
     "execution_count": 7,
     "metadata": {},
     "output_type": "execute_result"
    }
   ],
   "source": [
    "socket.gethostbyname(socket.gethostname())"
   ]
  },
  {
   "cell_type": "code",
   "execution_count": 8,
   "metadata": {},
   "outputs": [
    {
     "data": {
      "text/plain": [
       "{'max-concurrency': 3,\n",
       " 'processes': [10779, 10780, 10781],\n",
       " 'max-tasks-per-child': 'N/A',\n",
       " 'put-guarded-by-semaphore': False,\n",
       " 'timeouts': [0, 0],\n",
       " 'writes': {'total': 0,\n",
       "  'avg': '0.00%',\n",
       "  'all': '',\n",
       "  'raw': '',\n",
       "  'strategy': 'fair',\n",
       "  'inqueues': {'total': 3, 'active': 0}}}"
      ]
     },
     "execution_count": 8,
     "metadata": {},
     "output_type": "execute_result"
    }
   ],
   "source": [
    "mydict=celery.current_app.control.inspect().stats()[mykeys[0]]\n",
    "mydict['pool']"
   ]
  },
  {
   "cell_type": "code",
   "execution_count": 9,
   "metadata": {},
   "outputs": [
    {
     "ename": "IndexError",
     "evalue": "list index out of range",
     "output_type": "error",
     "traceback": [
      "\u001b[0;31m---------------------------------------------------------------------------\u001b[0m",
      "\u001b[0;31mIndexError\u001b[0m                                Traceback (most recent call last)",
      "\u001b[0;32m<ipython-input-9-ff4b743a70b5>\u001b[0m in \u001b[0;36m<module>\u001b[0;34m()\u001b[0m\n\u001b[0;32m----> 1\u001b[0;31m \u001b[0mmydict\u001b[0m\u001b[0;34m=\u001b[0m\u001b[0mcelery\u001b[0m\u001b[0;34m.\u001b[0m\u001b[0mcurrent_app\u001b[0m\u001b[0;34m.\u001b[0m\u001b[0mcontrol\u001b[0m\u001b[0;34m.\u001b[0m\u001b[0minspect\u001b[0m\u001b[0;34m(\u001b[0m\u001b[0;34m)\u001b[0m\u001b[0;34m.\u001b[0m\u001b[0mstats\u001b[0m\u001b[0;34m(\u001b[0m\u001b[0;34m)\u001b[0m\u001b[0;34m[\u001b[0m\u001b[0mmykeys\u001b[0m\u001b[0;34m[\u001b[0m\u001b[0;36m1\u001b[0m\u001b[0;34m]\u001b[0m\u001b[0;34m]\u001b[0m\u001b[0;34m\u001b[0m\u001b[0m\n\u001b[0m\u001b[1;32m      2\u001b[0m \u001b[0mmydict\u001b[0m\u001b[0;34m[\u001b[0m\u001b[0;34m'pool'\u001b[0m\u001b[0;34m]\u001b[0m\u001b[0;34m\u001b[0m\u001b[0m\n",
      "\u001b[0;31mIndexError\u001b[0m: list index out of range"
     ]
    }
   ],
   "source": [
    "mydict=celery.current_app.control.inspect().stats()[mykeys[1]]\n",
    "mydict['pool']"
   ]
  },
  {
   "cell_type": "code",
   "execution_count": null,
   "metadata": {},
   "outputs": [],
   "source": [
    "#process id\n",
    "os.getpid()"
   ]
  },
  {
   "cell_type": "code",
   "execution_count": 10,
   "metadata": {},
   "outputs": [
    {
     "name": "stdout",
     "output_type": "stream",
     "text": [
      "***\n",
      "['172.31.0.150_ForkPoolWorker-2_**10780**_1000_599_69776_****']\n",
      "['172.31.0.150_ForkPoolWorker-3_**10781**_1000_599_69779_**10781****']\n",
      "***\n",
      "***\n",
      "['172.31.0.150_ForkPoolWorker-1_**10779**_1001_599_69782_****']\n",
      "['172.31.0.150_ForkPoolWorker-2_**10780**_1001_581_69784_**10780****', '172.31.0.150_ForkPoolWorker-2_**10780**_1000_599_69776_****']\n",
      "***\n",
      "***\n",
      "['172.31.0.150_ForkPoolWorker-3_**10781**_1002_581_69786_****', '172.31.0.150_ForkPoolWorker-3_**10781**_1000_599_69779_**10781****']\n",
      "['172.31.0.150_ForkPoolWorker-1_**10779**_1002_581_69788_**10779****', '172.31.0.150_ForkPoolWorker-1_**10779**_1001_599_69782_****']\n",
      "***\n",
      "***\n",
      "['172.31.0.150_ForkPoolWorker-2_**10780**_1003_115_69791_****', '172.31.0.150_ForkPoolWorker-2_**10780**_1001_581_69784_**10780****']\n",
      "['172.31.0.150_ForkPoolWorker-3_**10781**_1003_115_69792_**10781****', '172.31.0.150_ForkPoolWorker-3_**10781**_1002_581_69786_****']\n",
      "***\n",
      "***\n",
      "['172.31.0.150_ForkPoolWorker-1_**10779**_1004_115_69793_****', '172.31.0.150_ForkPoolWorker-1_**10779**_1002_581_69788_**10779****']\n",
      "['172.31.0.150_ForkPoolWorker-2_**10780**_1004_572_69795_**10780****', '172.31.0.150_ForkPoolWorker-2_**10780**_1003_115_69791_****']\n",
      "***\n",
      "***\n",
      "['172.31.0.150_ForkPoolWorker-3_**10781**_1005_572_69796_****', '172.31.0.150_ForkPoolWorker-3_**10781**_1003_115_69792_**10781****']\n",
      "['172.31.0.150_ForkPoolWorker-1_**10779**_1005_572_69798_**10779****', '172.31.0.150_ForkPoolWorker-1_**10779**_1004_115_69793_****']\n",
      "***\n",
      "***\n",
      "['172.31.0.150_ForkPoolWorker-2_**10780**_1006_862_69799_****', '172.31.0.150_ForkPoolWorker-2_**10780**_1004_572_69795_**10780****']\n",
      "['172.31.0.150_ForkPoolWorker-3_**10781**_1006_862_69802_**10781****', '172.31.0.150_ForkPoolWorker-3_**10781**_1005_572_69796_****']\n",
      "***\n",
      "***\n",
      "['172.31.0.150_ForkPoolWorker-1_**10779**_1007_862_69803_****', '172.31.0.150_ForkPoolWorker-1_**10779**_1005_572_69798_**10779****']\n",
      "['172.31.0.150_ForkPoolWorker-2_**10780**_1007_796_69805_**10780****', '172.31.0.150_ForkPoolWorker-2_**10780**_1006_862_69799_****']\n",
      "***\n",
      "***\n",
      "['172.31.0.150_ForkPoolWorker-3_**10781**_1008_796_69807_****', '172.31.0.150_ForkPoolWorker-3_**10781**_1006_862_69802_**10781****']\n",
      "['172.31.0.150_ForkPoolWorker-1_**10779**_1008_796_69810_**10779****', '172.31.0.150_ForkPoolWorker-1_**10779**_1007_862_69803_****']\n",
      "***\n",
      "***\n",
      "['172.31.0.150_ForkPoolWorker-2_**10780**_1009_78_69811_****', '172.31.0.150_ForkPoolWorker-2_**10780**_1007_796_69805_**10780****']\n",
      "['172.31.0.150_ForkPoolWorker-3_**10781**_1009_78_69813_**10781****', '172.31.0.150_ForkPoolWorker-3_**10781**_1008_796_69807_****']\n",
      "***\n",
      "***\n",
      "['172.31.0.150_ForkPoolWorker-1_**10779**_1010_78_69816_****', '172.31.0.150_ForkPoolWorker-1_**10779**_1008_796_69810_**10779****']\n",
      "['172.31.0.150_ForkPoolWorker-2_**10780**_1010_238_69817_**10780****', '172.31.0.150_ForkPoolWorker-2_**10780**_1009_78_69811_****']\n",
      "***\n",
      "***\n",
      "['172.31.0.150_ForkPoolWorker-3_**10781**_1011_238_69818_****', '172.31.0.150_ForkPoolWorker-3_**10781**_1009_78_69813_**10781****']\n",
      "['172.31.0.150_ForkPoolWorker-1_**10779**_1011_238_69820_**10779****', '172.31.0.150_ForkPoolWorker-1_**10779**_1010_78_69816_****']\n",
      "***\n",
      "***\n",
      "['172.31.0.150_ForkPoolWorker-2_**10780**_1012_799_69821_****', '172.31.0.150_ForkPoolWorker-2_**10780**_1010_238_69817_**10780****']\n",
      "['172.31.0.150_ForkPoolWorker-3_**10781**_1012_799_69824_**10781****', '172.31.0.150_ForkPoolWorker-3_**10781**_1011_238_69818_****']\n",
      "***\n",
      "***\n",
      "['172.31.0.150_ForkPoolWorker-1_**10779**_1013_799_69826_****', '172.31.0.150_ForkPoolWorker-1_**10779**_1011_238_69820_**10779****']\n",
      "['172.31.0.150_ForkPoolWorker-2_**10780**_1013_167_69828_**10780****', '172.31.0.150_ForkPoolWorker-2_**10780**_1012_799_69821_****']\n",
      "***\n",
      "***\n",
      "['172.31.0.150_ForkPoolWorker-3_**10781**_1014_167_69830_****', '172.31.0.150_ForkPoolWorker-3_**10781**_1012_799_69824_**10781****']\n",
      "['172.31.0.150_ForkPoolWorker-1_**10779**_1014_167_69832_**10779****', '172.31.0.150_ForkPoolWorker-1_**10779**_1013_799_69826_****']\n",
      "***\n",
      "***\n",
      "['172.31.0.150_ForkPoolWorker-2_**10780**_1015_43_69833_****', '172.31.0.150_ForkPoolWorker-2_**10780**_1013_167_69828_**10780****']\n",
      "['172.31.0.150_ForkPoolWorker-3_**10781**_1015_43_69836_**10781****', '172.31.0.150_ForkPoolWorker-3_**10781**_1014_167_69830_****']\n",
      "***\n",
      "***\n",
      "['172.31.0.150_ForkPoolWorker-1_**10779**_1016_43_69838_****', '172.31.0.150_ForkPoolWorker-1_**10779**_1014_167_69832_**10779****']\n",
      "['172.31.0.150_ForkPoolWorker-2_**10780**_1016_514_69839_**10780****', '172.31.0.150_ForkPoolWorker-2_**10780**_1015_43_69833_****']\n",
      "***\n",
      "***\n",
      "['172.31.0.150_ForkPoolWorker-3_**10781**_1017_514_69841_****', '172.31.0.150_ForkPoolWorker-3_**10781**_1015_43_69836_**10781****']\n",
      "['172.31.0.150_ForkPoolWorker-1_**10779**_1017_514_69843_**10779****', '172.31.0.150_ForkPoolWorker-1_**10779**_1016_43_69838_****']\n",
      "***\n",
      "***\n",
      "['172.31.0.150_ForkPoolWorker-2_**10780**_1018_957_69844_****', '172.31.0.150_ForkPoolWorker-2_**10780**_1016_514_69839_**10780****']\n",
      "['172.31.0.150_ForkPoolWorker-3_**10781**_1018_957_69845_**10781****', '172.31.0.150_ForkPoolWorker-3_**10781**_1017_514_69841_****']\n",
      "***\n",
      "***\n",
      "['172.31.0.150_ForkPoolWorker-1_**10779**_1019_957_69847_****', '172.31.0.150_ForkPoolWorker-1_**10779**_1017_514_69843_**10779****']\n",
      "['172.31.0.150_ForkPoolWorker-2_**10780**_1019_735_69850_**10780****', '172.31.0.150_ForkPoolWorker-2_**10780**_1018_957_69844_****']\n",
      "***\n",
      "***\n",
      "['172.31.0.150_ForkPoolWorker-3_**10781**_1020_735_69852_****', '172.31.0.150_ForkPoolWorker-3_**10781**_1018_957_69845_**10781****']\n",
      "['172.31.0.150_ForkPoolWorker-1_**10779**_1020_735_69854_**10779****', '172.31.0.150_ForkPoolWorker-1_**10779**_1019_957_69847_****']\n",
      "***\n",
      "***\n",
      "['172.31.0.150_ForkPoolWorker-2_**10780**_1021_307_69855_****', '172.31.0.150_ForkPoolWorker-2_**10780**_1019_735_69850_**10780****']\n",
      "['172.31.0.150_ForkPoolWorker-3_**10781**_1021_307_69857_**10781****', '172.31.0.150_ForkPoolWorker-3_**10781**_1020_735_69852_****']\n",
      "***\n",
      "***\n",
      "['172.31.0.150_ForkPoolWorker-1_**10779**_1022_307_69858_****', '172.31.0.150_ForkPoolWorker-1_**10779**_1020_735_69854_**10779****']\n",
      "['172.31.0.150_ForkPoolWorker-2_**10780**_1022_37_69860_**10780****', '172.31.0.150_ForkPoolWorker-2_**10780**_1021_307_69855_****']\n",
      "***\n",
      "***\n",
      "['172.31.0.150_ForkPoolWorker-3_**10781**_1023_37_69861_****', '172.31.0.150_ForkPoolWorker-3_**10781**_1021_307_69857_**10781****']\n",
      "['172.31.0.150_ForkPoolWorker-1_**10779**_1023_37_69863_**10779****', '172.31.0.150_ForkPoolWorker-1_**10779**_1022_307_69858_****']\n",
      "***\n",
      "***\n",
      "['172.31.0.150_ForkPoolWorker-2_**10780**_1024_949_69864_****', '172.31.0.150_ForkPoolWorker-2_**10780**_1022_37_69860_**10780****']\n",
      "['172.31.0.150_ForkPoolWorker-3_**10781**_1024_949_69866_**10781****', '172.31.0.150_ForkPoolWorker-3_**10781**_1023_37_69861_****']\n",
      "***\n",
      "***\n",
      "['172.31.0.150_ForkPoolWorker-1_**10779**_1025_949_69868_****', '172.31.0.150_ForkPoolWorker-1_**10779**_1023_37_69863_**10779****']\n",
      "['172.31.0.150_ForkPoolWorker-2_**10780**_1025_26_69870_**10780****', '172.31.0.150_ForkPoolWorker-2_**10780**_1024_949_69864_****']\n",
      "***\n",
      "***\n",
      "['172.31.0.150_ForkPoolWorker-3_**10781**_1026_26_69871_****', '172.31.0.150_ForkPoolWorker-3_**10781**_1024_949_69866_**10781****']\n",
      "['172.31.0.150_ForkPoolWorker-1_**10779**_1026_26_69872_**10779****', '172.31.0.150_ForkPoolWorker-1_**10779**_1025_949_69868_****']\n",
      "***\n",
      "***\n",
      "['172.31.0.150_ForkPoolWorker-2_**10780**_1027_864_69874_****', '172.31.0.150_ForkPoolWorker-2_**10780**_1025_26_69870_**10780****']\n",
      "['172.31.0.150_ForkPoolWorker-3_**10781**_1027_864_69875_**10781****', '172.31.0.150_ForkPoolWorker-3_**10781**_1026_26_69871_****']\n",
      "***\n",
      "***\n",
      "['172.31.0.150_ForkPoolWorker-1_**10779**_1028_864_69878_****', '172.31.0.150_ForkPoolWorker-1_**10779**_1026_26_69872_**10779****']\n",
      "['172.31.0.150_ForkPoolWorker-2_**10780**_1028_643_69880_**10780****', '172.31.0.150_ForkPoolWorker-2_**10780**_1027_864_69874_****']\n",
      "***\n",
      "***\n",
      "['172.31.0.150_ForkPoolWorker-3_**10781**_1029_643_69882_****', '172.31.0.150_ForkPoolWorker-3_**10781**_1027_864_69875_**10781****']\n",
      "['172.31.0.150_ForkPoolWorker-1_**10779**_1029_643_69883_**10779****', '172.31.0.150_ForkPoolWorker-1_**10779**_1028_864_69878_****']\n",
      "***\n"
     ]
    }
   ],
   "source": [
    "for iter in range(0,30):\n",
    "    myresult1=message_to_workers1.delay(str(1000+iter)) \n",
    "    result1=myresult1.get()\n",
    "    \n",
    "    myresult2=message_to_workers2.delay(str(1000+iter))\n",
    "    result2=myresult2.get()\n",
    "    print('***')\n",
    "    print(result1)\n",
    "    print(result2)\n",
    "    print('***')"
   ]
  },
  {
   "cell_type": "code",
   "execution_count": null,
   "metadata": {},
   "outputs": [],
   "source": []
  }
 ],
 "metadata": {
  "kernelspec": {
   "display_name": "Environment (conda_python3)",
   "language": "python",
   "name": "conda_python3"
  },
  "language_info": {
   "codemirror_mode": {
    "name": "ipython",
    "version": 3
   },
   "file_extension": ".py",
   "mimetype": "text/x-python",
   "name": "python",
   "nbconvert_exporter": "python",
   "pygments_lexer": "ipython3",
   "version": "3.6.5"
  }
 },
 "nbformat": 4,
 "nbformat_minor": 2
}

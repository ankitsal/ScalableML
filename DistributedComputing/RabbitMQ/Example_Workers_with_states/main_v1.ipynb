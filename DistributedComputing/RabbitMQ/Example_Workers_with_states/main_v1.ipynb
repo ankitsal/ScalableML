{
 "cells": [
  {
   "cell_type": "code",
   "execution_count": 1,
   "metadata": {},
   "outputs": [],
   "source": [
    "#!pip install celery"
   ]
  },
  {
   "cell_type": "code",
   "execution_count": 2,
   "metadata": {},
   "outputs": [],
   "source": [
    "#!sudo rabbitmqctl add_user myguest myguestpwd\n",
    "#!sudo rabbitmqctl set_permissions -p / myguest \".\" \".\" \".*\""
   ]
  },
  {
   "cell_type": "code",
   "execution_count": 3,
   "metadata": {},
   "outputs": [
    {
     "name": "stdout",
     "output_type": "stream",
     "text": [
      "Listing users ...\r\n",
      "guest\t[administrator]\r\n",
      "myguest\t[]\r\n"
     ]
    }
   ],
   "source": [
    "!sudo rabbitmqctl list_users"
   ]
  },
  {
   "cell_type": "markdown",
   "metadata": {},
   "source": [
    "on worker machine 1 start: <br>\n",
    "celery -A test_workers worker --loglevel=info --concurrency=3\n",
    "\n",
    "on worker machine 2 start: <br>\n",
    "celery -A test_workers worker --loglevel=info --concurrency=2\n"
   ]
  },
  {
   "cell_type": "code",
   "execution_count": 4,
   "metadata": {},
   "outputs": [],
   "source": [
    "import random\n",
    "import time\n",
    "import numpy as np\n",
    "import matplotlib.pyplot as plt\n",
    "import json\n",
    "\n",
    "import celery\n",
    "from test_workers import message_to_workers1\n",
    "\n",
    "import math"
   ]
  },
  {
   "cell_type": "code",
   "execution_count": 6,
   "metadata": {},
   "outputs": [
    {
     "data": {
      "text/plain": [
       "{'celery@ip-172-31-3-73': {'ok': 'pong'},\n",
       " 'celery@ip-172-31-0-150': {'ok': 'pong'}}"
      ]
     },
     "execution_count": 6,
     "metadata": {},
     "output_type": "execute_result"
    }
   ],
   "source": [
    "celery.current_app.control.inspect().ping()"
   ]
  },
  {
   "cell_type": "code",
   "execution_count": 9,
   "metadata": {},
   "outputs": [
    {
     "name": "stdout",
     "output_type": "stream",
     "text": [
      "['celery@ip-172-31-0-150', 'celery@ip-172-31-3-73']\n"
     ]
    }
   ],
   "source": [
    "mykeys=list(celery.current_app.control.inspect().stats().keys())\n",
    "print(mykeys)"
   ]
  },
  {
   "cell_type": "code",
   "execution_count": 10,
   "metadata": {},
   "outputs": [
    {
     "data": {
      "text/plain": [
       "{'max-concurrency': 3,\n",
       " 'processes': [23073, 23074, 23075],\n",
       " 'max-tasks-per-child': 'N/A',\n",
       " 'put-guarded-by-semaphore': False,\n",
       " 'timeouts': [0, 0],\n",
       " 'writes': {'total': 0,\n",
       "  'avg': '0.00%',\n",
       "  'all': '',\n",
       "  'raw': '',\n",
       "  'strategy': 'fair',\n",
       "  'inqueues': {'total': 3, 'active': 0}}}"
      ]
     },
     "execution_count": 10,
     "metadata": {},
     "output_type": "execute_result"
    }
   ],
   "source": [
    "mydict=celery.current_app.control.inspect().stats()[mykeys[0]]\n",
    "mydict['pool']"
   ]
  },
  {
   "cell_type": "code",
   "execution_count": 11,
   "metadata": {},
   "outputs": [
    {
     "data": {
      "text/plain": [
       "{'max-concurrency': 2,\n",
       " 'processes': [15449, 15451],\n",
       " 'max-tasks-per-child': 'N/A',\n",
       " 'put-guarded-by-semaphore': False,\n",
       " 'timeouts': [0, 0],\n",
       " 'writes': {'total': 0,\n",
       "  'avg': '0.00%',\n",
       "  'all': '',\n",
       "  'raw': '',\n",
       "  'strategy': 'fair',\n",
       "  'inqueues': {'total': 2, 'active': 0}}}"
      ]
     },
     "execution_count": 11,
     "metadata": {},
     "output_type": "execute_result"
    }
   ],
   "source": [
    "mydict=celery.current_app.control.inspect().stats()[mykeys[1]]\n",
    "mydict['pool']"
   ]
  },
  {
   "cell_type": "code",
   "execution_count": 12,
   "metadata": {},
   "outputs": [
    {
     "data": {
      "text/plain": [
       "<kombu.connection.ConnectionPool at 0x7ff2ba8b0128>"
      ]
     },
     "execution_count": 12,
     "metadata": {},
     "output_type": "execute_result"
    }
   ],
   "source": [
    "celery.current_app.pool"
   ]
  },
  {
   "cell_type": "code",
   "execution_count": 13,
   "metadata": {},
   "outputs": [
    {
     "name": "stdout",
     "output_type": "stream",
     "text": [
      "***\n",
      "['file1_ForkPoolWorker-2_1_1000_738_24265']\n",
      "***\n",
      "***\n",
      "None_ForkPoolWorker-2_1_1001_100_1554266242.7627752\n",
      "***\n",
      "***\n",
      "['file1_ForkPoolWorker-3_2_1002_738_24279']\n",
      "***\n",
      "***\n",
      "None_ForkPoolWorker-2_1_1003_33_1554266242.869532\n",
      "***\n",
      "***\n",
      "['file1_ForkPoolWorker-1_0_1004_738_24287']\n",
      "***\n",
      "***\n",
      "None_ForkPoolWorker-2_1_1005_36_1554266242.95107\n",
      "***\n",
      "***\n",
      "['file1_ForkPoolWorker-2_1_1000_738_24265', 'file1_ForkPoolWorker-2_1_1006_552_24297']\n",
      "***\n",
      "***\n",
      "None_ForkPoolWorker-2_1_1007_843_1554266243.016466\n",
      "***\n",
      "***\n",
      "['file1_ForkPoolWorker-3_2_1002_738_24279', 'file1_ForkPoolWorker-3_2_1008_552_24306']\n",
      "***\n",
      "***\n",
      "None_ForkPoolWorker-2_1_1009_175_1554266243.0989738\n",
      "***\n",
      "***\n",
      "['file1_ForkPoolWorker-1_0_1004_738_24287', 'file1_ForkPoolWorker-1_0_1010_552_24313']\n",
      "***\n",
      "***\n",
      "None_ForkPoolWorker-2_1_1011_401_1554266243.1993673\n",
      "***\n",
      "***\n",
      "['file1_ForkPoolWorker-2_1_1000_738_24265', 'file1_ForkPoolWorker-2_1_1006_552_24297', 'file1_ForkPoolWorker-2_1_1012_439_24325']\n",
      "***\n",
      "***\n",
      "None_ForkPoolWorker-2_1_1013_818_1554266243.3437593\n",
      "***\n",
      "***\n",
      "['file1_ForkPoolWorker-3_2_1002_738_24279', 'file1_ForkPoolWorker-3_2_1008_552_24306', 'file1_ForkPoolWorker-3_2_1014_439_24336']\n",
      "***\n",
      "***\n",
      "None_ForkPoolWorker-2_1_1015_571_1554266243.434728\n",
      "***\n",
      "***\n",
      "['file1_ForkPoolWorker-1_0_1004_738_24287', 'file1_ForkPoolWorker-1_0_1010_552_24313', 'file1_ForkPoolWorker-1_0_1016_439_24347']\n",
      "***\n",
      "***\n",
      "None_ForkPoolWorker-2_1_1017_771_1554266243.5333195\n",
      "***\n",
      "***\n",
      "['file1_ForkPoolWorker-2_1_1000_738_24265', 'file1_ForkPoolWorker-2_1_1006_552_24297', 'file1_ForkPoolWorker-2_1_1012_439_24325', 'file1_ForkPoolWorker-2_1_1018_36_24360']\n",
      "***\n",
      "***\n",
      "None_ForkPoolWorker-2_1_1019_443_1554266243.6583457\n",
      "***\n",
      "***\n",
      "['file1_ForkPoolWorker-3_2_1002_738_24279', 'file1_ForkPoolWorker-3_2_1008_552_24306', 'file1_ForkPoolWorker-3_2_1014_439_24336', 'file1_ForkPoolWorker-3_2_1020_36_24369']\n",
      "***\n",
      "***\n",
      "None_ForkPoolWorker-2_1_1021_468_1554266243.746541\n",
      "***\n",
      "***\n",
      "['file1_ForkPoolWorker-1_0_1004_738_24287', 'file1_ForkPoolWorker-1_0_1010_552_24313', 'file1_ForkPoolWorker-1_0_1016_439_24347', 'file1_ForkPoolWorker-1_0_1022_36_24378']\n",
      "***\n",
      "***\n",
      "None_ForkPoolWorker-2_1_1023_805_1554266243.8327312\n",
      "***\n",
      "***\n",
      "['file1_ForkPoolWorker-2_1_1000_738_24265', 'file1_ForkPoolWorker-2_1_1006_552_24297', 'file1_ForkPoolWorker-2_1_1012_439_24325', 'file1_ForkPoolWorker-2_1_1018_36_24360', 'file1_ForkPoolWorker-2_1_1024_861_24390']\n",
      "***\n",
      "***\n",
      "None_ForkPoolWorker-2_1_1025_13_1554266243.9406252\n",
      "***\n",
      "***\n",
      "['file1_ForkPoolWorker-3_2_1002_738_24279', 'file1_ForkPoolWorker-3_2_1008_552_24306', 'file1_ForkPoolWorker-3_2_1014_439_24336', 'file1_ForkPoolWorker-3_2_1020_36_24369', 'file1_ForkPoolWorker-3_2_1026_861_24398']\n",
      "***\n",
      "***\n",
      "None_ForkPoolWorker-2_1_1027_74_1554266244.032734\n",
      "***\n",
      "***\n",
      "['file1_ForkPoolWorker-1_0_1004_738_24287', 'file1_ForkPoolWorker-1_0_1010_552_24313', 'file1_ForkPoolWorker-1_0_1016_439_24347', 'file1_ForkPoolWorker-1_0_1022_36_24378', 'file1_ForkPoolWorker-1_0_1028_861_24405']\n",
      "***\n",
      "***\n",
      "None_ForkPoolWorker-2_1_1029_475_1554266244.095796\n",
      "***\n"
     ]
    }
   ],
   "source": [
    "for iter in range(0,30):\n",
    "    myresult=message_to_workers1.delay(str(1000+iter)) \n",
    "    results=myresult.get()\n",
    "    print('***')\n",
    "    print(results)\n",
    "    print('***')"
   ]
  },
  {
   "cell_type": "code",
   "execution_count": 18,
   "metadata": {},
   "outputs": [
    {
     "name": "stdout",
     "output_type": "stream",
     "text": [
      "/home/ubuntu/anaconda3/envs/python3/lib/python3.6/site-packages/IPython/core/interactiveshell.py\n"
     ]
    }
   ],
   "source": [
    "import inspect\n",
    "print(inspect.stack()[1][1])"
   ]
  },
  {
   "cell_type": "code",
   "execution_count": 19,
   "metadata": {},
   "outputs": [
    {
     "name": "stdout",
     "output_type": "stream",
     "text": [
      "/home/ubuntu/anaconda3/envs/python3/lib/python3.6/os.py\n"
     ]
    }
   ],
   "source": [
    "import os\n",
    "\n",
    "# Prints the full path of where the os.py module resides\n",
    "print(os.__file__)"
   ]
  },
  {
   "cell_type": "code",
   "execution_count": 21,
   "metadata": {},
   "outputs": [
    {
     "data": {
      "text/plain": [
       "'/home/ubuntu/Projects/DistributedComputing/RabbitMQ/Example_Workers_with_states'"
      ]
     },
     "execution_count": 21,
     "metadata": {},
     "output_type": "execute_result"
    }
   ],
   "source": [
    "os.path.dirname(os.path.realpath('__file__'))"
   ]
  },
  {
   "cell_type": "code",
   "execution_count": null,
   "metadata": {},
   "outputs": [],
   "source": []
  }
 ],
 "metadata": {
  "kernelspec": {
   "display_name": "Environment (conda_python3)",
   "language": "python",
   "name": "conda_python3"
  },
  "language_info": {
   "codemirror_mode": {
    "name": "ipython",
    "version": 3
   },
   "file_extension": ".py",
   "mimetype": "text/x-python",
   "name": "python",
   "nbconvert_exporter": "python",
   "pygments_lexer": "ipython3",
   "version": "3.6.5"
  }
 },
 "nbformat": 4,
 "nbformat_minor": 2
}

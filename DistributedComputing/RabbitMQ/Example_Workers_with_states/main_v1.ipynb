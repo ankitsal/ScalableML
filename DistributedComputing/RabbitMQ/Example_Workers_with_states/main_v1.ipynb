{
 "cells": [
  {
   "cell_type": "code",
   "execution_count": 1,
   "metadata": {},
   "outputs": [],
   "source": [
    "#!pip install celery"
   ]
  },
  {
   "cell_type": "code",
   "execution_count": 2,
   "metadata": {},
   "outputs": [],
   "source": [
    "#!sudo rabbitmqctl add_user barnabas barnabaspwd\n",
    "#!sudo rabbitmqctl set_permissions -p / barnabas \".\" \".\" \".*\""
   ]
  },
  {
   "cell_type": "code",
   "execution_count": 3,
   "metadata": {},
   "outputs": [
    {
     "name": "stdout",
     "output_type": "stream",
     "text": [
      "Listing users ...\r\n",
      "barnabas\t[]\r\n",
      "guest\t[administrator]\r\n",
      "myguest\t[]\r\n",
      "myguest2\t[]\r\n"
     ]
    }
   ],
   "source": [
    "!sudo rabbitmqctl list_users"
   ]
  },
  {
   "cell_type": "markdown",
   "metadata": {},
   "source": [
    "on worker machine 1 start: <br>\n",
    "celery -A test_workers worker --loglevel=info --concurrency=3\n",
    "\n",
    "on worker machine 2 start: <br>\n",
    "celery -A test_workers worker --loglevel=info --concurrency=4\n"
   ]
  },
  {
   "cell_type": "code",
   "execution_count": 4,
   "metadata": {},
   "outputs": [],
   "source": [
    "import random\n",
    "import time\n",
    "import numpy as np\n",
    "import matplotlib.pyplot as plt\n",
    "import json\n",
    "\n",
    "import celery\n",
    "from test_workers import message_to_workers1, message_to_workers2\n",
    "\n",
    "import math\n",
    "import socket\n",
    "import os\n"
   ]
  },
  {
   "cell_type": "code",
   "execution_count": 5,
   "metadata": {},
   "outputs": [
    {
     "data": {
      "text/plain": [
       "{'celery@ip-172-31-0-150': {'ok': 'pong'}}"
      ]
     },
     "execution_count": 5,
     "metadata": {},
     "output_type": "execute_result"
    }
   ],
   "source": [
    "celery.current_app.control.inspect().ping()"
   ]
  },
  {
   "cell_type": "code",
   "execution_count": 6,
   "metadata": {},
   "outputs": [
    {
     "name": "stdout",
     "output_type": "stream",
     "text": [
      "['celery@ip-172-31-0-150']\n"
     ]
    }
   ],
   "source": [
    "mykeys=list(celery.current_app.control.inspect().stats().keys())\n",
    "print(mykeys)"
   ]
  },
  {
   "cell_type": "code",
   "execution_count": 7,
   "metadata": {},
   "outputs": [
    {
     "data": {
      "text/plain": [
       "'172.31.0.150'"
      ]
     },
     "execution_count": 7,
     "metadata": {},
     "output_type": "execute_result"
    }
   ],
   "source": [
    "socket.gethostbyname(socket.gethostname())"
   ]
  },
  {
   "cell_type": "code",
   "execution_count": 8,
   "metadata": {},
   "outputs": [
    {
     "data": {
      "text/plain": [
       "{'max-concurrency': 3,\n",
       " 'processes': [25051, 25052, 25053],\n",
       " 'max-tasks-per-child': 'N/A',\n",
       " 'put-guarded-by-semaphore': False,\n",
       " 'timeouts': [0, 0],\n",
       " 'writes': {'total': 0,\n",
       "  'avg': '0.00%',\n",
       "  'all': '',\n",
       "  'raw': '',\n",
       "  'strategy': 'fair',\n",
       "  'inqueues': {'total': 3, 'active': 0}}}"
      ]
     },
     "execution_count": 8,
     "metadata": {},
     "output_type": "execute_result"
    }
   ],
   "source": [
    "mydict=celery.current_app.control.inspect().stats()[mykeys[0]]\n",
    "mydict['pool']"
   ]
  },
  {
   "cell_type": "code",
   "execution_count": 9,
   "metadata": {},
   "outputs": [
    {
     "data": {
      "text/plain": [
       "{'max-concurrency': 3,\n",
       " 'processes': [15139, 15140, 15141],\n",
       " 'max-tasks-per-child': 'N/A',\n",
       " 'put-guarded-by-semaphore': False,\n",
       " 'timeouts': [0, 0],\n",
       " 'writes': {'total': 0,\n",
       "  'avg': '0.00%',\n",
       "  'all': '',\n",
       "  'raw': '',\n",
       "  'strategy': 'fair',\n",
       "  'inqueues': {'total': 3, 'active': 0}}}"
      ]
     },
     "execution_count": 9,
     "metadata": {},
     "output_type": "execute_result"
    }
   ],
   "source": [
    "mydict=celery.current_app.control.inspect().stats()[mykeys[1]]\n",
    "mydict['pool']"
   ]
  },
  {
   "cell_type": "code",
   "execution_count": 9,
   "metadata": {},
   "outputs": [
    {
     "data": {
      "text/plain": [
       "25168"
      ]
     },
     "execution_count": 9,
     "metadata": {},
     "output_type": "execute_result"
    }
   ],
   "source": [
    "#process id\n",
    "os.getpid()"
   ]
  },
  {
   "cell_type": "code",
   "execution_count": 10,
   "metadata": {},
   "outputs": [
    {
     "name": "stdout",
     "output_type": "stream",
     "text": [
      "***\n",
      "['172.31.0.150_ForkPoolWorker-2_**25052**_1000_537_21006_****']\n",
      "['172.31.0.150_ForkPoolWorker-3_**25053**_1000_537_21029_**25053****']\n",
      "***\n",
      "***\n",
      "['172.31.0.150_ForkPoolWorker-1_**25051**_1001_537_21052_****']\n",
      "['172.31.0.150_ForkPoolWorker-2_**25052**_1001_818_21074_**25052****', '172.31.0.150_ForkPoolWorker-2_**25052**_1000_537_21006_****']\n",
      "***\n",
      "***\n",
      "['172.31.0.150_ForkPoolWorker-3_**25053**_1002_818_21095_****', '172.31.0.150_ForkPoolWorker-3_**25053**_1000_537_21029_**25053****']\n",
      "['172.31.0.150_ForkPoolWorker-1_**25051**_1002_818_21116_**25051****', '172.31.0.150_ForkPoolWorker-1_**25051**_1001_537_21052_****']\n",
      "***\n",
      "***\n",
      "['172.31.0.150_ForkPoolWorker-2_**25052**_1003_801_21137_****', '172.31.0.150_ForkPoolWorker-2_**25052**_1001_818_21074_**25052****']\n",
      "['172.31.0.150_ForkPoolWorker-3_**25053**_1003_801_21159_**25053****', '172.31.0.150_ForkPoolWorker-3_**25053**_1002_818_21095_****']\n",
      "***\n",
      "***\n",
      "['172.31.0.150_ForkPoolWorker-1_**25051**_1004_801_21181_****', '172.31.0.150_ForkPoolWorker-1_**25051**_1002_818_21116_**25051****']\n",
      "['172.31.0.150_ForkPoolWorker-2_**25052**_1004_862_21202_**25052****', '172.31.0.150_ForkPoolWorker-2_**25052**_1003_801_21137_****']\n",
      "***\n",
      "***\n",
      "['172.31.0.150_ForkPoolWorker-3_**25053**_1005_862_21225_****', '172.31.0.150_ForkPoolWorker-3_**25053**_1003_801_21159_**25053****']\n",
      "['172.31.0.150_ForkPoolWorker-1_**25051**_1005_862_21246_**25051****', '172.31.0.150_ForkPoolWorker-1_**25051**_1004_801_21181_****']\n",
      "***\n",
      "***\n",
      "['172.31.0.150_ForkPoolWorker-2_**25052**_1006_372_21268_****', '172.31.0.150_ForkPoolWorker-2_**25052**_1004_862_21202_**25052****']\n",
      "['172.31.0.150_ForkPoolWorker-3_**25053**_1006_372_21289_**25053****', '172.31.0.150_ForkPoolWorker-3_**25053**_1005_862_21225_****']\n",
      "***\n",
      "***\n",
      "['172.31.0.150_ForkPoolWorker-1_**25051**_1007_372_21310_****', '172.31.0.150_ForkPoolWorker-1_**25051**_1005_862_21246_**25051****']\n",
      "['172.31.0.150_ForkPoolWorker-2_**25052**_1007_369_21331_**25052****', '172.31.0.150_ForkPoolWorker-2_**25052**_1006_372_21268_****']\n",
      "***\n",
      "***\n",
      "['172.31.0.150_ForkPoolWorker-3_**25053**_1008_369_21352_****', '172.31.0.150_ForkPoolWorker-3_**25053**_1006_372_21289_**25053****']\n",
      "['172.31.0.150_ForkPoolWorker-1_**25051**_1008_369_21373_**25051****', '172.31.0.150_ForkPoolWorker-1_**25051**_1007_372_21310_****']\n",
      "***\n",
      "***\n",
      "['172.31.0.150_ForkPoolWorker-2_**25052**_1009_975_21397_****', '172.31.0.150_ForkPoolWorker-2_**25052**_1007_369_21331_**25052****']\n",
      "['172.31.0.150_ForkPoolWorker-3_**25053**_1009_975_21418_**25053****', '172.31.0.150_ForkPoolWorker-3_**25053**_1008_369_21352_****']\n",
      "***\n",
      "***\n",
      "['172.31.0.150_ForkPoolWorker-1_**25051**_1010_975_21440_****', '172.31.0.150_ForkPoolWorker-1_**25051**_1008_369_21373_**25051****']\n",
      "['172.31.0.150_ForkPoolWorker-2_**25052**_1010_185_21461_**25052****', '172.31.0.150_ForkPoolWorker-2_**25052**_1009_975_21397_****']\n",
      "***\n",
      "***\n",
      "['172.31.0.150_ForkPoolWorker-3_**25053**_1011_185_21482_****', '172.31.0.150_ForkPoolWorker-3_**25053**_1009_975_21418_**25053****']\n",
      "['172.31.0.150_ForkPoolWorker-1_**25051**_1011_185_21503_**25051****', '172.31.0.150_ForkPoolWorker-1_**25051**_1010_975_21440_****']\n",
      "***\n",
      "***\n",
      "['172.31.0.150_ForkPoolWorker-2_**25052**_1012_856_21524_****', '172.31.0.150_ForkPoolWorker-2_**25052**_1010_185_21461_**25052****']\n",
      "['172.31.0.150_ForkPoolWorker-3_**25053**_1012_856_21546_**25053****', '172.31.0.150_ForkPoolWorker-3_**25053**_1011_185_21482_****']\n",
      "***\n",
      "***\n",
      "['172.31.0.150_ForkPoolWorker-1_**25051**_1013_856_21567_****', '172.31.0.150_ForkPoolWorker-1_**25051**_1011_185_21503_**25051****']\n",
      "['172.31.0.150_ForkPoolWorker-2_**25052**_1013_559_21588_**25052****', '172.31.0.150_ForkPoolWorker-2_**25052**_1012_856_21524_****']\n",
      "***\n",
      "***\n",
      "['172.31.0.150_ForkPoolWorker-3_**25053**_1014_559_21609_****', '172.31.0.150_ForkPoolWorker-3_**25053**_1012_856_21546_**25053****']\n",
      "['172.31.0.150_ForkPoolWorker-1_**25051**_1014_559_21630_**25051****', '172.31.0.150_ForkPoolWorker-1_**25051**_1013_856_21567_****']\n",
      "***\n",
      "***\n",
      "['172.31.0.150_ForkPoolWorker-2_**25052**_1015_237_21652_****', '172.31.0.150_ForkPoolWorker-2_**25052**_1013_559_21588_**25052****']\n",
      "['172.31.0.150_ForkPoolWorker-3_**25053**_1015_237_21673_**25053****', '172.31.0.150_ForkPoolWorker-3_**25053**_1014_559_21609_****']\n",
      "***\n",
      "***\n",
      "['172.31.0.150_ForkPoolWorker-1_**25051**_1016_237_21695_****', '172.31.0.150_ForkPoolWorker-1_**25051**_1014_559_21630_**25051****']\n",
      "['172.31.0.150_ForkPoolWorker-2_**25052**_1016_10_21717_**25052****', '172.31.0.150_ForkPoolWorker-2_**25052**_1015_237_21652_****']\n",
      "***\n",
      "***\n",
      "['172.31.0.150_ForkPoolWorker-3_**25053**_1017_10_21738_****', '172.31.0.150_ForkPoolWorker-3_**25053**_1015_237_21673_**25053****']\n",
      "['172.31.0.150_ForkPoolWorker-1_**25051**_1017_10_21759_**25051****', '172.31.0.150_ForkPoolWorker-1_**25051**_1016_237_21695_****']\n",
      "***\n",
      "***\n",
      "['172.31.0.150_ForkPoolWorker-2_**25052**_1018_586_21781_****', '172.31.0.150_ForkPoolWorker-2_**25052**_1016_10_21717_**25052****']\n",
      "['172.31.0.150_ForkPoolWorker-3_**25053**_1018_586_21802_**25053****', '172.31.0.150_ForkPoolWorker-3_**25053**_1017_10_21738_****']\n",
      "***\n",
      "***\n",
      "['172.31.0.150_ForkPoolWorker-1_**25051**_1019_586_21823_****', '172.31.0.150_ForkPoolWorker-1_**25051**_1017_10_21759_**25051****']\n",
      "['172.31.0.150_ForkPoolWorker-2_**25052**_1019_549_21844_**25052****', '172.31.0.150_ForkPoolWorker-2_**25052**_1018_586_21781_****']\n",
      "***\n",
      "***\n",
      "['172.31.0.150_ForkPoolWorker-3_**25053**_1020_549_21865_****', '172.31.0.150_ForkPoolWorker-3_**25053**_1018_586_21802_**25053****']\n",
      "['172.31.0.150_ForkPoolWorker-1_**25051**_1020_549_21886_**25051****', '172.31.0.150_ForkPoolWorker-1_**25051**_1019_586_21823_****']\n",
      "***\n",
      "***\n",
      "['172.31.0.150_ForkPoolWorker-2_**25052**_1021_517_21907_****', '172.31.0.150_ForkPoolWorker-2_**25052**_1019_549_21844_**25052****']\n",
      "['172.31.0.150_ForkPoolWorker-3_**25053**_1021_517_21929_**25053****', '172.31.0.150_ForkPoolWorker-3_**25053**_1020_549_21865_****']\n",
      "***\n",
      "***\n",
      "['172.31.0.150_ForkPoolWorker-1_**25051**_1022_517_21951_****', '172.31.0.150_ForkPoolWorker-1_**25051**_1020_549_21886_**25051****']\n",
      "['172.31.0.150_ForkPoolWorker-2_**25052**_1022_410_21972_**25052****', '172.31.0.150_ForkPoolWorker-2_**25052**_1021_517_21907_****']\n",
      "***\n",
      "***\n",
      "['172.31.0.150_ForkPoolWorker-3_**25053**_1023_410_21994_****', '172.31.0.150_ForkPoolWorker-3_**25053**_1021_517_21929_**25053****']\n",
      "['172.31.0.150_ForkPoolWorker-1_**25051**_1023_410_22015_**25051****', '172.31.0.150_ForkPoolWorker-1_**25051**_1022_517_21951_****']\n",
      "***\n",
      "***\n",
      "['172.31.0.150_ForkPoolWorker-2_**25052**_1024_77_22036_****', '172.31.0.150_ForkPoolWorker-2_**25052**_1022_410_21972_**25052****']\n",
      "['172.31.0.150_ForkPoolWorker-3_**25053**_1024_77_22057_**25053****', '172.31.0.150_ForkPoolWorker-3_**25053**_1023_410_21994_****']\n",
      "***\n",
      "***\n",
      "['172.31.0.150_ForkPoolWorker-1_**25051**_1025_77_22079_****', '172.31.0.150_ForkPoolWorker-1_**25051**_1023_410_22015_**25051****']\n",
      "['172.31.0.150_ForkPoolWorker-2_**25052**_1025_579_22101_**25052****', '172.31.0.150_ForkPoolWorker-2_**25052**_1024_77_22036_****']\n",
      "***\n",
      "***\n",
      "['172.31.0.150_ForkPoolWorker-3_**25053**_1026_579_22122_****', '172.31.0.150_ForkPoolWorker-3_**25053**_1024_77_22057_**25053****']\n",
      "['172.31.0.150_ForkPoolWorker-1_**25051**_1026_579_22143_**25051****', '172.31.0.150_ForkPoolWorker-1_**25051**_1025_77_22079_****']\n",
      "***\n",
      "***\n",
      "['172.31.0.150_ForkPoolWorker-2_**25052**_1027_467_22164_****', '172.31.0.150_ForkPoolWorker-2_**25052**_1025_579_22101_**25052****']\n",
      "['172.31.0.150_ForkPoolWorker-3_**25053**_1027_467_22185_**25053****', '172.31.0.150_ForkPoolWorker-3_**25053**_1026_579_22122_****']\n",
      "***\n",
      "***\n",
      "['172.31.0.150_ForkPoolWorker-1_**25051**_1028_467_22207_****', '172.31.0.150_ForkPoolWorker-1_**25051**_1026_579_22143_**25051****']\n",
      "['172.31.0.150_ForkPoolWorker-2_**25052**_1028_773_22228_**25052****', '172.31.0.150_ForkPoolWorker-2_**25052**_1027_467_22164_****']\n",
      "***\n",
      "***\n",
      "['172.31.0.150_ForkPoolWorker-3_**25053**_1029_773_22249_****', '172.31.0.150_ForkPoolWorker-3_**25053**_1027_467_22185_**25053****']\n",
      "['172.31.0.150_ForkPoolWorker-1_**25051**_1029_773_22270_**25051****', '172.31.0.150_ForkPoolWorker-1_**25051**_1028_467_22207_****']\n",
      "***\n"
     ]
    }
   ],
   "source": [
    "for iter in range(0,30):\n",
    "    myresult1=message_to_workers1.delay(str(1000+iter)) \n",
    "    result1=myresult1.get()\n",
    "    \n",
    "    myresult2=message_to_workers2.delay(str(1000+iter))\n",
    "    result2=myresult2.get()\n",
    "    print('***')\n",
    "    print(result1)\n",
    "    print(result2)\n",
    "    print('***')"
   ]
  },
  {
   "cell_type": "code",
   "execution_count": null,
   "metadata": {},
   "outputs": [],
   "source": []
  }
 ],
 "metadata": {
  "kernelspec": {
   "display_name": "Environment (conda_python3)",
   "language": "python",
   "name": "conda_python3"
  },
  "language_info": {
   "codemirror_mode": {
    "name": "ipython",
    "version": 3
   },
   "file_extension": ".py",
   "mimetype": "text/x-python",
   "name": "python",
   "nbconvert_exporter": "python",
   "pygments_lexer": "ipython3",
   "version": "3.6.5"
  }
 },
 "nbformat": 4,
 "nbformat_minor": 2
}

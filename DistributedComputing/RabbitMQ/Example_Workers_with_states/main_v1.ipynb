{
 "cells": [
  {
   "cell_type": "code",
   "execution_count": 1,
   "metadata": {},
   "outputs": [],
   "source": [
    "#!pip install celery"
   ]
  },
  {
   "cell_type": "code",
   "execution_count": 2,
   "metadata": {},
   "outputs": [],
   "source": [
    "#!sudo rabbitmqctl add_user barnabas barnabaspwd\n",
    "#!sudo rabbitmqctl set_permissions -p / barnabas \".\" \".\" \".*\""
   ]
  },
  {
   "cell_type": "code",
   "execution_count": 3,
   "metadata": {},
   "outputs": [
    {
     "name": "stdout",
     "output_type": "stream",
     "text": [
      "Listing users ...\r\n",
      "barnabas\t[]\r\n",
      "guest\t[administrator]\r\n",
      "myguest\t[]\r\n",
      "myguest2\t[]\r\n"
     ]
    }
   ],
   "source": [
    "!sudo rabbitmqctl list_users"
   ]
  },
  {
   "cell_type": "markdown",
   "metadata": {},
   "source": [
    "on worker machine 1 start: <br>\n",
    "celery -A test_workers worker --loglevel=info --concurrency=3\n",
    "\n",
    "on worker machine 2 start: <br>\n",
    "celery -A test_workers worker --loglevel=info --concurrency=4\n"
   ]
  },
  {
   "cell_type": "code",
   "execution_count": 4,
   "metadata": {},
   "outputs": [],
   "source": [
    "import random\n",
    "import time\n",
    "import numpy as np\n",
    "import matplotlib.pyplot as plt\n",
    "import json\n",
    "\n",
    "import celery\n",
    "from test_workers import message_to_workers1, message_to_workers2\n",
    "\n",
    "import math\n",
    "import socket\n"
   ]
  },
  {
   "cell_type": "code",
   "execution_count": 5,
   "metadata": {},
   "outputs": [
    {
     "data": {
      "text/plain": [
       "{'celery@ip-172-31-0-150': {'ok': 'pong'}}"
      ]
     },
     "execution_count": 5,
     "metadata": {},
     "output_type": "execute_result"
    }
   ],
   "source": [
    "celery.current_app.control.inspect().ping()"
   ]
  },
  {
   "cell_type": "code",
   "execution_count": 6,
   "metadata": {},
   "outputs": [
    {
     "name": "stdout",
     "output_type": "stream",
     "text": [
      "['celery@ip-172-31-0-150']\n"
     ]
    }
   ],
   "source": [
    "mykeys=list(celery.current_app.control.inspect().stats().keys())\n",
    "print(mykeys)"
   ]
  },
  {
   "cell_type": "code",
   "execution_count": 7,
   "metadata": {},
   "outputs": [
    {
     "data": {
      "text/plain": [
       "'172.31.0.150'"
      ]
     },
     "execution_count": 7,
     "metadata": {},
     "output_type": "execute_result"
    }
   ],
   "source": [
    "socket.gethostbyname(socket.gethostname())"
   ]
  },
  {
   "cell_type": "code",
   "execution_count": 8,
   "metadata": {},
   "outputs": [
    {
     "data": {
      "text/plain": [
       "{'max-concurrency': 3,\n",
       " 'processes': [19273, 19274, 19275],\n",
       " 'max-tasks-per-child': 'N/A',\n",
       " 'put-guarded-by-semaphore': False,\n",
       " 'timeouts': [0, 0],\n",
       " 'writes': {'total': 0,\n",
       "  'avg': '0.00%',\n",
       "  'all': '',\n",
       "  'raw': '',\n",
       "  'strategy': 'fair',\n",
       "  'inqueues': {'total': 3, 'active': 0}}}"
      ]
     },
     "execution_count": 8,
     "metadata": {},
     "output_type": "execute_result"
    }
   ],
   "source": [
    "mydict=celery.current_app.control.inspect().stats()[mykeys[0]]\n",
    "mydict['pool']"
   ]
  },
  {
   "cell_type": "code",
   "execution_count": 9,
   "metadata": {},
   "outputs": [
    {
     "ename": "IndexError",
     "evalue": "list index out of range",
     "output_type": "error",
     "traceback": [
      "\u001b[0;31m---------------------------------------------------------------------------\u001b[0m",
      "\u001b[0;31mIndexError\u001b[0m                                Traceback (most recent call last)",
      "\u001b[0;32m<ipython-input-9-ff4b743a70b5>\u001b[0m in \u001b[0;36m<module>\u001b[0;34m()\u001b[0m\n\u001b[0;32m----> 1\u001b[0;31m \u001b[0mmydict\u001b[0m\u001b[0;34m=\u001b[0m\u001b[0mcelery\u001b[0m\u001b[0;34m.\u001b[0m\u001b[0mcurrent_app\u001b[0m\u001b[0;34m.\u001b[0m\u001b[0mcontrol\u001b[0m\u001b[0;34m.\u001b[0m\u001b[0minspect\u001b[0m\u001b[0;34m(\u001b[0m\u001b[0;34m)\u001b[0m\u001b[0;34m.\u001b[0m\u001b[0mstats\u001b[0m\u001b[0;34m(\u001b[0m\u001b[0;34m)\u001b[0m\u001b[0;34m[\u001b[0m\u001b[0mmykeys\u001b[0m\u001b[0;34m[\u001b[0m\u001b[0;36m1\u001b[0m\u001b[0;34m]\u001b[0m\u001b[0;34m]\u001b[0m\u001b[0;34m\u001b[0m\u001b[0m\n\u001b[0m\u001b[1;32m      2\u001b[0m \u001b[0mmydict\u001b[0m\u001b[0;34m[\u001b[0m\u001b[0;34m'pool'\u001b[0m\u001b[0;34m]\u001b[0m\u001b[0;34m\u001b[0m\u001b[0m\n",
      "\u001b[0;31mIndexError\u001b[0m: list index out of range"
     ]
    }
   ],
   "source": [
    "mydict=celery.current_app.control.inspect().stats()[mykeys[1]]\n",
    "mydict['pool']"
   ]
  },
  {
   "cell_type": "code",
   "execution_count": 10,
   "metadata": {},
   "outputs": [
    {
     "data": {
      "text/plain": [
       "19636"
      ]
     },
     "execution_count": 10,
     "metadata": {},
     "output_type": "execute_result"
    }
   ],
   "source": [
    "import os\n",
    "\n",
    "os.getpid()"
   ]
  },
  {
   "cell_type": "code",
   "execution_count": 12,
   "metadata": {},
   "outputs": [
    {
     "name": "stdout",
     "output_type": "stream",
     "text": [
      "***\n",
      "['172.31.0.150_ForkPoolWorker-2__1000_246_70087_**13088****']\n",
      "['172.31.0.150_ForkPoolWorker-3__1000_246_70096****']\n",
      "***\n",
      "***\n",
      "['172.31.0.150_ForkPoolWorker-1__1001_246_70104_**13087****']\n",
      "['172.31.0.150_ForkPoolWorker-2__1001_678_70111****', '172.31.0.150_ForkPoolWorker-2__1000_246_70087_**13088****']\n",
      "***\n",
      "***\n",
      "['172.31.0.150_ForkPoolWorker-3__1002_678_70116_**13090****', '172.31.0.150_ForkPoolWorker-3__1000_246_70096****']\n",
      "['172.31.0.150_ForkPoolWorker-1__1002_678_70122****', '172.31.0.150_ForkPoolWorker-1__1001_246_70104_**13087****']\n",
      "***\n",
      "***\n",
      "['172.31.0.150_ForkPoolWorker-2__1003_785_70127_**13088****', '172.31.0.150_ForkPoolWorker-2__1001_678_70111****']\n",
      "['172.31.0.150_ForkPoolWorker-3__1003_785_70130****', '172.31.0.150_ForkPoolWorker-3__1002_678_70116_**13090****']\n",
      "***\n",
      "***\n",
      "['172.31.0.150_ForkPoolWorker-1__1004_785_70135_**13087****', '172.31.0.150_ForkPoolWorker-1__1002_678_70122****']\n",
      "['172.31.0.150_ForkPoolWorker-2__1004_608_70142****', '172.31.0.150_ForkPoolWorker-2__1003_785_70127_**13088****']\n",
      "***\n",
      "***\n",
      "['172.31.0.150_ForkPoolWorker-3__1005_608_70148_**13090****', '172.31.0.150_ForkPoolWorker-3__1003_785_70130****']\n",
      "['172.31.0.150_ForkPoolWorker-1__1005_608_70151****', '172.31.0.150_ForkPoolWorker-1__1004_785_70135_**13087****']\n",
      "***\n",
      "***\n",
      "['172.31.0.150_ForkPoolWorker-2__1006_885_70156_**13088****', '172.31.0.150_ForkPoolWorker-2__1004_608_70142****']\n",
      "['172.31.0.150_ForkPoolWorker-3__1006_885_70159****', '172.31.0.150_ForkPoolWorker-3__1005_608_70148_**13090****']\n",
      "***\n",
      "***\n",
      "['172.31.0.150_ForkPoolWorker-1__1007_885_70162_**13087****', '172.31.0.150_ForkPoolWorker-1__1005_608_70151****']\n",
      "['172.31.0.150_ForkPoolWorker-2__1007_242_70165****', '172.31.0.150_ForkPoolWorker-2__1006_885_70156_**13088****']\n",
      "***\n",
      "***\n",
      "['172.31.0.150_ForkPoolWorker-3__1008_242_70167_**13090****', '172.31.0.150_ForkPoolWorker-3__1006_885_70159****']\n",
      "['172.31.0.150_ForkPoolWorker-1__1008_242_70170****', '172.31.0.150_ForkPoolWorker-1__1007_885_70162_**13087****']\n",
      "***\n",
      "***\n",
      "['172.31.0.150_ForkPoolWorker-2__1009_800_70176_**13088****', '172.31.0.150_ForkPoolWorker-2__1007_242_70165****']\n",
      "['172.31.0.150_ForkPoolWorker-3__1009_800_70179****', '172.31.0.150_ForkPoolWorker-3__1008_242_70167_**13090****']\n",
      "***\n",
      "***\n",
      "['172.31.0.150_ForkPoolWorker-1__1010_800_70184_**13087****', '172.31.0.150_ForkPoolWorker-1__1008_242_70170****']\n",
      "['172.31.0.150_ForkPoolWorker-2__1010_166_70189****', '172.31.0.150_ForkPoolWorker-2__1009_800_70176_**13088****']\n",
      "***\n",
      "***\n",
      "['172.31.0.150_ForkPoolWorker-3__1011_166_70193_**13090****', '172.31.0.150_ForkPoolWorker-3__1009_800_70179****']\n",
      "['172.31.0.150_ForkPoolWorker-1__1011_166_70197****', '172.31.0.150_ForkPoolWorker-1__1010_800_70184_**13087****']\n",
      "***\n",
      "***\n",
      "['172.31.0.150_ForkPoolWorker-2__1012_755_70202_**13088****', '172.31.0.150_ForkPoolWorker-2__1010_166_70189****']\n",
      "['172.31.0.150_ForkPoolWorker-3__1012_755_70207****', '172.31.0.150_ForkPoolWorker-3__1011_166_70193_**13090****']\n",
      "***\n",
      "***\n",
      "['172.31.0.150_ForkPoolWorker-1__1013_755_70211_**13087****', '172.31.0.150_ForkPoolWorker-1__1011_166_70197****']\n",
      "['172.31.0.150_ForkPoolWorker-2__1013_649_70216****', '172.31.0.150_ForkPoolWorker-2__1012_755_70202_**13088****']\n",
      "***\n",
      "***\n",
      "['172.31.0.150_ForkPoolWorker-3__1014_649_70218_**13090****', '172.31.0.150_ForkPoolWorker-3__1012_755_70207****']\n",
      "['172.31.0.150_ForkPoolWorker-1__1014_649_70224****', '172.31.0.150_ForkPoolWorker-1__1013_755_70211_**13087****']\n",
      "***\n",
      "***\n",
      "['172.31.0.150_ForkPoolWorker-2__1015_336_70228_**13088****', '172.31.0.150_ForkPoolWorker-2__1013_649_70216****']\n",
      "['172.31.0.150_ForkPoolWorker-3__1015_336_70233****', '172.31.0.150_ForkPoolWorker-3__1014_649_70218_**13090****']\n",
      "***\n",
      "***\n",
      "['172.31.0.150_ForkPoolWorker-1__1016_336_70238_**13087****', '172.31.0.150_ForkPoolWorker-1__1014_649_70224****']\n",
      "['172.31.0.150_ForkPoolWorker-2__1016_664_70254****', '172.31.0.150_ForkPoolWorker-2__1015_336_70228_**13088****']\n",
      "***\n",
      "***\n",
      "['172.31.0.150_ForkPoolWorker-3__1017_664_70263_**13090****', '172.31.0.150_ForkPoolWorker-3__1015_336_70233****']\n",
      "['172.31.0.150_ForkPoolWorker-1__1017_664_70265****', '172.31.0.150_ForkPoolWorker-1__1016_336_70238_**13087****']\n",
      "***\n",
      "***\n",
      "['172.31.0.150_ForkPoolWorker-2__1018_461_70280_**13088****', '172.31.0.150_ForkPoolWorker-2__1016_664_70254****']\n",
      "['172.31.0.150_ForkPoolWorker-3__1018_461_70287****', '172.31.0.150_ForkPoolWorker-3__1017_664_70263_**13090****']\n",
      "***\n",
      "***\n",
      "['172.31.0.150_ForkPoolWorker-1__1019_461_70295_**13087****', '172.31.0.150_ForkPoolWorker-1__1017_664_70265****']\n",
      "['172.31.0.150_ForkPoolWorker-2__1019_814_70301****', '172.31.0.150_ForkPoolWorker-2__1018_461_70280_**13088****']\n",
      "***\n",
      "***\n",
      "['172.31.0.150_ForkPoolWorker-3__1020_814_70309_**13090****', '172.31.0.150_ForkPoolWorker-3__1018_461_70287****']\n",
      "['172.31.0.150_ForkPoolWorker-1__1020_814_70316****', '172.31.0.150_ForkPoolWorker-1__1019_461_70295_**13087****']\n",
      "***\n",
      "***\n",
      "['172.31.0.150_ForkPoolWorker-2__1021_485_70324_**13088****', '172.31.0.150_ForkPoolWorker-2__1019_814_70301****']\n",
      "['172.31.0.150_ForkPoolWorker-3__1021_485_70335****', '172.31.0.150_ForkPoolWorker-3__1020_814_70309_**13090****']\n",
      "***\n",
      "***\n",
      "['172.31.0.150_ForkPoolWorker-1__1022_485_70345_**13087****', '172.31.0.150_ForkPoolWorker-1__1020_814_70316****']\n",
      "['172.31.0.150_ForkPoolWorker-2__1022_376_70350****', '172.31.0.150_ForkPoolWorker-2__1021_485_70324_**13088****']\n",
      "***\n",
      "***\n",
      "['172.31.0.150_ForkPoolWorker-3__1023_376_70354_**13090****', '172.31.0.150_ForkPoolWorker-3__1021_485_70335****']\n",
      "['172.31.0.150_ForkPoolWorker-1__1023_376_70370****', '172.31.0.150_ForkPoolWorker-1__1022_485_70345_**13087****']\n",
      "***\n",
      "***\n",
      "['172.31.0.150_ForkPoolWorker-2__1024_286_70376_**13088****', '172.31.0.150_ForkPoolWorker-2__1022_376_70350****']\n",
      "['172.31.0.150_ForkPoolWorker-3__1024_286_70381****', '172.31.0.150_ForkPoolWorker-3__1023_376_70354_**13090****']\n",
      "***\n",
      "***\n",
      "['172.31.0.150_ForkPoolWorker-1__1025_286_70389_**13087****', '172.31.0.150_ForkPoolWorker-1__1023_376_70370****']\n",
      "['172.31.0.150_ForkPoolWorker-2__1025_304_70392****', '172.31.0.150_ForkPoolWorker-2__1024_286_70376_**13088****']\n",
      "***\n",
      "***\n",
      "['172.31.0.150_ForkPoolWorker-3__1026_304_70397_**13090****', '172.31.0.150_ForkPoolWorker-3__1024_286_70381****']\n",
      "['172.31.0.150_ForkPoolWorker-1__1026_304_70401****', '172.31.0.150_ForkPoolWorker-1__1025_286_70389_**13087****']\n",
      "***\n",
      "***\n",
      "['172.31.0.150_ForkPoolWorker-2__1027_922_70405_**13088****', '172.31.0.150_ForkPoolWorker-2__1025_304_70392****']\n",
      "['172.31.0.150_ForkPoolWorker-3__1027_922_70418****', '172.31.0.150_ForkPoolWorker-3__1026_304_70397_**13090****']\n",
      "***\n",
      "***\n",
      "['172.31.0.150_ForkPoolWorker-1__1028_922_70434_**13087****', '172.31.0.150_ForkPoolWorker-1__1026_304_70401****']\n",
      "['172.31.0.150_ForkPoolWorker-2__1028_807_70438****', '172.31.0.150_ForkPoolWorker-2__1027_922_70405_**13088****']\n",
      "***\n",
      "***\n",
      "['172.31.0.150_ForkPoolWorker-3__1029_807_70450_**13090****', '172.31.0.150_ForkPoolWorker-3__1027_922_70418****']\n",
      "['172.31.0.150_ForkPoolWorker-1__1029_807_70459****', '172.31.0.150_ForkPoolWorker-1__1028_922_70434_**13087****']\n",
      "***\n"
     ]
    }
   ],
   "source": [
    "for iter in range(0,30):\n",
    "    myresult1=message_to_workers1.delay(str(1000+iter)) \n",
    "    result1=myresult1.get()\n",
    "    \n",
    "    myresult2=message_to_workers2.delay(str(1000+iter))\n",
    "    result2=myresult2.get()\n",
    "    print('***')\n",
    "    print(result1)\n",
    "    print(result2)\n",
    "    print('***')"
   ]
  },
  {
   "cell_type": "code",
   "execution_count": null,
   "metadata": {},
   "outputs": [],
   "source": []
  }
 ],
 "metadata": {
  "kernelspec": {
   "display_name": "Environment (conda_python3)",
   "language": "python",
   "name": "conda_python3"
  },
  "language_info": {
   "codemirror_mode": {
    "name": "ipython",
    "version": 3
   },
   "file_extension": ".py",
   "mimetype": "text/x-python",
   "name": "python",
   "nbconvert_exporter": "python",
   "pygments_lexer": "ipython3",
   "version": "3.6.5"
  }
 },
 "nbformat": 4,
 "nbformat_minor": 2
}

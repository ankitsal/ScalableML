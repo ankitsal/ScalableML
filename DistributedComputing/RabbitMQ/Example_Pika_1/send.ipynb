{
 "cells": [
  {
   "cell_type": "markdown",
   "metadata": {},
   "source": [
    "# Using rabbitmq-server Message Broker with Amazon AWS"
   ]
  },
  {
   "cell_type": "markdown",
   "metadata": {},
   "source": [
    "### Installation"
   ]
  },
  {
   "cell_type": "markdown",
   "metadata": {},
   "source": [
    "### check notes on http://kronosapiens.github.io/blog/2015/04/28/rabbitmq-aws.html"
   ]
  },
  {
   "cell_type": "markdown",
   "metadata": {},
   "source": [
    "Install rabbitmq-server server first:"
   ]
  },
  {
   "cell_type": "code",
   "execution_count": 1,
   "metadata": {},
   "outputs": [],
   "source": [
    "#!sudo apt-get install rabbitmq-server"
   ]
  },
  {
   "cell_type": "markdown",
   "metadata": {},
   "source": [
    "check if the rabbitmq server is up and runnning: "
   ]
  },
  {
   "cell_type": "code",
   "execution_count": 2,
   "metadata": {},
   "outputs": [
    {
     "name": "stdout",
     "output_type": "stream",
     "text": [
      "Status of node 'rabbit@ip-172-31-3-77' ...\n",
      "[{pid,1995},\n",
      " {running_applications,[{rabbit,\"RabbitMQ\",\"3.5.7\"},\n",
      "                        {mnesia,\"MNESIA  CXC 138 12\",\"4.13.3\"},\n",
      "                        {xmerl,\"XML parser\",\"1.3.10\"},\n",
      "                        {os_mon,\"CPO  CXC 138 46\",\"2.4\"},\n",
      "                        {sasl,\"SASL  CXC 138 11\",\"2.7\"},\n",
      "                        {stdlib,\"ERTS  CXC 138 10\",\"2.8\"},\n",
      "                        {kernel,\"ERTS  CXC 138 10\",\"4.2\"}]},\n",
      " {os,{unix,linux}},\n",
      " {erlang_version,\"Erlang/OTP 18 [erts-7.3] [source] [64-bit] [smp:4:4] [async-threads:64] [kernel-poll:true]\\n\"},\n",
      " {memory,[{total,45752592},\n",
      "          {connection_readers,9072},\n",
      "          {connection_writers,2712},\n",
      "          {connection_channels,6016},\n",
      "          {connection_other,33888},\n",
      "          {queue_procs,43000},\n",
      "          {queue_slave_procs,0},\n",
      "          {plugins,0},\n",
      "          {other_proc,13280264},\n",
      "          {mnesia,65048},\n",
      "          {mgmt_db,0},\n",
      "          {msg_index,46952},\n",
      "          {other_ets,773384},\n",
      "          {binary,2874208},\n",
      "          {code,16965867},\n",
      "          {atom,654217},\n",
      "          {other_system,10997964}]},\n",
      " {alarms,[]},\n",
      " {listeners,[{clustering,25672,\"::\"},{amqp,5672,\"::\"}]},\n",
      " {vm_memory_high_watermark,0.4},\n",
      " {vm_memory_limit,6727309721},\n",
      " {disk_free_limit,50000000},\n",
      " {disk_free,17653022720},\n",
      " {file_descriptors,[{total_limit,65436},\n",
      "                    {total_used,4},\n",
      "                    {sockets_limit,58890},\n",
      "                    {sockets_used,2}]},\n",
      " {processes,[{limit,1048576},{used,144}]},\n",
      " {run_queue,0},\n",
      " {uptime,18427}]\n"
     ]
    }
   ],
   "source": [
    "!sudo rabbitmqctl status"
   ]
  },
  {
   "cell_type": "markdown",
   "metadata": {},
   "source": [
    "RabbitMQ comes with a “guest” user out of the box, but this user is not configured to accept external requests. This would be fine if you were planning on sending and consuming messages locally, but we are not.\n",
    "\n",
    "The easiest way to configure RabbitMQ to accept external requests is to create a new user. Go ahead and run the following. (Feel free to chahnge the myguest username and password to anytihng you like):"
   ]
  },
  {
   "cell_type": "code",
   "execution_count": 3,
   "metadata": {},
   "outputs": [
    {
     "name": "stdout",
     "output_type": "stream",
     "text": [
      "Creating user \"myguest\" ...\n",
      "Error: user_already_exists: myguest\n",
      "Setting permissions for user \"myguest\" in vhost \"/\" ...\n"
     ]
    }
   ],
   "source": [
    "!sudo rabbitmqctl add_user myguest myguestpwd\n",
    "!sudo rabbitmqctl set_permissions -p / myguest \".\" \".\" \".*\""
   ]
  },
  {
   "cell_type": "markdown",
   "metadata": {},
   "source": [
    "This will create a new user on the RabbitMQ server. We will use this username and password to configure the app-layer instance to send messages to Rabbit.\n",
    "\n",
    "Let’s check to make sure the user was created correctly:"
   ]
  },
  {
   "cell_type": "code",
   "execution_count": 4,
   "metadata": {},
   "outputs": [
    {
     "name": "stdout",
     "output_type": "stream",
     "text": [
      "Listing users ...\n",
      "guest\t[administrator]\n",
      "myguest\t[]\n"
     ]
    }
   ],
   "source": [
    "!sudo rabbitmqctl list_users"
   ]
  },
  {
   "cell_type": "markdown",
   "metadata": {},
   "source": [
    "Pika is a pure-Python implementation of the AMQP 0-9-1 protocol that is used by RabbitMQ."
   ]
  },
  {
   "cell_type": "markdown",
   "metadata": {},
   "source": [
    "### For more details see  https://www.rabbitmq.com/tutorials/tutorial-one-python.html"
   ]
  },
  {
   "cell_type": "code",
   "execution_count": 5,
   "metadata": {},
   "outputs": [],
   "source": [
    "#!pip install pika --upgrade"
   ]
  },
  {
   "cell_type": "code",
   "execution_count": 1,
   "metadata": {},
   "outputs": [],
   "source": [
    "import pika"
   ]
  },
  {
   "cell_type": "code",
   "execution_count": 2,
   "metadata": {},
   "outputs": [
    {
     "data": {
      "text/plain": [
       "'1.0.0'"
      ]
     },
     "execution_count": 2,
     "metadata": {},
     "output_type": "execute_result"
    }
   ],
   "source": [
    "pika.__version__"
   ]
  },
  {
   "cell_type": "markdown",
   "metadata": {},
   "source": [
    "#### Queues\n",
    "\n",
    "A queue is the name for a post box which lives inside RabbitMQ. Although messages flow through RabbitMQ and your applications, they can only be stored inside a queue. A queue is only bound by the host's memory & disk limits, it's essentially a large message buffer. Many producers can send messages that go to one queue, and many consumers can try to receive data from one queue. "
   ]
  },
  {
   "cell_type": "markdown",
   "metadata": {},
   "source": [
    "### Example for sending message on Localhost "
   ]
  },
  {
   "cell_type": "code",
   "execution_count": 3,
   "metadata": {},
   "outputs": [],
   "source": [
    "# create a connection to 'localhost'\n",
    "connection_local = pika.BlockingConnection(pika.ConnectionParameters('localhost'))\n"
   ]
  },
  {
   "cell_type": "code",
   "execution_count": 4,
   "metadata": {},
   "outputs": [],
   "source": [
    "# create a channel on this connection:\n",
    "channel_local = connection_local.channel()"
   ]
  },
  {
   "cell_type": "code",
   "execution_count": 5,
   "metadata": {},
   "outputs": [
    {
     "data": {
      "text/plain": [
       "<METHOD(['channel_number=1', 'frame_type=1', \"method=<Queue.DeclareOk(['consumer_count=1', 'message_count=0', 'queue=hello_local'])>\"])>"
      ]
     },
     "execution_count": 5,
     "metadata": {},
     "output_type": "execute_result"
    }
   ],
   "source": [
    "# set up the queue\n",
    "# Creating a queue using queue_declare is idempotent ‒ we can run the command as many times as we like, \n",
    "# and only one will be created.\n",
    "\n",
    "channel_local.queue_declare(queue='hello_local')"
   ]
  },
  {
   "cell_type": "markdown",
   "metadata": {},
   "source": [
    "Before you run the next cell, run the 'recive_localhost' code as well. That program will wait for message"
   ]
  },
  {
   "cell_type": "code",
   "execution_count": 6,
   "metadata": {},
   "outputs": [
    {
     "name": "stdout",
     "output_type": "stream",
     "text": [
      " [x] Sent 'Hello World 1!'\n"
     ]
    }
   ],
   "source": [
    "# send a message to this channel by specifiying a routing_key\n",
    "# set the routing_key to the same as  the queue name!\n",
    "\n",
    "channel_local.basic_publish(exchange='',\n",
    "                      routing_key='hello_local',\n",
    "                      body='Hello World 1!')\n",
    "print(\" [x] Sent 'Hello World 1!'\")"
   ]
  },
  {
   "cell_type": "code",
   "execution_count": 7,
   "metadata": {},
   "outputs": [],
   "source": [
    "connection_local.close()"
   ]
  },
  {
   "cell_type": "markdown",
   "metadata": {},
   "source": [
    "### Here is another way with setting up credentials"
   ]
  },
  {
   "cell_type": "code",
   "execution_count": 8,
   "metadata": {},
   "outputs": [
    {
     "data": {
      "text/plain": [
       "<METHOD(['channel_number=1', 'frame_type=1', \"method=<Queue.DeclareOk(['consumer_count=1', 'message_count=0', 'queue=hello_local'])>\"])>"
      ]
     },
     "execution_count": 8,
     "metadata": {},
     "output_type": "execute_result"
    }
   ],
   "source": [
    "credentials = pika.PlainCredentials('myguest', 'myguestpwd')\n",
    "parameters =  pika.ConnectionParameters('localhost', port=5672, credentials=credentials)\n",
    "connection = pika.BlockingConnection(parameters)\n",
    "channel = connection.channel()\n",
    "channel.queue_declare(queue='hello_local')"
   ]
  },
  {
   "cell_type": "code",
   "execution_count": 9,
   "metadata": {},
   "outputs": [
    {
     "name": "stdout",
     "output_type": "stream",
     "text": [
      " [x] Sent 'Hello World 2!'\n"
     ]
    }
   ],
   "source": [
    "# set the routing key to be the queu name.\n",
    "channel.basic_publish(exchange='',\n",
    "                      routing_key='hello_local',\n",
    "                      body='Hello World 2!')\n",
    "print(\" [x] Sent 'Hello World 2!'\")"
   ]
  },
  {
   "cell_type": "code",
   "execution_count": 10,
   "metadata": {},
   "outputs": [],
   "source": [
    "connection.close()"
   ]
  },
  {
   "cell_type": "markdown",
   "metadata": {},
   "source": [
    "you can list the exisitng queues"
   ]
  },
  {
   "cell_type": "code",
   "execution_count": 11,
   "metadata": {},
   "outputs": [
    {
     "name": "stdout",
     "output_type": "stream",
     "text": [
      "Listing queues ...\r\n",
      "hello\t5\r\n",
      "hello2\t0\r\n",
      "hello_local\t0\r\n"
     ]
    }
   ],
   "source": [
    "!sudo rabbitmqctl list_queues"
   ]
  },
  {
   "cell_type": "markdown",
   "metadata": {},
   "source": [
    "### Example for sending message through web"
   ]
  },
  {
   "cell_type": "markdown",
   "metadata": {},
   "source": [
    "Below I'm using a balance loader (PROD-JOB-844fd7d2202ac4da.elb.us-east-2.amazonaws.com) that I set up on AWS. \n",
    "You should change it to your machine's address"
   ]
  },
  {
   "cell_type": "markdown",
   "metadata": {},
   "source": [
    "Before you run the next cell, make sure AWS \"Target groups\" in the \"Load balancing\" are set up correctly and the instances are registered. "
   ]
  },
  {
   "cell_type": "code",
   "execution_count": 16,
   "metadata": {},
   "outputs": [],
   "source": [
    "credentials = pika.PlainCredentials('myguest', 'myguestpwd')\n",
    "parameters =  pika.ConnectionParameters('PROD-JOB-844fd7d2202ac4da.elb.us-east-2.amazonaws.com', port=5672, credentials=credentials)\n",
    "connection = pika.BlockingConnection(parameters)\n",
    "channel = connection.channel()"
   ]
  },
  {
   "cell_type": "markdown",
   "metadata": {},
   "source": [
    "Before you run the next cell, you should also run the receiver: \"receive_through_url.ipynb\""
   ]
  },
  {
   "cell_type": "code",
   "execution_count": 17,
   "metadata": {},
   "outputs": [
    {
     "name": "stdout",
     "output_type": "stream",
     "text": [
      " [x] Sent 'Hello World3!'\n"
     ]
    }
   ],
   "source": [
    "channel.basic_publish(exchange='',\n",
    "                      routing_key='hello2',\n",
    "                      body='Hello World3!')\n",
    "print(\" [x] Sent 'Hello World3!'\")"
   ]
  },
  {
   "cell_type": "code",
   "execution_count": 18,
   "metadata": {},
   "outputs": [],
   "source": [
    "connection.close()"
   ]
  },
  {
   "cell_type": "code",
   "execution_count": null,
   "metadata": {},
   "outputs": [],
   "source": []
  }
 ],
 "metadata": {
  "kernelspec": {
   "display_name": "Environment (conda_python3)",
   "language": "python",
   "name": "conda_python3"
  },
  "language_info": {
   "codemirror_mode": {
    "name": "ipython",
    "version": 3
   },
   "file_extension": ".py",
   "mimetype": "text/x-python",
   "name": "python",
   "nbconvert_exporter": "python",
   "pygments_lexer": "ipython3",
   "version": "3.6.5"
  }
 },
 "nbformat": 4,
 "nbformat_minor": 2
}

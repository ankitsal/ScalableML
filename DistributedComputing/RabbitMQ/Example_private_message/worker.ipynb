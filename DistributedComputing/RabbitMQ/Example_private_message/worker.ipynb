{
 "cells": [
  {
   "cell_type": "code",
   "execution_count": 1,
   "metadata": {},
   "outputs": [],
   "source": [
    "#start multiple workers. They will all receive the boradcasted messages"
   ]
  },
  {
   "cell_type": "code",
   "execution_count": 3,
   "metadata": {},
   "outputs": [
    {
     "data": {
      "text/plain": [
       "'1.0.0'"
      ]
     },
     "execution_count": 3,
     "metadata": {},
     "output_type": "execute_result"
    }
   ],
   "source": [
    "import pika\n",
    "pika.__version__"
   ]
  },
  {
   "cell_type": "code",
   "execution_count": 4,
   "metadata": {},
   "outputs": [],
   "source": [
    "import time\n",
    "\n",
    "import numpy as np\n",
    "\n",
    "from billiard import current_process\n",
    "import json\n",
    "import math\n",
    "import socket\n",
    "import os"
   ]
  },
  {
   "cell_type": "code",
   "execution_count": 5,
   "metadata": {},
   "outputs": [
    {
     "name": "stdout",
     "output_type": "stream",
     "text": [
      "MainProcess\n",
      "172.31.12.74\n",
      "28610\n",
      "1554316231.399851\n",
      "***************\n",
      "queue_172.31.12.74_28610\n"
     ]
    }
   ],
   "source": [
    "p = current_process()\n",
    "print(current_process()._name)\n",
    "    \n",
    "tmpip= socket.gethostbyname(socket.gethostname())\n",
    "print(tmpip)\n",
    "print(str(os.getpid()))\n",
    "\n",
    "print(time.time())\n",
    "print('***************')\n",
    "queueName ='queue_'+tmpip+'_'+str(os.getpid())\n",
    "print(queueName)"
   ]
  },
  {
   "cell_type": "code",
   "execution_count": 6,
   "metadata": {},
   "outputs": [],
   "source": [
    "credentials = pika.PlainCredentials('barnabas', 'barnabaspwd')\n",
    "    \n",
    "#URL='localhost'\n",
    "URL='BarnabasBalancer-406f3065f2a02a86.elb.us-east-2.amazonaws.com'\n",
    "parameters =  pika.ConnectionParameters(URL, port=5672, credentials=credentials)\n",
    "connection = pika.BlockingConnection(parameters)\n",
    "channel = connection.channel()\n",
    "\n",
    "\n"
   ]
  },
  {
   "cell_type": "code",
   "execution_count": 7,
   "metadata": {},
   "outputs": [],
   "source": [
    "#callback funtion on receiving messages\n",
    "def onMessage(channel, method, properties, body):\n",
    "    print(body)\n"
   ]
  },
  {
   "cell_type": "code",
   "execution_count": null,
   "metadata": {},
   "outputs": [
    {
     "name": "stdout",
     "output_type": "stream",
     "text": [
      " [*] Waiting for messages. To exit press CTRL+C\n",
      "b'MessageToEveryOne!2'\n",
      "b'MessageToEveryOne!3'\n",
      "b'MessageToEveryOne!4'\n"
     ]
    }
   ],
   "source": [
    "#exchangeName = \"testEx\"\n",
    "queueName = \"testQ2\"\n",
    "\n",
    "\n",
    "#connect\n",
    " #URL='localhost'\n",
    "URL='BarnabasBalancer-406f3065f2a02a86.elb.us-east-2.amazonaws.com'\n",
    "parameters =  pika.ConnectionParameters(URL, port=5672, credentials=credentials)\n",
    "connection = pika.BlockingConnection(parameters)\n",
    "channel = connection.channel()\n",
    "\n",
    "print(' [*] Waiting for messages. To exit press CTRL+C')\n",
    "#declare exchange and queue, bind them and consume messages\n",
    "#for fanout type exchange, routing key is useless\n",
    "channel.exchange_declare(exchange = exchangeName, exchange_type = \"fanout\", auto_delete = True)\n",
    "channel.queue_declare(queue = queueName, exclusive = True, auto_delete = True)\n",
    "channel.queue_bind(exchange = exchangeName, queue = queueName, routing_key = None)\n",
    "channel.basic_consume(queue = queueName, on_message_callback = onMessage, auto_ack = True)\n",
    "\n",
    "channel.start_consuming()"
   ]
  },
  {
   "cell_type": "code",
   "execution_count": null,
   "metadata": {},
   "outputs": [],
   "source": [
    "connection.close()"
   ]
  },
  {
   "cell_type": "code",
   "execution_count": null,
   "metadata": {},
   "outputs": [],
   "source": []
  }
 ],
 "metadata": {
  "kernelspec": {
   "display_name": "Environment (conda_python3)",
   "language": "python",
   "name": "conda_python3"
  },
  "language_info": {
   "codemirror_mode": {
    "name": "ipython",
    "version": 3
   },
   "file_extension": ".py",
   "mimetype": "text/x-python",
   "name": "python",
   "nbconvert_exporter": "python",
   "pygments_lexer": "ipython3",
   "version": "3.6.5"
  }
 },
 "nbformat": 4,
 "nbformat_minor": 2
}

{
 "cells": [
  {
   "cell_type": "markdown",
   "metadata": {},
   "source": [
    "pika examples: https://github.com/pika/pika/blob/master/examples"
   ]
  },
  {
   "cell_type": "code",
   "execution_count": 1,
   "metadata": {},
   "outputs": [],
   "source": [
    "#!pip install celery"
   ]
  },
  {
   "cell_type": "code",
   "execution_count": 2,
   "metadata": {},
   "outputs": [],
   "source": [
    "#!sudo rabbitmqctl add_user barnabas barnabaspwd\n",
    "#!sudo rabbitmqctl set_permissions -p / barnabas \".\" \".\" \".*\""
   ]
  },
  {
   "cell_type": "code",
   "execution_count": 3,
   "metadata": {},
   "outputs": [
    {
     "name": "stdout",
     "output_type": "stream",
     "text": [
      "Listing users ...\r\n",
      "barnabas\t[]\r\n",
      "guest\t[administrator]\r\n"
     ]
    }
   ],
   "source": [
    "!sudo rabbitmqctl list_users"
   ]
  },
  {
   "cell_type": "code",
   "execution_count": 4,
   "metadata": {},
   "outputs": [],
   "source": [
    "import random\n",
    "import time\n",
    "import numpy as np\n",
    "import json\n",
    "\n",
    "import celery\n",
    "\n",
    "import math\n",
    "import socket\n",
    "import os\n",
    "\n",
    "import pika\n",
    "import sys"
   ]
  },
  {
   "cell_type": "code",
   "execution_count": 5,
   "metadata": {},
   "outputs": [],
   "source": [
    "credentials = pika.PlainCredentials('barnabas', 'barnabaspwd')\n",
    "#URL='localhost'\n",
    "URL='BarnabasBalancer-406f3065f2a02a86.elb.us-east-2.amazonaws.com'\n",
    "parameters =  pika.ConnectionParameters(URL, port=5672, credentials=credentials)\n",
    "iter=0"
   ]
  },
  {
   "cell_type": "code",
   "execution_count": 10,
   "metadata": {},
   "outputs": [],
   "source": [
    "iter=iter+1\n",
    "connection = pika.BlockingConnection(parameters)\n",
    "channel = connection.channel()\n",
    "\n",
    "channel.queue_declare(queue='task_queue', durable=True)\n",
    "exchangeName = \"testEx\"\n",
    "#send message #for fanout type exchange, routing key is useless\n",
    "properties = pika.spec.BasicProperties(content_type = \"text/plain\", delivery_mode = 2)\n",
    "message = \"MessageToEveryOne!\"+str(iter)\n",
    "\n",
    "channel.basic_publish(exchange = exchangeName, routing_key = \"\", body = message, properties = properties)\n",
    "\n",
    "#disconnect\n",
    "connection.close()\n"
   ]
  },
  {
   "cell_type": "code",
   "execution_count": 7,
   "metadata": {},
   "outputs": [
    {
     "name": "stdout",
     "output_type": "stream",
     "text": [
      "Listing exchanges ...\n",
      "\tdirect\n",
      "amq.direct\tdirect\n",
      "amq.fanout\tfanout\n",
      "amq.headers\theaders\n",
      "amq.match\theaders\n",
      "amq.rabbitmq.log\ttopic\n",
      "amq.rabbitmq.trace\ttopic\n",
      "amq.topic\ttopic\n",
      "testEx\tfanout\n"
     ]
    }
   ],
   "source": [
    "!sudo rabbitmqctl list_exchanges"
   ]
  },
  {
   "cell_type": "code",
   "execution_count": null,
   "metadata": {},
   "outputs": [],
   "source": []
  }
 ],
 "metadata": {
  "kernelspec": {
   "display_name": "Environment (conda_python3)",
   "language": "python",
   "name": "conda_python3"
  },
  "language_info": {
   "codemirror_mode": {
    "name": "ipython",
    "version": 3
   },
   "file_extension": ".py",
   "mimetype": "text/x-python",
   "name": "python",
   "nbconvert_exporter": "python",
   "pygments_lexer": "ipython3",
   "version": "3.6.5"
  }
 },
 "nbformat": 4,
 "nbformat_minor": 2
}
